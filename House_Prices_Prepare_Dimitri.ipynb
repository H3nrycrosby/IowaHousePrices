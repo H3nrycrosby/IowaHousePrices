{
 "cells": [
  {
   "cell_type": "markdown",
   "metadata": {},
   "source": [
    "###### Importing libraries:"
   ]
  },
  {
   "cell_type": "code",
   "execution_count": 312,
   "metadata": {
    "collapsed": true
   },
   "outputs": [],
   "source": [
    "import numpy as np\n",
    "import pandas as pd\n",
    "from matplotlib import pyplot as plt\n",
    "% matplotlib inline"
   ]
  },
  {
   "cell_type": "markdown",
   "metadata": {
    "collapsed": true
   },
   "source": [
    "###### Reading in both test and train files"
   ]
  },
  {
   "cell_type": "code",
   "execution_count": 313,
   "metadata": {
    "collapsed": true
   },
   "outputs": [],
   "source": [
    "test = pd.read_csv('test.csv')\n",
    "train = pd.read_csv('train.csv')"
   ]
  },
  {
   "cell_type": "code",
   "execution_count": 314,
   "metadata": {},
   "outputs": [
    {
     "data": {
      "text/plain": [
       "(1460, 81)"
      ]
     },
     "execution_count": 314,
     "metadata": {},
     "output_type": "execute_result"
    }
   ],
   "source": [
    "# Check data frame sizes:\n",
    "train.shape  # 1460 by 81"
   ]
  },
  {
   "cell_type": "code",
   "execution_count": 315,
   "metadata": {
    "scrolled": true
   },
   "outputs": [
    {
     "data": {
      "text/plain": [
       "(1459, 80)"
      ]
     },
     "execution_count": 315,
     "metadata": {},
     "output_type": "execute_result"
    }
   ],
   "source": [
    "test.shape   # 1459 by 80 - why only 80 columns?"
   ]
  },
  {
   "cell_type": "code",
   "execution_count": 316,
   "metadata": {},
   "outputs": [
    {
     "data": {
      "text/plain": [
       "1460"
      ]
     },
     "execution_count": 316,
     "metadata": {},
     "output_type": "execute_result"
    }
   ],
   "source": [
    "# saving sample size as N for train and N2 for test:\n",
    "N = train.shape[0]\n",
    "N"
   ]
  },
  {
   "cell_type": "code",
   "execution_count": 317,
   "metadata": {},
   "outputs": [
    {
     "data": {
      "text/plain": [
       "1459"
      ]
     },
     "execution_count": 317,
     "metadata": {},
     "output_type": "execute_result"
    }
   ],
   "source": [
    "N2 = test.shape[0]\n",
    "N2"
   ]
  },
  {
   "cell_type": "code",
   "execution_count": 318,
   "metadata": {
    "collapsed": true
   },
   "outputs": [],
   "source": [
    "# Because test, unlike train, doesn't have the very last variable - SalePrice\n",
    "# list(train)\n",
    "# list(test)"
   ]
  },
  {
   "cell_type": "code",
   "execution_count": 319,
   "metadata": {
    "collapsed": true,
    "scrolled": true
   },
   "outputs": [],
   "source": [
    "# Checking column types:\n",
    "# train.dtypes   # 81 columns"
   ]
  },
  {
   "cell_type": "code",
   "execution_count": 320,
   "metadata": {
    "collapsed": true
   },
   "outputs": [],
   "source": [
    "# test.dtypes   # 80 columns"
   ]
  },
  {
   "cell_type": "markdown",
   "metadata": {},
   "source": [
    "#### MISSING DATA"
   ]
  },
  {
   "cell_type": "code",
   "execution_count": 631,
   "metadata": {},
   "outputs": [
    {
     "name": "stdout",
     "output_type": "stream",
     "text": [
      "HeatingQC        0.00\n",
      "CentralAir       0.00\n",
      "Electrical       0.07\n",
      "1stFlrSF         0.00\n",
      "2ndFlrSF         0.00\n",
      "LowQualFinSF     0.00\n",
      "GrLivArea        0.00\n",
      "BsmtFullBath     0.00\n",
      "BsmtHalfBath     0.00\n",
      "FullBath         0.00\n",
      "HalfBath         0.00\n",
      "BedroomAbvGr     0.00\n",
      "KitchenAbvGr     0.00\n",
      "KitchenQual      0.00\n",
      "TotRmsAbvGrd     0.00\n",
      "Functional       0.00\n",
      "Fireplaces       0.00\n",
      "FireplaceQu     47.26\n",
      "GarageType       5.55\n",
      "GarageYrBlt      5.55\n",
      "dtype: float64\n"
     ]
    }
   ],
   "source": [
    "# How many missings in each column?\n",
    "misscounts = np.sum(train.isnull(), axis=0)/N*100\n",
    "print(misscounts[40:60].round(2))\n",
    "# LotFrontage      17.7%\n",
    "# Alley            93.8% - not really missings, NA = no alley access to property\n",
    "# MasVnrType        0.5% (8 houses)\n",
    "# MasVnrArea        0.5% (8 houses)\n",
    "# BsmtQual          2.5%\n",
    "# BsmtCond          2.5%\n",
    "# BsmtExposure      2.6%\n",
    "# BsmtFinType1      2.5%\n",
    "# BsmtFinType2      2.6%\n",
    "# Electrical        0.1% (1 house)\n",
    "# FireplaceQu      47.3%\n",
    "# GarageType        5.5%\n",
    "# GarageYrBlt       5.5%\n",
    "# GarageFinish      5.5%\n",
    "# GarageQual        5.5%\n",
    "# GarageCond        5.5%\n",
    "# PoolQC           99.5%\n",
    "# Fence            80.8%\n",
    "# MiscFeature      96.3%"
   ]
  },
  {
   "cell_type": "code",
   "execution_count": 633,
   "metadata": {},
   "outputs": [
    {
     "name": "stdout",
     "output_type": "stream",
     "text": [
      "HeatingQC          0.00\n",
      "CentralAir         0.00\n",
      "Electrical         0.00\n",
      "1stFlrSF           0.00\n",
      "2ndFlrSF           0.00\n",
      "LowQualFinSF       0.00\n",
      "GrLivArea          0.00\n",
      "BsmtFullBath       0.14\n",
      "BsmtHalfBath       0.14\n",
      "FullBath           0.00\n",
      "HalfBath           0.00\n",
      "BedroomAbvGr       0.00\n",
      "KitchenAbvGr       0.00\n",
      "KitchenQual        0.07\n",
      "TotRmsAbvGrd       0.00\n",
      "Functional         0.14\n",
      "Fireplaces         0.00\n",
      "FireplaceQu       50.03\n",
      "GarageType         5.21\n",
      "GarageYrBlt        5.35\n",
      "GarageFinish       5.35\n",
      "GarageCars         0.07\n",
      "GarageArea         0.07\n",
      "GarageQual         5.35\n",
      "GarageCond         5.35\n",
      "PavedDrive         0.00\n",
      "WoodDeckSF         0.00\n",
      "OpenPorchSF        0.00\n",
      "EnclosedPorch      0.00\n",
      "3SsnPorch          0.00\n",
      "                  ...  \n",
      "gar_finish         0.00\n",
      "gar_qual           0.00\n",
      "gar_cond           0.00\n",
      "gar_perception     0.00\n",
      "driveway           0.00\n",
      "fence              0.00\n",
      "shed               0.00\n",
      "sales_convent      0.00\n",
      "sales_new          0.00\n",
      "sale_Abnorml       0.00\n",
      "sale_Family        0.00\n",
      "sale_Normal        0.00\n",
      "sale_Partial       0.00\n",
      "remodeled          0.00\n",
      "full_baths         0.14\n",
      "half_baths         0.14\n",
      "salesyear_07       0.00\n",
      "salesyear_08       0.00\n",
      "salesyear_09       0.00\n",
      "salesyear_10       0.00\n",
      "salesmo_3          0.00\n",
      "salesmo_4          0.00\n",
      "salesmo_5          0.00\n",
      "salesmo_6          0.00\n",
      "salesmo_7          0.00\n",
      "salesmo_8          0.00\n",
      "salesmo_9          0.00\n",
      "salesmo_10         0.00\n",
      "salesmo_11         0.00\n",
      "salesmo_12         0.00\n",
      "Length: 161, dtype: float64\n"
     ]
    }
   ],
   "source": [
    "misscounts2 = np.sum(test.isnull(), axis=0)/N2*100\n",
    "print(misscounts2[40:].round(2))\n",
    "# In addition to the above, has missings in:\n",
    "# MSZoning          0.27% - 4 houses\n",
    "# Utilities         0.14% - 2 houses\n",
    "# Exterior1st       0.07% - 1 house\n",
    "# Exterior2nd       0.07%\n",
    "# BsmtFinSF1        0.07%\n",
    "# BsmtFinSF2        0.07%\n",
    "# BsmtUnfSF         0.07%\n",
    "# TotalBsmtSF       0.07%\n",
    "# BsmtFullBath      0.14%\n",
    "# BsmtHalfBath      0.14%\n",
    "# KitchenQual       0.07%\n",
    "# Functional        0.14%\n",
    "# GarageCars        0.07%\n",
    "# GarageArea        0.07%\n",
    "# SaleType          0.07%"
   ]
  },
  {
   "cell_type": "markdown",
   "metadata": {},
   "source": [
    "#### Checking number of levels for categorical predictors"
   ]
  },
  {
   "cell_type": "markdown",
   "metadata": {},
   "source": [
    "###### MSSubClass: The building class (originally integer):"
   ]
  },
  {
   "cell_type": "markdown",
   "metadata": {},
   "source": [
    "Built dummies forthe levels with the highest incidence"
   ]
  },
  {
   "cell_type": "code",
   "execution_count": 323,
   "metadata": {},
   "outputs": [
    {
     "data": {
      "text/plain": [
       "20     36.71\n",
       "60     20.48\n",
       "50      9.86\n",
       "120     5.96\n",
       "30      4.73\n",
       "160     4.32\n",
       "70      4.11\n",
       "80      3.97\n",
       "90      3.56\n",
       "190     2.05\n",
       "85      1.37\n",
       "75      1.10\n",
       "45      0.82\n",
       "180     0.68\n",
       "40      0.27\n",
       "Name: MSSubClass, dtype: float64"
      ]
     },
     "execution_count": 323,
     "metadata": {},
     "output_type": "execute_result"
    }
   ],
   "source": [
    "# Observations in each level of MSSubClass (% of total):\n",
    "(train.MSSubClass.value_counts().sort_values(ascending = False)/N*100).round(2)"
   ]
  },
  {
   "cell_type": "code",
   "execution_count": 324,
   "metadata": {},
   "outputs": [
    {
     "data": {
      "text/plain": [
       "20     37.19\n",
       "60     18.90\n",
       "50      9.79\n",
       "120     6.51\n",
       "30      4.79\n",
       "70      4.66\n",
       "160     4.45\n",
       "80      4.11\n",
       "90      3.90\n",
       "190     2.12\n",
       "85      1.92\n",
       "75      0.48\n",
       "180     0.48\n",
       "45      0.41\n",
       "40      0.14\n",
       "150     0.07\n",
       "Name: MSSubClass, dtype: float64"
      ]
     },
     "execution_count": 324,
     "metadata": {},
     "output_type": "execute_result"
    }
   ],
   "source": [
    "# test dataset has one extra value (150) with only one observation:\n",
    "(test.MSSubClass.value_counts().sort_values(ascending = False)/N*100).round(2)"
   ]
  },
  {
   "cell_type": "code",
   "execution_count": 325,
   "metadata": {
    "collapsed": true
   },
   "outputs": [],
   "source": [
    "# Build dummies for some classes (with somewhat decent incidence levels):\n",
    "myclasses = [20, 60, 50, 120, 30, 70, 160, 80, 90, 190, 85]"
   ]
  },
  {
   "cell_type": "code",
   "execution_count": 326,
   "metadata": {
    "collapsed": true
   },
   "outputs": [],
   "source": [
    "for cl in myclasses:\n",
    "    forname = 'class_' + str(cl)\n",
    "    train[forname] = 0\n",
    "    test[forname] = 0\n",
    "    train.loc[train.MSSubClass == cl, forname] = 1\n",
    "    test.loc[test.MSSubClass == cl, forname] = 1"
   ]
  },
  {
   "cell_type": "code",
   "execution_count": 327,
   "metadata": {
    "scrolled": true
   },
   "outputs": [
    {
     "data": {
      "text/html": [
       "<div>\n",
       "<style>\n",
       "    .dataframe thead tr:only-child th {\n",
       "        text-align: right;\n",
       "    }\n",
       "\n",
       "    .dataframe thead th {\n",
       "        text-align: left;\n",
       "    }\n",
       "\n",
       "    .dataframe tbody tr th {\n",
       "        vertical-align: top;\n",
       "    }\n",
       "</style>\n",
       "<table border=\"1\" class=\"dataframe\">\n",
       "  <thead>\n",
       "    <tr style=\"text-align: right;\">\n",
       "      <th>MSSubClass</th>\n",
       "      <th>20</th>\n",
       "      <th>30</th>\n",
       "      <th>40</th>\n",
       "      <th>45</th>\n",
       "      <th>50</th>\n",
       "      <th>60</th>\n",
       "      <th>70</th>\n",
       "      <th>75</th>\n",
       "      <th>80</th>\n",
       "      <th>85</th>\n",
       "      <th>90</th>\n",
       "      <th>120</th>\n",
       "      <th>160</th>\n",
       "      <th>180</th>\n",
       "      <th>190</th>\n",
       "    </tr>\n",
       "    <tr>\n",
       "      <th>class_190</th>\n",
       "      <th></th>\n",
       "      <th></th>\n",
       "      <th></th>\n",
       "      <th></th>\n",
       "      <th></th>\n",
       "      <th></th>\n",
       "      <th></th>\n",
       "      <th></th>\n",
       "      <th></th>\n",
       "      <th></th>\n",
       "      <th></th>\n",
       "      <th></th>\n",
       "      <th></th>\n",
       "      <th></th>\n",
       "      <th></th>\n",
       "    </tr>\n",
       "  </thead>\n",
       "  <tbody>\n",
       "    <tr>\n",
       "      <th>0</th>\n",
       "      <td>536</td>\n",
       "      <td>69</td>\n",
       "      <td>4</td>\n",
       "      <td>12</td>\n",
       "      <td>144</td>\n",
       "      <td>299</td>\n",
       "      <td>60</td>\n",
       "      <td>16</td>\n",
       "      <td>58</td>\n",
       "      <td>20</td>\n",
       "      <td>52</td>\n",
       "      <td>87</td>\n",
       "      <td>63</td>\n",
       "      <td>10</td>\n",
       "      <td>0</td>\n",
       "    </tr>\n",
       "    <tr>\n",
       "      <th>1</th>\n",
       "      <td>0</td>\n",
       "      <td>0</td>\n",
       "      <td>0</td>\n",
       "      <td>0</td>\n",
       "      <td>0</td>\n",
       "      <td>0</td>\n",
       "      <td>0</td>\n",
       "      <td>0</td>\n",
       "      <td>0</td>\n",
       "      <td>0</td>\n",
       "      <td>0</td>\n",
       "      <td>0</td>\n",
       "      <td>0</td>\n",
       "      <td>0</td>\n",
       "      <td>30</td>\n",
       "    </tr>\n",
       "  </tbody>\n",
       "</table>\n",
       "</div>"
      ],
      "text/plain": [
       "MSSubClass  20   30   40   45   50   60   70   75   80   85   90   120  160  \\\n",
       "class_190                                                                     \n",
       "0           536   69    4   12  144  299   60   16   58   20   52   87   63   \n",
       "1             0    0    0    0    0    0    0    0    0    0    0    0    0   \n",
       "\n",
       "MSSubClass  180  190  \n",
       "class_190             \n",
       "0            10    0  \n",
       "1             0   30  "
      ]
     },
     "execution_count": 327,
     "metadata": {},
     "output_type": "execute_result"
    }
   ],
   "source": [
    "pd.crosstab(train.class_190, train.MSSubClass)"
   ]
  },
  {
   "cell_type": "code",
   "execution_count": 328,
   "metadata": {
    "scrolled": true
   },
   "outputs": [
    {
     "data": {
      "text/html": [
       "<div>\n",
       "<style>\n",
       "    .dataframe thead tr:only-child th {\n",
       "        text-align: right;\n",
       "    }\n",
       "\n",
       "    .dataframe thead th {\n",
       "        text-align: left;\n",
       "    }\n",
       "\n",
       "    .dataframe tbody tr th {\n",
       "        vertical-align: top;\n",
       "    }\n",
       "</style>\n",
       "<table border=\"1\" class=\"dataframe\">\n",
       "  <thead>\n",
       "    <tr style=\"text-align: right;\">\n",
       "      <th>MSSubClass</th>\n",
       "      <th>20</th>\n",
       "      <th>30</th>\n",
       "      <th>40</th>\n",
       "      <th>45</th>\n",
       "      <th>50</th>\n",
       "      <th>60</th>\n",
       "      <th>70</th>\n",
       "      <th>75</th>\n",
       "      <th>80</th>\n",
       "      <th>85</th>\n",
       "      <th>90</th>\n",
       "      <th>120</th>\n",
       "      <th>150</th>\n",
       "      <th>160</th>\n",
       "      <th>180</th>\n",
       "      <th>190</th>\n",
       "    </tr>\n",
       "    <tr>\n",
       "      <th>class_160</th>\n",
       "      <th></th>\n",
       "      <th></th>\n",
       "      <th></th>\n",
       "      <th></th>\n",
       "      <th></th>\n",
       "      <th></th>\n",
       "      <th></th>\n",
       "      <th></th>\n",
       "      <th></th>\n",
       "      <th></th>\n",
       "      <th></th>\n",
       "      <th></th>\n",
       "      <th></th>\n",
       "      <th></th>\n",
       "      <th></th>\n",
       "      <th></th>\n",
       "    </tr>\n",
       "  </thead>\n",
       "  <tbody>\n",
       "    <tr>\n",
       "      <th>0</th>\n",
       "      <td>543</td>\n",
       "      <td>70</td>\n",
       "      <td>2</td>\n",
       "      <td>6</td>\n",
       "      <td>143</td>\n",
       "      <td>276</td>\n",
       "      <td>68</td>\n",
       "      <td>7</td>\n",
       "      <td>60</td>\n",
       "      <td>28</td>\n",
       "      <td>57</td>\n",
       "      <td>95</td>\n",
       "      <td>1</td>\n",
       "      <td>0</td>\n",
       "      <td>7</td>\n",
       "      <td>31</td>\n",
       "    </tr>\n",
       "    <tr>\n",
       "      <th>1</th>\n",
       "      <td>0</td>\n",
       "      <td>0</td>\n",
       "      <td>0</td>\n",
       "      <td>0</td>\n",
       "      <td>0</td>\n",
       "      <td>0</td>\n",
       "      <td>0</td>\n",
       "      <td>0</td>\n",
       "      <td>0</td>\n",
       "      <td>0</td>\n",
       "      <td>0</td>\n",
       "      <td>0</td>\n",
       "      <td>0</td>\n",
       "      <td>65</td>\n",
       "      <td>0</td>\n",
       "      <td>0</td>\n",
       "    </tr>\n",
       "  </tbody>\n",
       "</table>\n",
       "</div>"
      ],
      "text/plain": [
       "MSSubClass  20   30   40   45   50   60   70   75   80   85   90   120  150  \\\n",
       "class_160                                                                     \n",
       "0           543   70    2    6  143  276   68    7   60   28   57   95    1   \n",
       "1             0    0    0    0    0    0    0    0    0    0    0    0    0   \n",
       "\n",
       "MSSubClass  160  180  190  \n",
       "class_160                  \n",
       "0             0    7   31  \n",
       "1            65    0    0  "
      ]
     },
     "execution_count": 328,
     "metadata": {},
     "output_type": "execute_result"
    }
   ],
   "source": [
    "pd.crosstab(test.class_160, test.MSSubClass)"
   ]
  },
  {
   "cell_type": "code",
   "execution_count": 329,
   "metadata": {},
   "outputs": [
    {
     "name": "stdout",
     "output_type": "stream",
     "text": [
      "(1460, 92)\n",
      "(1459, 91)\n"
     ]
    }
   ],
   "source": [
    "print(train.shape)\n",
    "print(test.shape)"
   ]
  },
  {
   "cell_type": "markdown",
   "metadata": {},
   "source": [
    "###### MSZoning: The general zoning classification (currently object)"
   ]
  },
  {
   "cell_type": "markdown",
   "metadata": {},
   "source": [
    "Built dummies for levels RL (Residential Low Density), RM (Residential Medium Density), FV (Floating Village Residential)?"
   ]
  },
  {
   "cell_type": "code",
   "execution_count": 330,
   "metadata": {},
   "outputs": [
    {
     "data": {
      "text/plain": [
       "RL         78.84\n",
       "RM         14.93\n",
       "FV          4.45\n",
       "RH          1.10\n",
       "C (all)     0.68\n",
       "Name: MSZoning, dtype: float64"
      ]
     },
     "execution_count": 330,
     "metadata": {},
     "output_type": "execute_result"
    }
   ],
   "source": [
    "# Observations in each level of MSZoning (%):\n",
    "(train.MSZoning.value_counts().sort_values(ascending = False)/N*100).round(2)"
   ]
  },
  {
   "cell_type": "code",
   "execution_count": 331,
   "metadata": {
    "collapsed": true
   },
   "outputs": [],
   "source": [
    "# Variable MSZoning\n",
    "# (test.MSZoning.value_counts().sort_values(ascending = False)/N*100).round(2)"
   ]
  },
  {
   "cell_type": "code",
   "execution_count": 332,
   "metadata": {
    "collapsed": true
   },
   "outputs": [],
   "source": [
    "# Creating dummies based on MSZoning and dropping two of them (with too few observations):\n",
    "temp = pd.get_dummies(train.MSZoning, prefix = \"zone\", drop_first = True)\n",
    "temp.drop('zone_RH', axis=1, inplace = True)\n",
    "train = pd.concat([train, temp], axis = 1)"
   ]
  },
  {
   "cell_type": "code",
   "execution_count": 333,
   "metadata": {
    "collapsed": true
   },
   "outputs": [],
   "source": [
    "temp = pd.get_dummies(test.MSZoning, prefix = \"zone\", drop_first = True)\n",
    "temp.drop('zone_RH', axis=1, inplace = True)\n",
    "test = pd.concat([test, temp], axis = 1)"
   ]
  },
  {
   "cell_type": "code",
   "execution_count": 334,
   "metadata": {},
   "outputs": [
    {
     "name": "stdout",
     "output_type": "stream",
     "text": [
      "(1460, 95)\n",
      "(1459, 94)\n"
     ]
    }
   ],
   "source": [
    "print(train.shape)\n",
    "print(test.shape)"
   ]
  },
  {
   "cell_type": "markdown",
   "metadata": {},
   "source": [
    "###### Street: Type of road access to property - IGNORE THIS VAR!"
   ]
  },
  {
   "cell_type": "markdown",
   "metadata": {},
   "source": [
    "99.6% are Paved and 0.41 (only 6 houses) have unpaved street\n",
    "LETS NOT USE THIS VARIABLE\n"
   ]
  },
  {
   "cell_type": "code",
   "execution_count": 335,
   "metadata": {},
   "outputs": [
    {
     "data": {
      "text/plain": [
       "Pave    99.59\n",
       "Grvl     0.41\n",
       "Name: Street, dtype: float64"
      ]
     },
     "execution_count": 335,
     "metadata": {},
     "output_type": "execute_result"
    }
   ],
   "source": [
    "# Observations in each level of Street (%):\n",
    "(train.Street.value_counts().sort_values(ascending = False)/N*100).round(2)"
   ]
  },
  {
   "cell_type": "code",
   "execution_count": 336,
   "metadata": {},
   "outputs": [
    {
     "data": {
      "text/plain": [
       "Pave    99.59\n",
       "Grvl     0.41\n",
       "Name: Street, dtype: float64"
      ]
     },
     "execution_count": 336,
     "metadata": {},
     "output_type": "execute_result"
    }
   ],
   "source": [
    "(test.Street.value_counts().sort_values(ascending = False)/N2*100).round(2)"
   ]
  },
  {
   "cell_type": "markdown",
   "metadata": {},
   "source": [
    "###### Alley: Type of alley access to property - replaced missings with 'None'!"
   ]
  },
  {
   "cell_type": "markdown",
   "metadata": {},
   "source": [
    "And created 2 dummies - alley_paved & alley_gravel"
   ]
  },
  {
   "cell_type": "code",
   "execution_count": 337,
   "metadata": {},
   "outputs": [
    {
     "data": {
      "text/plain": [
       "Grvl    3.42\n",
       "Pave    2.81\n",
       "Name: Alley, dtype: float64"
      ]
     },
     "execution_count": 337,
     "metadata": {},
     "output_type": "execute_result"
    }
   ],
   "source": [
    "# Observations in each level of Alley (%):\n",
    "(train.Alley.value_counts().sort_values(ascending = False)/N*100).round(2)"
   ]
  },
  {
   "cell_type": "code",
   "execution_count": 338,
   "metadata": {},
   "outputs": [
    {
     "data": {
      "text/plain": [
       "Grvl    4.80\n",
       "Pave    2.54\n",
       "Name: Alley, dtype: float64"
      ]
     },
     "execution_count": 338,
     "metadata": {},
     "output_type": "execute_result"
    }
   ],
   "source": [
    "(test.Alley.value_counts().sort_values(ascending = False)/N2*100).round(2)"
   ]
  },
  {
   "cell_type": "code",
   "execution_count": 339,
   "metadata": {
    "collapsed": true
   },
   "outputs": [],
   "source": [
    "# Replacing NAs with 'None' in both data frames:\n",
    "train['Alley'].fillna('None', inplace=True)\n",
    "test['Alley'].fillna('None', inplace=True)"
   ]
  },
  {
   "cell_type": "code",
   "execution_count": 340,
   "metadata": {
    "collapsed": true
   },
   "outputs": [],
   "source": [
    "# Build a dummy for Gravel and for Paved Alley\n",
    "train['alley_gravel'] = 0\n",
    "train.loc[train.Alley == 'Grvl', 'alley_gravel'] = 1\n",
    "train['alley_paved'] = 0\n",
    "train.loc[train.Alley == 'Pave', 'alley_paved'] = 1"
   ]
  },
  {
   "cell_type": "code",
   "execution_count": 341,
   "metadata": {
    "collapsed": true
   },
   "outputs": [],
   "source": [
    "test['alley_gravel'] = 0\n",
    "test.loc[test.Alley == 'Grvl', 'alley_gravel'] = 1\n",
    "test['alley_paved'] = 0\n",
    "test.loc[test.Alley == 'Pave', 'alley_paved'] = 1"
   ]
  },
  {
   "cell_type": "code",
   "execution_count": 342,
   "metadata": {},
   "outputs": [
    {
     "name": "stdout",
     "output_type": "stream",
     "text": [
      "(1460, 97)\n",
      "(1459, 96)\n"
     ]
    }
   ],
   "source": [
    "print(train.shape)\n",
    "print(test.shape)"
   ]
  },
  {
   "cell_type": "code",
   "execution_count": 343,
   "metadata": {
    "collapsed": true
   },
   "outputs": [],
   "source": [
    "# pd.crosstab(train.Alley, train.alley_gravel)  # It worked"
   ]
  },
  {
   "cell_type": "code",
   "execution_count": 344,
   "metadata": {
    "collapsed": true
   },
   "outputs": [],
   "source": [
    "# pd.crosstab(train.Alley, train.alley_paved)  # It worked"
   ]
  },
  {
   "cell_type": "markdown",
   "metadata": {},
   "source": [
    "###### LotShape: General shape of property"
   ]
  },
  {
   "cell_type": "markdown",
   "metadata": {
    "collapsed": true
   },
   "source": [
    "Build only one dummy - LotShapeReg - for Regular lot size (63%)"
   ]
  },
  {
   "cell_type": "code",
   "execution_count": 345,
   "metadata": {},
   "outputs": [
    {
     "data": {
      "text/plain": [
       "Reg    63.36\n",
       "IR1    33.15\n",
       "IR2     2.81\n",
       "IR3     0.68\n",
       "Name: LotShape, dtype: float64"
      ]
     },
     "execution_count": 345,
     "metadata": {},
     "output_type": "execute_result"
    }
   ],
   "source": [
    "# Observations in each level of LotShape (%):\n",
    "(train.LotShape.value_counts().sort_values(ascending = False)/N*100).round(2)"
   ]
  },
  {
   "cell_type": "code",
   "execution_count": 346,
   "metadata": {
    "collapsed": true
   },
   "outputs": [],
   "source": [
    "# (test.LotShape.value_counts().sort_values(ascending = False)/N*100).round(2)"
   ]
  },
  {
   "cell_type": "code",
   "execution_count": 347,
   "metadata": {},
   "outputs": [
    {
     "data": {
      "text/html": [
       "<div>\n",
       "<style>\n",
       "    .dataframe thead tr:only-child th {\n",
       "        text-align: right;\n",
       "    }\n",
       "\n",
       "    .dataframe thead th {\n",
       "        text-align: left;\n",
       "    }\n",
       "\n",
       "    .dataframe tbody tr th {\n",
       "        vertical-align: top;\n",
       "    }\n",
       "</style>\n",
       "<table border=\"1\" class=\"dataframe\">\n",
       "  <thead>\n",
       "    <tr style=\"text-align: right;\">\n",
       "      <th>LotShapeReg</th>\n",
       "      <th>0</th>\n",
       "      <th>1</th>\n",
       "    </tr>\n",
       "    <tr>\n",
       "      <th>LotShape</th>\n",
       "      <th></th>\n",
       "      <th></th>\n",
       "    </tr>\n",
       "  </thead>\n",
       "  <tbody>\n",
       "    <tr>\n",
       "      <th>IR1</th>\n",
       "      <td>484</td>\n",
       "      <td>0</td>\n",
       "    </tr>\n",
       "    <tr>\n",
       "      <th>IR2</th>\n",
       "      <td>41</td>\n",
       "      <td>0</td>\n",
       "    </tr>\n",
       "    <tr>\n",
       "      <th>IR3</th>\n",
       "      <td>10</td>\n",
       "      <td>0</td>\n",
       "    </tr>\n",
       "    <tr>\n",
       "      <th>Reg</th>\n",
       "      <td>0</td>\n",
       "      <td>925</td>\n",
       "    </tr>\n",
       "  </tbody>\n",
       "</table>\n",
       "</div>"
      ],
      "text/plain": [
       "LotShapeReg    0    1\n",
       "LotShape             \n",
       "IR1          484    0\n",
       "IR2           41    0\n",
       "IR3           10    0\n",
       "Reg            0  925"
      ]
     },
     "execution_count": 347,
     "metadata": {},
     "output_type": "execute_result"
    }
   ],
   "source": [
    "# Creating new variable - dummy for LotShape = 'Reg'\n",
    "train['LotShapeReg'] = 0\n",
    "train.loc[train.LotShape=='Reg', 'LotShapeReg'] = 1\n",
    "pd.crosstab(train.LotShape, train.LotShapeReg)  # It worked"
   ]
  },
  {
   "cell_type": "code",
   "execution_count": 348,
   "metadata": {},
   "outputs": [
    {
     "data": {
      "text/html": [
       "<div>\n",
       "<style>\n",
       "    .dataframe thead tr:only-child th {\n",
       "        text-align: right;\n",
       "    }\n",
       "\n",
       "    .dataframe thead th {\n",
       "        text-align: left;\n",
       "    }\n",
       "\n",
       "    .dataframe tbody tr th {\n",
       "        vertical-align: top;\n",
       "    }\n",
       "</style>\n",
       "<table border=\"1\" class=\"dataframe\">\n",
       "  <thead>\n",
       "    <tr style=\"text-align: right;\">\n",
       "      <th>LotShapeReg</th>\n",
       "      <th>0</th>\n",
       "      <th>1</th>\n",
       "    </tr>\n",
       "    <tr>\n",
       "      <th>LotShape</th>\n",
       "      <th></th>\n",
       "      <th></th>\n",
       "    </tr>\n",
       "  </thead>\n",
       "  <tbody>\n",
       "    <tr>\n",
       "      <th>IR1</th>\n",
       "      <td>484</td>\n",
       "      <td>0</td>\n",
       "    </tr>\n",
       "    <tr>\n",
       "      <th>IR2</th>\n",
       "      <td>35</td>\n",
       "      <td>0</td>\n",
       "    </tr>\n",
       "    <tr>\n",
       "      <th>IR3</th>\n",
       "      <td>6</td>\n",
       "      <td>0</td>\n",
       "    </tr>\n",
       "    <tr>\n",
       "      <th>Reg</th>\n",
       "      <td>0</td>\n",
       "      <td>934</td>\n",
       "    </tr>\n",
       "  </tbody>\n",
       "</table>\n",
       "</div>"
      ],
      "text/plain": [
       "LotShapeReg    0    1\n",
       "LotShape             \n",
       "IR1          484    0\n",
       "IR2           35    0\n",
       "IR3            6    0\n",
       "Reg            0  934"
      ]
     },
     "execution_count": 348,
     "metadata": {},
     "output_type": "execute_result"
    }
   ],
   "source": [
    "test['LotShapeReg'] = 0\n",
    "test.loc[test.LotShape=='Reg', 'LotShapeReg'] = 1\n",
    "pd.crosstab(test.LotShape, test.LotShapeReg)  # It worked"
   ]
  },
  {
   "cell_type": "code",
   "execution_count": 349,
   "metadata": {},
   "outputs": [
    {
     "name": "stdout",
     "output_type": "stream",
     "text": [
      "(1460, 98)\n",
      "(1459, 97)\n"
     ]
    }
   ],
   "source": [
    "print(train.shape)\n",
    "print(test.shape)"
   ]
  },
  {
   "cell_type": "markdown",
   "metadata": {},
   "source": [
    "###### LandContour: Flatness of the property"
   ]
  },
  {
   "cell_type": "markdown",
   "metadata": {},
   "source": [
    "Created 3 dummies for 3 types of countour"
   ]
  },
  {
   "cell_type": "code",
   "execution_count": 350,
   "metadata": {},
   "outputs": [
    {
     "data": {
      "text/plain": [
       "Lvl    89.79\n",
       "Bnk     4.32\n",
       "HLS     3.42\n",
       "Low     2.47\n",
       "Name: LandContour, dtype: float64"
      ]
     },
     "execution_count": 350,
     "metadata": {},
     "output_type": "execute_result"
    }
   ],
   "source": [
    "# Observations in each level of LandContour (%):\n",
    "(train.LandContour.value_counts().sort_values(ascending = False)/N*100).round(2)"
   ]
  },
  {
   "cell_type": "code",
   "execution_count": 351,
   "metadata": {
    "collapsed": true
   },
   "outputs": [],
   "source": [
    "# (test.LandContour.value_counts().sort_values(ascending = False)/N*100).round(2)"
   ]
  },
  {
   "cell_type": "code",
   "execution_count": 352,
   "metadata": {
    "collapsed": true
   },
   "outputs": [],
   "source": [
    "# Creating dummies based on LandCountour and dropping one of them (with few observations):\n",
    "temp = pd.get_dummies(train.LandContour, prefix = \"slope\")\n",
    "temp.drop('slope_Low', axis=1, inplace = True)\n",
    "train = pd.concat([train, temp], axis = 1)"
   ]
  },
  {
   "cell_type": "code",
   "execution_count": 353,
   "metadata": {
    "collapsed": true
   },
   "outputs": [],
   "source": [
    "temp = pd.get_dummies(test.LandContour, prefix = \"slope\")\n",
    "temp.drop('slope_Low', axis=1, inplace = True)\n",
    "test = pd.concat([test, temp], axis = 1)"
   ]
  },
  {
   "cell_type": "code",
   "execution_count": 354,
   "metadata": {},
   "outputs": [
    {
     "name": "stdout",
     "output_type": "stream",
     "text": [
      "(1460, 101)\n",
      "(1459, 100)\n"
     ]
    }
   ],
   "source": [
    "print(train.shape)\n",
    "print(test.shape)"
   ]
  },
  {
   "cell_type": "markdown",
   "metadata": {},
   "source": [
    "###### Utilities: Type of utilities available - IGNORE THIS VAR! (no variance)"
   ]
  },
  {
   "cell_type": "code",
   "execution_count": 355,
   "metadata": {},
   "outputs": [
    {
     "data": {
      "text/plain": [
       "AllPub    99.93\n",
       "NoSeWa     0.07\n",
       "Name: Utilities, dtype: float64"
      ]
     },
     "execution_count": 355,
     "metadata": {},
     "output_type": "execute_result"
    }
   ],
   "source": [
    "# Observations in each level of Utilities (%):\n",
    "(train.Utilities.value_counts().sort_values(ascending = False)/N*100).round(2)"
   ]
  },
  {
   "cell_type": "markdown",
   "metadata": {},
   "source": [
    "###### LotConfig: Lot configuration"
   ]
  },
  {
   "cell_type": "markdown",
   "metadata": {},
   "source": [
    "Created 3 dummy variables"
   ]
  },
  {
   "cell_type": "code",
   "execution_count": 356,
   "metadata": {},
   "outputs": [
    {
     "data": {
      "text/plain": [
       "Inside     72.05\n",
       "Corner     18.01\n",
       "CulDSac     6.44\n",
       "FR2         3.22\n",
       "FR3         0.27\n",
       "Name: LotConfig, dtype: float64"
      ]
     },
     "execution_count": 356,
     "metadata": {},
     "output_type": "execute_result"
    }
   ],
   "source": [
    "# Observations in each level of LotConfig (%):\n",
    "(train.LotConfig.value_counts().sort_values(ascending = False)/N*100).round(2)"
   ]
  },
  {
   "cell_type": "code",
   "execution_count": 357,
   "metadata": {
    "collapsed": true
   },
   "outputs": [],
   "source": [
    "# (test.LotConfig.value_counts().sort_values(ascending = False)/N*100).round(2)"
   ]
  },
  {
   "cell_type": "code",
   "execution_count": 358,
   "metadata": {
    "collapsed": true
   },
   "outputs": [],
   "source": [
    "# Creating dummies based on LotConfig and dropping some of them (with few observations):\n",
    "temp = pd.get_dummies(train.LotConfig, prefix = \"lotconfig\")\n",
    "temp.drop('lotconfig_FR2', axis=1, inplace = True)\n",
    "temp.drop('lotconfig_FR3', axis=1, inplace = True)\n",
    "train = pd.concat([train, temp], axis = 1)"
   ]
  },
  {
   "cell_type": "code",
   "execution_count": 359,
   "metadata": {
    "collapsed": true
   },
   "outputs": [],
   "source": [
    "temp = pd.get_dummies(test.LotConfig, prefix = \"lotconfig\")\n",
    "temp.drop('lotconfig_FR2', axis=1, inplace = True)\n",
    "temp.drop('lotconfig_FR3', axis=1, inplace = True)\n",
    "test = pd.concat([test, temp], axis = 1)"
   ]
  },
  {
   "cell_type": "code",
   "execution_count": 360,
   "metadata": {},
   "outputs": [
    {
     "name": "stdout",
     "output_type": "stream",
     "text": [
      "(1460, 104)\n",
      "(1459, 103)\n"
     ]
    }
   ],
   "source": [
    "print(train.shape)\n",
    "print(test.shape)"
   ]
  },
  {
   "cell_type": "markdown",
   "metadata": {},
   "source": [
    "###### LandSlope: Slope of property"
   ]
  },
  {
   "cell_type": "markdown",
   "metadata": {},
   "source": [
    "Created a new dummy: LandSlope_Gentle"
   ]
  },
  {
   "cell_type": "code",
   "execution_count": 361,
   "metadata": {
    "scrolled": true
   },
   "outputs": [
    {
     "data": {
      "text/plain": [
       "Gtl    94.66\n",
       "Mod     4.45\n",
       "Sev     0.89\n",
       "Name: LandSlope, dtype: float64"
      ]
     },
     "execution_count": 361,
     "metadata": {},
     "output_type": "execute_result"
    }
   ],
   "source": [
    "# Observations in each level of LandSlope (%):\n",
    "(train.LandSlope.value_counts().sort_values(ascending = False)/N*100).round(2)"
   ]
  },
  {
   "cell_type": "code",
   "execution_count": 362,
   "metadata": {
    "collapsed": true
   },
   "outputs": [],
   "source": [
    "# (test.LandSlope.value_counts().sort_values(ascending = False)/N*100).round(2)"
   ]
  },
  {
   "cell_type": "code",
   "execution_count": 363,
   "metadata": {},
   "outputs": [
    {
     "data": {
      "text/html": [
       "<div>\n",
       "<style>\n",
       "    .dataframe thead tr:only-child th {\n",
       "        text-align: right;\n",
       "    }\n",
       "\n",
       "    .dataframe thead th {\n",
       "        text-align: left;\n",
       "    }\n",
       "\n",
       "    .dataframe tbody tr th {\n",
       "        vertical-align: top;\n",
       "    }\n",
       "</style>\n",
       "<table border=\"1\" class=\"dataframe\">\n",
       "  <thead>\n",
       "    <tr style=\"text-align: right;\">\n",
       "      <th>LandSlope_Gentle</th>\n",
       "      <th>0</th>\n",
       "      <th>1</th>\n",
       "    </tr>\n",
       "    <tr>\n",
       "      <th>LandSlope</th>\n",
       "      <th></th>\n",
       "      <th></th>\n",
       "    </tr>\n",
       "  </thead>\n",
       "  <tbody>\n",
       "    <tr>\n",
       "      <th>Gtl</th>\n",
       "      <td>0</td>\n",
       "      <td>1382</td>\n",
       "    </tr>\n",
       "    <tr>\n",
       "      <th>Mod</th>\n",
       "      <td>65</td>\n",
       "      <td>0</td>\n",
       "    </tr>\n",
       "    <tr>\n",
       "      <th>Sev</th>\n",
       "      <td>13</td>\n",
       "      <td>0</td>\n",
       "    </tr>\n",
       "  </tbody>\n",
       "</table>\n",
       "</div>"
      ],
      "text/plain": [
       "LandSlope_Gentle   0     1\n",
       "LandSlope                 \n",
       "Gtl                0  1382\n",
       "Mod               65     0\n",
       "Sev               13     0"
      ]
     },
     "execution_count": 363,
     "metadata": {},
     "output_type": "execute_result"
    }
   ],
   "source": [
    "# Creating new variable - dummy for LandSlope = 'Gtl'\n",
    "train['LandSlope_Gentle'] = 0\n",
    "train.loc[train.LandSlope == 'Gtl', 'LandSlope_Gentle'] = 1\n",
    "pd.crosstab(train.LandSlope, train.LandSlope_Gentle)  # It worked"
   ]
  },
  {
   "cell_type": "code",
   "execution_count": 364,
   "metadata": {},
   "outputs": [
    {
     "data": {
      "text/html": [
       "<div>\n",
       "<style>\n",
       "    .dataframe thead tr:only-child th {\n",
       "        text-align: right;\n",
       "    }\n",
       "\n",
       "    .dataframe thead th {\n",
       "        text-align: left;\n",
       "    }\n",
       "\n",
       "    .dataframe tbody tr th {\n",
       "        vertical-align: top;\n",
       "    }\n",
       "</style>\n",
       "<table border=\"1\" class=\"dataframe\">\n",
       "  <thead>\n",
       "    <tr style=\"text-align: right;\">\n",
       "      <th>LandSlope_Gentle</th>\n",
       "      <th>0</th>\n",
       "      <th>1</th>\n",
       "    </tr>\n",
       "    <tr>\n",
       "      <th>LandSlope</th>\n",
       "      <th></th>\n",
       "      <th></th>\n",
       "    </tr>\n",
       "  </thead>\n",
       "  <tbody>\n",
       "    <tr>\n",
       "      <th>Gtl</th>\n",
       "      <td>0</td>\n",
       "      <td>1396</td>\n",
       "    </tr>\n",
       "    <tr>\n",
       "      <th>Mod</th>\n",
       "      <td>60</td>\n",
       "      <td>0</td>\n",
       "    </tr>\n",
       "    <tr>\n",
       "      <th>Sev</th>\n",
       "      <td>3</td>\n",
       "      <td>0</td>\n",
       "    </tr>\n",
       "  </tbody>\n",
       "</table>\n",
       "</div>"
      ],
      "text/plain": [
       "LandSlope_Gentle   0     1\n",
       "LandSlope                 \n",
       "Gtl                0  1396\n",
       "Mod               60     0\n",
       "Sev                3     0"
      ]
     },
     "execution_count": 364,
     "metadata": {},
     "output_type": "execute_result"
    }
   ],
   "source": [
    "test['LandSlope_Gentle'] = 0\n",
    "test.loc[test.LandSlope == 'Gtl', 'LandSlope_Gentle'] = 1\n",
    "pd.crosstab(test.LandSlope, test.LandSlope_Gentle)  # It worked"
   ]
  },
  {
   "cell_type": "code",
   "execution_count": 365,
   "metadata": {},
   "outputs": [
    {
     "name": "stdout",
     "output_type": "stream",
     "text": [
      "(1460, 105)\n",
      "(1459, 104)\n"
     ]
    }
   ],
   "source": [
    "print(train.shape)\n",
    "print(test.shape)"
   ]
  },
  {
   "cell_type": "markdown",
   "metadata": {},
   "source": [
    "###### Neighborhood: Physical locations within Ames city limits - bilt dummies for most"
   ]
  },
  {
   "cell_type": "code",
   "execution_count": 366,
   "metadata": {
    "collapsed": true
   },
   "outputs": [],
   "source": [
    "# Observations in each level of Neighborhood (%):\n",
    "# (train.Neighborhood.value_counts().sort_values(ascending = False)/N*100).round(2)"
   ]
  },
  {
   "cell_type": "code",
   "execution_count": 367,
   "metadata": {
    "collapsed": true
   },
   "outputs": [],
   "source": [
    "# (test.Neighborhood.value_counts().sort_values(ascending = False)/N*100).round(2)"
   ]
  },
  {
   "cell_type": "code",
   "execution_count": 368,
   "metadata": {
    "collapsed": true
   },
   "outputs": [],
   "source": [
    "temp = pd.get_dummies(train.Neighborhood, prefix = \"nbh\")\n",
    "temp.drop('nbh_Blueste', axis=1, inplace = True)\n",
    "temp.drop('nbh_NPkVill', axis=1, inplace = True)\n",
    "temp.drop('nbh_Veenker', axis=1, inplace = True)\n",
    "temp.drop('nbh_BrDale', axis=1, inplace = True)\n",
    "temp.drop('nbh_MeadowV', axis=1, inplace = True)\n",
    "temp.drop('nbh_Blmngtn', axis=1, inplace = True)\n",
    "train = pd.concat([train, temp], axis = 1)"
   ]
  },
  {
   "cell_type": "code",
   "execution_count": 369,
   "metadata": {
    "collapsed": true
   },
   "outputs": [],
   "source": [
    "# Creating dummies and dropping some:\n",
    "temp = pd.get_dummies(test.Neighborhood, prefix = \"nbh\")\n",
    "temp.drop('nbh_Blueste', axis=1, inplace = True)\n",
    "temp.drop('nbh_NPkVill', axis=1, inplace = True)\n",
    "temp.drop('nbh_Veenker', axis=1, inplace = True)\n",
    "temp.drop('nbh_BrDale', axis=1, inplace = True)\n",
    "temp.drop('nbh_MeadowV', axis=1, inplace = True)\n",
    "temp.drop('nbh_Blmngtn', axis=1, inplace = True)\n",
    "test = pd.concat([test, temp], axis = 1)"
   ]
  },
  {
   "cell_type": "code",
   "execution_count": 370,
   "metadata": {},
   "outputs": [
    {
     "data": {
      "text/html": [
       "<div>\n",
       "<style>\n",
       "    .dataframe thead tr:only-child th {\n",
       "        text-align: right;\n",
       "    }\n",
       "\n",
       "    .dataframe thead th {\n",
       "        text-align: left;\n",
       "    }\n",
       "\n",
       "    .dataframe tbody tr th {\n",
       "        vertical-align: top;\n",
       "    }\n",
       "</style>\n",
       "<table border=\"1\" class=\"dataframe\">\n",
       "  <thead>\n",
       "    <tr style=\"text-align: right;\">\n",
       "      <th>Neighborhood</th>\n",
       "      <th>Blmngtn</th>\n",
       "      <th>Blueste</th>\n",
       "      <th>BrDale</th>\n",
       "      <th>BrkSide</th>\n",
       "      <th>ClearCr</th>\n",
       "      <th>CollgCr</th>\n",
       "      <th>Crawfor</th>\n",
       "      <th>Edwards</th>\n",
       "      <th>Gilbert</th>\n",
       "      <th>IDOTRR</th>\n",
       "      <th>MeadowV</th>\n",
       "      <th>Mitchel</th>\n",
       "      <th>NAmes</th>\n",
       "      <th>NPkVill</th>\n",
       "      <th>NWAmes</th>\n",
       "      <th>NoRidge</th>\n",
       "      <th>NridgHt</th>\n",
       "      <th>OldTown</th>\n",
       "      <th>SWISU</th>\n",
       "      <th>Sawyer</th>\n",
       "      <th>SawyerW</th>\n",
       "      <th>Somerst</th>\n",
       "      <th>StoneBr</th>\n",
       "      <th>Timber</th>\n",
       "      <th>Veenker</th>\n",
       "    </tr>\n",
       "    <tr>\n",
       "      <th>nbh_Timber</th>\n",
       "      <th></th>\n",
       "      <th></th>\n",
       "      <th></th>\n",
       "      <th></th>\n",
       "      <th></th>\n",
       "      <th></th>\n",
       "      <th></th>\n",
       "      <th></th>\n",
       "      <th></th>\n",
       "      <th></th>\n",
       "      <th></th>\n",
       "      <th></th>\n",
       "      <th></th>\n",
       "      <th></th>\n",
       "      <th></th>\n",
       "      <th></th>\n",
       "      <th></th>\n",
       "      <th></th>\n",
       "      <th></th>\n",
       "      <th></th>\n",
       "      <th></th>\n",
       "      <th></th>\n",
       "      <th></th>\n",
       "      <th></th>\n",
       "      <th></th>\n",
       "    </tr>\n",
       "  </thead>\n",
       "  <tbody>\n",
       "    <tr>\n",
       "      <th>0</th>\n",
       "      <td>17</td>\n",
       "      <td>2</td>\n",
       "      <td>16</td>\n",
       "      <td>58</td>\n",
       "      <td>28</td>\n",
       "      <td>150</td>\n",
       "      <td>51</td>\n",
       "      <td>100</td>\n",
       "      <td>79</td>\n",
       "      <td>37</td>\n",
       "      <td>17</td>\n",
       "      <td>49</td>\n",
       "      <td>225</td>\n",
       "      <td>9</td>\n",
       "      <td>73</td>\n",
       "      <td>41</td>\n",
       "      <td>77</td>\n",
       "      <td>113</td>\n",
       "      <td>25</td>\n",
       "      <td>74</td>\n",
       "      <td>59</td>\n",
       "      <td>86</td>\n",
       "      <td>25</td>\n",
       "      <td>0</td>\n",
       "      <td>11</td>\n",
       "    </tr>\n",
       "    <tr>\n",
       "      <th>1</th>\n",
       "      <td>0</td>\n",
       "      <td>0</td>\n",
       "      <td>0</td>\n",
       "      <td>0</td>\n",
       "      <td>0</td>\n",
       "      <td>0</td>\n",
       "      <td>0</td>\n",
       "      <td>0</td>\n",
       "      <td>0</td>\n",
       "      <td>0</td>\n",
       "      <td>0</td>\n",
       "      <td>0</td>\n",
       "      <td>0</td>\n",
       "      <td>0</td>\n",
       "      <td>0</td>\n",
       "      <td>0</td>\n",
       "      <td>0</td>\n",
       "      <td>0</td>\n",
       "      <td>0</td>\n",
       "      <td>0</td>\n",
       "      <td>0</td>\n",
       "      <td>0</td>\n",
       "      <td>0</td>\n",
       "      <td>38</td>\n",
       "      <td>0</td>\n",
       "    </tr>\n",
       "  </tbody>\n",
       "</table>\n",
       "</div>"
      ],
      "text/plain": [
       "Neighborhood  Blmngtn  Blueste  BrDale  BrkSide  ClearCr  CollgCr  Crawfor  \\\n",
       "nbh_Timber                                                                   \n",
       "0                  17        2      16       58       28      150       51   \n",
       "1                   0        0       0        0        0        0        0   \n",
       "\n",
       "Neighborhood  Edwards  Gilbert  IDOTRR  MeadowV  Mitchel  NAmes  NPkVill  \\\n",
       "nbh_Timber                                                                 \n",
       "0                 100       79      37       17       49    225        9   \n",
       "1                   0        0       0        0        0      0        0   \n",
       "\n",
       "Neighborhood  NWAmes  NoRidge  NridgHt  OldTown  SWISU  Sawyer  SawyerW  \\\n",
       "nbh_Timber                                                                \n",
       "0                 73       41       77      113     25      74       59   \n",
       "1                  0        0        0        0      0       0        0   \n",
       "\n",
       "Neighborhood  Somerst  StoneBr  Timber  Veenker  \n",
       "nbh_Timber                                       \n",
       "0                  86       25       0       11  \n",
       "1                   0        0      38        0  "
      ]
     },
     "execution_count": 370,
     "metadata": {},
     "output_type": "execute_result"
    }
   ],
   "source": [
    "pd.crosstab(train.nbh_Timber,train.Neighborhood)"
   ]
  },
  {
   "cell_type": "code",
   "execution_count": 371,
   "metadata": {},
   "outputs": [
    {
     "name": "stdout",
     "output_type": "stream",
     "text": [
      "(1460, 124)\n",
      "(1459, 123)\n"
     ]
    }
   ],
   "source": [
    "print(train.shape)\n",
    "print(test.shape)"
   ]
  },
  {
   "cell_type": "markdown",
   "metadata": {},
   "source": [
    "###### Condition1 & Condition2: Proximity to various conditions\n"
   ]
  },
  {
   "cell_type": "markdown",
   "metadata": {},
   "source": [
    "Created 5 dummies that start with 'prox_'"
   ]
  },
  {
   "cell_type": "code",
   "execution_count": 372,
   "metadata": {},
   "outputs": [
    {
     "data": {
      "text/plain": [
       "Norm      86.30\n",
       "Feedr      5.55\n",
       "Artery     3.29\n",
       "RRAn       1.78\n",
       "PosN       1.30\n",
       "RRAe       0.75\n",
       "PosA       0.55\n",
       "RRNn       0.34\n",
       "RRNe       0.14\n",
       "Name: Condition1, dtype: float64"
      ]
     },
     "execution_count": 372,
     "metadata": {},
     "output_type": "execute_result"
    }
   ],
   "source": [
    "# Observations in each level of Condition1 (%):\n",
    "(train.Condition1.value_counts().sort_values(ascending = False)/N*100).round(2)"
   ]
  },
  {
   "cell_type": "code",
   "execution_count": 373,
   "metadata": {
    "collapsed": true
   },
   "outputs": [],
   "source": [
    "# Observations in each level of Condition2 (%):\n",
    "# (train.Condition2.value_counts().sort_values(ascending = False)/N*100).round(2)"
   ]
  },
  {
   "cell_type": "code",
   "execution_count": 374,
   "metadata": {
    "collapsed": true
   },
   "outputs": [],
   "source": [
    "# Creating dummies based on those 2 columns simultaneously:\n",
    "\n",
    "train['prox_norm'] = 0\n",
    "train['prox_feeder'] = 0\n",
    "train['prox_artery'] = 0\n",
    "train['prox_rr'] = 0\n",
    "train['prox_positive'] = 0\n",
    "\n",
    "test['prox_norm'] = 0\n",
    "test['prox_feeder'] = 0\n",
    "test['prox_artery'] = 0\n",
    "test['prox_rr'] = 0\n",
    "test['prox_positive'] = 0"
   ]
  },
  {
   "cell_type": "code",
   "execution_count": 375,
   "metadata": {
    "collapsed": true
   },
   "outputs": [],
   "source": [
    "train.loc[(train.Condition1 == 'Norm')|(train.Condition2 == 'Norm'), 'prox_norm'] = 1\n",
    "test.loc[(test.Condition1 == 'Norm')|(test.Condition2 == 'Norm'), 'prox_norm'] = 1"
   ]
  },
  {
   "cell_type": "code",
   "execution_count": 376,
   "metadata": {
    "collapsed": true
   },
   "outputs": [],
   "source": [
    "train.loc[(train.Condition1 == 'Feedr')|(train.Condition2 == 'Feedr'), 'prox_feeder'] = 1\n",
    "test.loc[(test.Condition1 == 'Feedr')|(test.Condition2 == 'Feedr'), 'prox_feeder'] = 1"
   ]
  },
  {
   "cell_type": "code",
   "execution_count": 377,
   "metadata": {
    "collapsed": true
   },
   "outputs": [],
   "source": [
    "train.loc[(train.Condition1 == 'Artery')|(train.Condition2 == 'Artery'), 'prox_artery'] = 1\n",
    "test.loc[(test.Condition1 == 'Artery')|(test.Condition2 == 'Artery'), 'prox_artery'] = 1"
   ]
  },
  {
   "cell_type": "code",
   "execution_count": 378,
   "metadata": {
    "collapsed": true
   },
   "outputs": [],
   "source": [
    "train.loc[(train.Condition1 == 'PosN')|(train.Condition2 == 'PosN'), 'prox_positive'] = 1\n",
    "train.loc[(train.Condition1 == 'PosA')|(train.Condition2 == 'PosA'), 'prox_positive'] = 1\n",
    "\n",
    "test.loc[(test.Condition1 == 'PosN')|(test.Condition2 == 'PosN'), 'prox_positive'] = 1\n",
    "test.loc[(test.Condition1 == 'PosA')|(test.Condition2 == 'PosA'), 'prox_positive'] = 1"
   ]
  },
  {
   "cell_type": "code",
   "execution_count": 379,
   "metadata": {
    "collapsed": true
   },
   "outputs": [],
   "source": [
    "train.loc[(train.Condition1.str.startswith('RR', na=False))|(train.Condition2.str.startswith('RR', na=False)), 'prox_rr'] = 1\n",
    "test.loc[(test.Condition1.str.startswith('RR', na=False))|(test.Condition2.str.startswith('RR', na=False)), 'prox_rr'] = 1"
   ]
  },
  {
   "cell_type": "code",
   "execution_count": 380,
   "metadata": {
    "collapsed": true
   },
   "outputs": [],
   "source": [
    "# train[['Condition1','Condition2','prox_norm', 'prox_feeder','prox_artery','prox_positive','prox_rr']]"
   ]
  },
  {
   "cell_type": "code",
   "execution_count": 381,
   "metadata": {},
   "outputs": [
    {
     "name": "stdout",
     "output_type": "stream",
     "text": [
      "(1460, 129)\n",
      "(1459, 128)\n"
     ]
    }
   ],
   "source": [
    "print(train.shape)\n",
    "print(test.shape)"
   ]
  },
  {
   "cell_type": "markdown",
   "metadata": {},
   "source": [
    "###### BldgType: Type of dwelling"
   ]
  },
  {
   "cell_type": "markdown",
   "metadata": {},
   "source": [
    "###### Created 4 dummies that start with bldgtype_"
   ]
  },
  {
   "cell_type": "code",
   "execution_count": 382,
   "metadata": {},
   "outputs": [
    {
     "data": {
      "text/plain": [
       "1Fam      83.56\n",
       "TwnhsE     7.81\n",
       "Duplex     3.56\n",
       "Twnhs      2.95\n",
       "2fmCon     2.12\n",
       "Name: BldgType, dtype: float64"
      ]
     },
     "execution_count": 382,
     "metadata": {},
     "output_type": "execute_result"
    }
   ],
   "source": [
    "# Observations in each level of BldgType (%):\n",
    "(train.BldgType.value_counts().sort_values(ascending = False)/N*100).round(2)"
   ]
  },
  {
   "cell_type": "code",
   "execution_count": 383,
   "metadata": {
    "collapsed": true
   },
   "outputs": [],
   "source": [
    "# (test.BldgType.value_counts().sort_values(ascending = False)/N*100).round(2)"
   ]
  },
  {
   "cell_type": "code",
   "execution_count": 384,
   "metadata": {
    "collapsed": true
   },
   "outputs": [],
   "source": [
    "# Fixing one value\n",
    "train.loc[train.BldgType == 'Twnhs', 'BldgType'] = 'TwnhsI'\n",
    "test.loc[test.BldgType == 'Twnhs', 'BldgType'] = 'TwnhsI'"
   ]
  },
  {
   "cell_type": "code",
   "execution_count": 385,
   "metadata": {
    "collapsed": true
   },
   "outputs": [],
   "source": [
    "# Building dummies\n",
    "temp = pd.get_dummies(train.BldgType, prefix = \"bldgtype\")\n",
    "temp.drop('bldgtype_2fmCon', axis=1, inplace = True)\n",
    "train = pd.concat([train, temp], axis = 1)"
   ]
  },
  {
   "cell_type": "code",
   "execution_count": 386,
   "metadata": {
    "collapsed": true
   },
   "outputs": [],
   "source": [
    "temp = pd.get_dummies(test.BldgType, prefix = \"bldgtype\")\n",
    "temp.drop('bldgtype_2fmCon', axis=1, inplace = True)\n",
    "test = pd.concat([test, temp], axis = 1)"
   ]
  },
  {
   "cell_type": "code",
   "execution_count": 387,
   "metadata": {},
   "outputs": [
    {
     "name": "stdout",
     "output_type": "stream",
     "text": [
      "(1460, 133)\n",
      "(1459, 132)\n"
     ]
    }
   ],
   "source": [
    "print(train.shape)\n",
    "print(test.shape)"
   ]
  },
  {
   "cell_type": "code",
   "execution_count": 388,
   "metadata": {
    "collapsed": true
   },
   "outputs": [],
   "source": [
    "# test.columns"
   ]
  },
  {
   "cell_type": "markdown",
   "metadata": {},
   "source": [
    "###### HouseStyle: Style of dwelling"
   ]
  },
  {
   "cell_type": "markdown",
   "metadata": {},
   "source": [
    "Created 5 dummies that start with 'style_'"
   ]
  },
  {
   "cell_type": "code",
   "execution_count": 389,
   "metadata": {
    "scrolled": true
   },
   "outputs": [
    {
     "data": {
      "text/plain": [
       "1Story    49.73\n",
       "2Story    30.48\n",
       "1.5Fin    10.55\n",
       "SLvl       4.45\n",
       "SFoyer     2.53\n",
       "1.5Unf     0.96\n",
       "2.5Unf     0.75\n",
       "2.5Fin     0.55\n",
       "Name: HouseStyle, dtype: float64"
      ]
     },
     "execution_count": 389,
     "metadata": {},
     "output_type": "execute_result"
    }
   ],
   "source": [
    "# Observations in each level of HouseStyle (%):\n",
    "(train.HouseStyle.value_counts().sort_values(ascending = False)/N*100).round(2)"
   ]
  },
  {
   "cell_type": "code",
   "execution_count": 390,
   "metadata": {
    "scrolled": true
   },
   "outputs": [
    {
     "data": {
      "text/plain": [
       "1Story    51.03\n",
       "2Story    29.25\n",
       "1.5Fin    10.96\n",
       "SLvl       4.32\n",
       "SFoyer     3.15\n",
       "2.5Unf     0.89\n",
       "1.5Unf     0.34\n",
       "Name: HouseStyle, dtype: float64"
      ]
     },
     "execution_count": 390,
     "metadata": {},
     "output_type": "execute_result"
    }
   ],
   "source": [
    "(test.HouseStyle.value_counts().sort_values(ascending = False)/N*100).round(2)\n",
    "# Notice -test has one fewer category than train (has no 2.5Fin)"
   ]
  },
  {
   "cell_type": "code",
   "execution_count": 391,
   "metadata": {
    "collapsed": true
   },
   "outputs": [],
   "source": [
    "# Fix some values:\n",
    "\n",
    "train.loc[train.HouseStyle == '1.5Fin', 'HouseStyle'] = '1p5Fin'\n",
    "train.loc[train.HouseStyle == '2.5Unf', 'HouseStyle'] = '2p5Unf'\n",
    "train.loc[train.HouseStyle == '1.5Unf', 'HouseStyle'] = '1p5Unf'\n",
    "train.loc[train.HouseStyle == '2.5Fin', 'HouseStyle'] = '2p5Fin'\n",
    "\n",
    "test.loc[test.HouseStyle == '1.5Fin', 'HouseStyle'] = '1p5Fin'\n",
    "test.loc[test.HouseStyle == '2.5Unf', 'HouseStyle'] = '2p5Unf'\n",
    "test.loc[test.HouseStyle == '1.5Unf', 'HouseStyle'] = '1p5Unf'"
   ]
  },
  {
   "cell_type": "code",
   "execution_count": 392,
   "metadata": {
    "collapsed": true
   },
   "outputs": [],
   "source": [
    "# Building dummies\n",
    "temp = pd.get_dummies(train.HouseStyle, prefix = \"style\")\n",
    "temp.drop('style_2p5Unf', axis=1, inplace = True)\n",
    "temp.drop('style_1p5Unf', axis=1, inplace = True)\n",
    "temp.drop('style_2p5Fin', axis=1, inplace = True)\n",
    "train = pd.concat([train, temp], axis = 1)"
   ]
  },
  {
   "cell_type": "code",
   "execution_count": 393,
   "metadata": {
    "collapsed": true
   },
   "outputs": [],
   "source": [
    "temp = pd.get_dummies(test.HouseStyle, prefix = \"style\")\n",
    "temp.drop('style_2p5Unf', axis=1, inplace = True)\n",
    "temp.drop('style_1p5Unf', axis=1, inplace = True)\n",
    "test = pd.concat([test, temp], axis = 1)"
   ]
  },
  {
   "cell_type": "code",
   "execution_count": 394,
   "metadata": {},
   "outputs": [
    {
     "name": "stdout",
     "output_type": "stream",
     "text": [
      "(1460, 138)\n",
      "(1459, 137)\n"
     ]
    }
   ],
   "source": [
    "print(train.shape)\n",
    "print(test.shape)"
   ]
  },
  {
   "cell_type": "markdown",
   "metadata": {},
   "source": [
    "###### OverallQual & OverallCond"
   ]
  },
  {
   "cell_type": "code",
   "execution_count": 395,
   "metadata": {
    "collapsed": true
   },
   "outputs": [],
   "source": [
    "# (train.OverallQual.value_counts()/N*100).round(2)\n",
    "# (train.OverallCond.value_counts()/N*100).round(2)"
   ]
  },
  {
   "cell_type": "markdown",
   "metadata": {},
   "source": [
    "###### YearBuilt & YearRemodAdd"
   ]
  },
  {
   "cell_type": "code",
   "execution_count": 396,
   "metadata": {
    "collapsed": true
   },
   "outputs": [],
   "source": [
    "# year = (train.YearBuilt.value_counts()/N*100).round(2)\n",
    "# with pd.option_context('display.max_rows', None, 'display.max_columns', 3):\n",
    "#     print(year)\n",
    "# year = (train.YearRemodAdd.value_counts()/N*100).round(2)\n",
    "# with pd.option_context('display.max_rows', None, 'display.max_columns', 3):\n",
    "#     print(year)\n"
   ]
  },
  {
   "cell_type": "markdown",
   "metadata": {},
   "source": [
    "###### RoofStyle: Type of roof"
   ]
  },
  {
   "cell_type": "markdown",
   "metadata": {},
   "source": [
    "Created 2 dummies - roof_hip and roof_gable"
   ]
  },
  {
   "cell_type": "code",
   "execution_count": 397,
   "metadata": {},
   "outputs": [
    {
     "data": {
      "text/plain": [
       "Gable      78.15\n",
       "Hip        19.59\n",
       "Flat        0.89\n",
       "Gambrel     0.75\n",
       "Mansard     0.48\n",
       "Shed        0.14\n",
       "Name: RoofStyle, dtype: float64"
      ]
     },
     "execution_count": 397,
     "metadata": {},
     "output_type": "execute_result"
    }
   ],
   "source": [
    "# Observations in each level of RoofStyle (%):\n",
    "(train.RoofStyle.value_counts().sort_values(ascending = False)/N*100).round(2)"
   ]
  },
  {
   "cell_type": "code",
   "execution_count": 398,
   "metadata": {
    "collapsed": true
   },
   "outputs": [],
   "source": [
    "# (test.RoofStyle.value_counts().sort_values(ascending = False)/N*100).round(2)"
   ]
  },
  {
   "cell_type": "code",
   "execution_count": 399,
   "metadata": {
    "collapsed": true
   },
   "outputs": [],
   "source": [
    "# Creating 2 dummies:\n",
    "train['roof_gable'] = 0\n",
    "train['roof_hip'] = 0\n",
    "train.loc[(train.RoofStyle == 'Gable'), 'roof_gable'] = 1\n",
    "train.loc[(train.RoofStyle == 'Hip'), 'roof_hip'] = 1\n",
    "# pd.crosstab(train.roof_hip, train.RoofStyle)"
   ]
  },
  {
   "cell_type": "code",
   "execution_count": 400,
   "metadata": {
    "collapsed": true
   },
   "outputs": [],
   "source": [
    "test['roof_gable'] = 0\n",
    "test['roof_hip'] = 0\n",
    "test.loc[(test.RoofStyle == 'Gable'), 'roof_gable'] = 1\n",
    "test.loc[(test.RoofStyle == 'Hip'), 'roof_hip'] = 1"
   ]
  },
  {
   "cell_type": "code",
   "execution_count": 401,
   "metadata": {},
   "outputs": [
    {
     "name": "stdout",
     "output_type": "stream",
     "text": [
      "(1460, 140)\n",
      "(1459, 139)\n"
     ]
    }
   ],
   "source": [
    "print(train.shape)\n",
    "print(test.shape)"
   ]
  },
  {
   "cell_type": "markdown",
   "metadata": {},
   "source": [
    "###### RoofMatl: Roof material - IGNORE, NO VARIANCE"
   ]
  },
  {
   "cell_type": "code",
   "execution_count": 402,
   "metadata": {},
   "outputs": [
    {
     "data": {
      "text/plain": [
       "CompShg    98.22\n",
       "Tar&Grv     0.75\n",
       "WdShngl     0.41\n",
       "WdShake     0.34\n",
       "Metal       0.07\n",
       "ClyTile     0.07\n",
       "Membran     0.07\n",
       "Roll        0.07\n",
       "Name: RoofMatl, dtype: float64"
      ]
     },
     "execution_count": 402,
     "metadata": {},
     "output_type": "execute_result"
    }
   ],
   "source": [
    "# Observations in each level of RoofMatl (%):\n",
    "(train.RoofMatl.value_counts().sort_values(ascending = False)/N*100).round(2)"
   ]
  },
  {
   "cell_type": "code",
   "execution_count": 403,
   "metadata": {},
   "outputs": [
    {
     "data": {
      "text/plain": [
       "CompShg    98.77\n",
       "Tar&Grv     0.82\n",
       "WdShake     0.27\n",
       "WdShngl     0.07\n",
       "Name: RoofMatl, dtype: float64"
      ]
     },
     "execution_count": 403,
     "metadata": {},
     "output_type": "execute_result"
    }
   ],
   "source": [
    "(test.RoofMatl.value_counts().sort_values(ascending = False)/N*100).round(2)"
   ]
  },
  {
   "cell_type": "markdown",
   "metadata": {},
   "source": [
    "###### Exterior1st: Exterior covering on house"
   ]
  },
  {
   "cell_type": "code",
   "execution_count": 404,
   "metadata": {},
   "outputs": [
    {
     "name": "stdout",
     "output_type": "stream",
     "text": [
      "(1460, 140)\n",
      "(1459, 139)\n"
     ]
    }
   ],
   "source": [
    "print(train.shape)\n",
    "print(test.shape)"
   ]
  },
  {
   "cell_type": "code",
   "execution_count": 405,
   "metadata": {},
   "outputs": [
    {
     "data": {
      "text/plain": [
       "VinylSd    35.27\n",
       "HdBoard    15.21\n",
       "MetalSd    15.07\n",
       "Wd Sdng    14.11\n",
       "Plywood     7.40\n",
       "CemntBd     4.18\n",
       "BrkFace     3.42\n",
       "WdShing     1.78\n",
       "Stucco      1.71\n",
       "AsbShng     1.37\n",
       "Stone       0.14\n",
       "BrkComm     0.14\n",
       "ImStucc     0.07\n",
       "CBlock      0.07\n",
       "AsphShn     0.07\n",
       "Name: Exterior1st, dtype: float64"
      ]
     },
     "execution_count": 405,
     "metadata": {},
     "output_type": "execute_result"
    }
   ],
   "source": [
    "# Observations in each level of Exterior1st (%):\n",
    "(train.Exterior1st.value_counts().sort_values(ascending = False)/N*100).round(2)"
   ]
  },
  {
   "cell_type": "code",
   "execution_count": 406,
   "metadata": {
    "collapsed": true
   },
   "outputs": [],
   "source": [
    "# (train.Exterior2nd.value_counts().sort_values(ascending = False)/N*100).round(2)"
   ]
  },
  {
   "cell_type": "code",
   "execution_count": 407,
   "metadata": {
    "collapsed": true
   },
   "outputs": [],
   "source": [
    "# (test.Exterior1st.value_counts().sort_values(ascending = False)/N*100).round(2)"
   ]
  },
  {
   "cell_type": "code",
   "execution_count": 408,
   "metadata": {
    "collapsed": true,
    "scrolled": true
   },
   "outputs": [],
   "source": [
    "# (test.Exterior2nd.value_counts().sort_values(ascending = False)/N*100).round(2)"
   ]
  },
  {
   "cell_type": "code",
   "execution_count": 409,
   "metadata": {
    "collapsed": true
   },
   "outputs": [],
   "source": [
    "# Fixing 3 values - eliminating spaces:\n",
    "train.Exterior1st = train.Exterior1st.str.replace('\\s+', '')\n",
    "train.Exterior2nd = train.Exterior2nd.str.replace('\\s+', '')\n",
    "test.Exterior1st = test.Exterior1st.str.replace('\\s+', '')\n",
    "test.Exterior2nd = test.Exterior2nd.str.replace('\\s+', '') "
   ]
  },
  {
   "cell_type": "code",
   "execution_count": 410,
   "metadata": {
    "collapsed": true
   },
   "outputs": [],
   "source": [
    "# train = train.loc[:, ~train.columns.str.startswith('ext_')]\n",
    "# test = test.loc[:, ~test.columns.str.startswith('ext_')]"
   ]
  },
  {
   "cell_type": "code",
   "execution_count": 411,
   "metadata": {
    "collapsed": true
   },
   "outputs": [],
   "source": [
    "# test['Exterior1st'].isnull().sum()    # Has one missing value\n",
    "# train['Exterior1st'].isnull().sum()   # Has no missing values"
   ]
  },
  {
   "cell_type": "code",
   "execution_count": 412,
   "metadata": {
    "collapsed": true
   },
   "outputs": [],
   "source": [
    "# Build dummies:\n",
    "temp = pd.get_dummies(train.Exterior1st, prefix = \"ext\")\n",
    "train = pd.concat([train, temp], axis = 1)"
   ]
  },
  {
   "cell_type": "code",
   "execution_count": 413,
   "metadata": {
    "collapsed": true
   },
   "outputs": [],
   "source": [
    "temp = pd.get_dummies(test.Exterior1st, prefix = \"ext\")\n",
    "test = pd.concat([test, temp], axis = 1)"
   ]
  },
  {
   "cell_type": "code",
   "execution_count": 414,
   "metadata": {
    "collapsed": true
   },
   "outputs": [],
   "source": [
    "for i in list(train.Exterior1st.unique()):\n",
    "    forname = 'ext_' + str(i)\n",
    "    train.loc[train.Exterior2nd == i, forname] = 1"
   ]
  },
  {
   "cell_type": "code",
   "execution_count": 415,
   "metadata": {
    "collapsed": true
   },
   "outputs": [],
   "source": [
    "for i in list(test.Exterior1st.unique()):\n",
    "    forname = 'ext_' + str(i)\n",
    "    test.loc[test.Exterior2nd == i, forname] = 1"
   ]
  },
  {
   "cell_type": "code",
   "execution_count": 416,
   "metadata": {},
   "outputs": [
    {
     "data": {
      "text/plain": [
       "ext_AsbShng     1.575342\n",
       "ext_AsphShn     0.205479\n",
       "ext_BrkComm     0.136986\n",
       "ext_BrkFace     3.493151\n",
       "ext_CBlock      0.068493\n",
       "ext_CemntBd     4.178082\n",
       "ext_HdBoard    16.164384\n",
       "ext_ImStucc     0.684932\n",
       "ext_MetalSd    15.205479\n",
       "ext_Plywood    10.547945\n",
       "ext_Stone       0.410959\n",
       "ext_Stucco      2.123288\n",
       "ext_VinylSd    35.410959\n",
       "ext_WdSdng     15.479452\n",
       "ext_WdShing     1.780822\n",
       "dtype: float64"
      ]
     },
     "execution_count": 416,
     "metadata": {},
     "output_type": "execute_result"
    }
   ],
   "source": [
    "train.loc[:, train.columns.str.startswith('ext_')].mean() * 100"
   ]
  },
  {
   "cell_type": "code",
   "execution_count": 417,
   "metadata": {},
   "outputs": [
    {
     "data": {
      "text/plain": [
       "ext_AsbShng     1.644962\n",
       "ext_AsphShn     0.068540\n",
       "ext_BrkComm     0.274160\n",
       "ext_BrkFace     2.673064\n",
       "ext_CBlock      0.205620\n",
       "ext_CemntBd     4.455106\n",
       "ext_HdBoard    15.695682\n",
       "ext_MetalSd    16.312543\n",
       "ext_Plywood    10.349554\n",
       "ext_Stucco      1.782042\n",
       "ext_VinylSd    35.435230\n",
       "ext_WdSdng     15.284441\n",
       "ext_WdShing     2.056203\n",
       "ext_nan              NaN\n",
       "dtype: float64"
      ]
     },
     "execution_count": 417,
     "metadata": {},
     "output_type": "execute_result"
    }
   ],
   "source": [
    "test.loc[:, test.columns.str.startswith('ext_')].mean() * 100"
   ]
  },
  {
   "cell_type": "markdown",
   "metadata": {},
   "source": [
    "Deleting exterial material columns we don't need"
   ]
  },
  {
   "cell_type": "code",
   "execution_count": 418,
   "metadata": {
    "collapsed": true
   },
   "outputs": [],
   "source": [
    "train.drop('ext_ImStucc', axis=1, inplace = True)"
   ]
  },
  {
   "cell_type": "code",
   "execution_count": 419,
   "metadata": {
    "collapsed": true
   },
   "outputs": [],
   "source": [
    "test.drop('ext_nan', axis=1, inplace = True)"
   ]
  },
  {
   "cell_type": "code",
   "execution_count": 420,
   "metadata": {
    "collapsed": true
   },
   "outputs": [],
   "source": [
    "train.drop('ext_AsphShn', axis=1, inplace = True)\n",
    "test.drop('ext_AsphShn', axis=1, inplace = True)"
   ]
  },
  {
   "cell_type": "code",
   "execution_count": 421,
   "metadata": {
    "collapsed": true
   },
   "outputs": [],
   "source": [
    "train.drop('ext_BrkComm', axis=1, inplace = True)\n",
    "test.drop('ext_BrkComm', axis=1, inplace = True)"
   ]
  },
  {
   "cell_type": "code",
   "execution_count": 422,
   "metadata": {
    "collapsed": true
   },
   "outputs": [],
   "source": [
    "train.drop('ext_CBlock', axis=1, inplace = True)\n",
    "test.drop('ext_CBlock', axis=1, inplace = True)"
   ]
  },
  {
   "cell_type": "code",
   "execution_count": 423,
   "metadata": {
    "collapsed": true
   },
   "outputs": [],
   "source": [
    "train.drop('ext_Stone', axis=1, inplace = True)"
   ]
  },
  {
   "cell_type": "code",
   "execution_count": 424,
   "metadata": {
    "collapsed": true
   },
   "outputs": [],
   "source": [
    "# train.drop('ext_CBlock', axis=1, inplace = True)\n",
    "# test.drop('ext_CBlock', axis=1, inplace = True)"
   ]
  },
  {
   "cell_type": "code",
   "execution_count": 425,
   "metadata": {},
   "outputs": [
    {
     "name": "stdout",
     "output_type": "stream",
     "text": [
      "(1460, 150)\n",
      "(1459, 149)\n"
     ]
    }
   ],
   "source": [
    "print(train.shape)\n",
    "print(test.shape)"
   ]
  },
  {
   "cell_type": "markdown",
   "metadata": {},
   "source": [
    "###### MasVnrType: Masonry veneer type"
   ]
  },
  {
   "cell_type": "markdown",
   "metadata": {},
   "source": [
    "Created 2 dummies - for stone & brick face"
   ]
  },
  {
   "cell_type": "code",
   "execution_count": 426,
   "metadata": {},
   "outputs": [
    {
     "data": {
      "text/plain": [
       "None       59.18\n",
       "BrkFace    30.48\n",
       "Stone       8.77\n",
       "BrkCmn      1.03\n",
       "Name: MasVnrType, dtype: float64"
      ]
     },
     "execution_count": 426,
     "metadata": {},
     "output_type": "execute_result"
    }
   ],
   "source": [
    "# Observations in each level of MasVnrType (%):\n",
    "(train.MasVnrType.value_counts().sort_values(ascending = False)/N*100).round(2)"
   ]
  },
  {
   "cell_type": "code",
   "execution_count": 427,
   "metadata": {},
   "outputs": [
    {
     "data": {
      "text/plain": [
       "None       60.14\n",
       "BrkFace    29.73\n",
       "Stone       8.29\n",
       "BrkCmn      0.68\n",
       "Name: MasVnrType, dtype: float64"
      ]
     },
     "execution_count": 427,
     "metadata": {},
     "output_type": "execute_result"
    }
   ],
   "source": [
    "(test.MasVnrType.value_counts().sort_values(ascending = False)/N*100).round(2)"
   ]
  },
  {
   "cell_type": "code",
   "execution_count": 428,
   "metadata": {
    "collapsed": true
   },
   "outputs": [],
   "source": [
    "# Creating 2 dummies:\n",
    "train['veneer_brickface'] = 0\n",
    "train['veneer_stone'] = 0\n",
    "train.loc[(train.MasVnrType == 'BrkFace'), 'veneer_brickface'] = 1\n",
    "train.loc[(train.MasVnrType == 'Stone'), 'veneer_stone'] = 1\n",
    "# pd.crosstab(train.veneer_stone, train.MasVnrType)"
   ]
  },
  {
   "cell_type": "code",
   "execution_count": 429,
   "metadata": {
    "collapsed": true
   },
   "outputs": [],
   "source": [
    "test['veneer_brickface'] = 0\n",
    "test['veneer_stone'] = 0\n",
    "test.loc[(test.MasVnrType == 'BrkFace'), 'veneer_brickface'] = 1\n",
    "test.loc[(test.MasVnrType == 'Stone'), 'veneer_stone'] = 1\n",
    "# pd.crosstab(test.veneer_brickface, test.MasVnrType)"
   ]
  },
  {
   "cell_type": "code",
   "execution_count": null,
   "metadata": {
    "collapsed": true
   },
   "outputs": [],
   "source": []
  },
  {
   "cell_type": "markdown",
   "metadata": {},
   "source": [
    "###### MasVnrArea: Masonry veneer area in square feet"
   ]
  },
  {
   "cell_type": "markdown",
   "metadata": {},
   "source": [
    "Check distribution"
   ]
  },
  {
   "cell_type": "code",
   "execution_count": 430,
   "metadata": {},
   "outputs": [
    {
     "data": {
      "text/plain": [
       "count    1452.000000\n",
       "mean      103.685262\n",
       "std       181.066207\n",
       "min         0.000000\n",
       "25%         0.000000\n",
       "50%         0.000000\n",
       "75%       166.000000\n",
       "max      1600.000000\n",
       "Name: MasVnrArea, dtype: float64"
      ]
     },
     "execution_count": 430,
     "metadata": {},
     "output_type": "execute_result"
    }
   ],
   "source": [
    "train.MasVnrArea.describe()"
   ]
  },
  {
   "cell_type": "markdown",
   "metadata": {},
   "source": [
    "###### ExterQual: Exterior material quality"
   ]
  },
  {
   "cell_type": "markdown",
   "metadata": {},
   "source": [
    "Recoded into numeric 'exterior_quality':\n",
    "Fa = Fair = 0\n",
    "TA = Average = 1\n",
    "Gd = Good = 2\n",
    "Ex = Excellent = 3\n"
   ]
  },
  {
   "cell_type": "code",
   "execution_count": 431,
   "metadata": {
    "collapsed": true
   },
   "outputs": [],
   "source": [
    "# (train.ExterQual.value_counts().sort_values(ascending = False)/N*100).round(2)"
   ]
  },
  {
   "cell_type": "code",
   "execution_count": 432,
   "metadata": {
    "collapsed": true
   },
   "outputs": [],
   "source": [
    "# (test.ExterQual.value_counts().sort_values(ascending = False)/N*100).round(2)"
   ]
  },
  {
   "cell_type": "code",
   "execution_count": 433,
   "metadata": {},
   "outputs": [
    {
     "data": {
      "text/html": [
       "<div>\n",
       "<style>\n",
       "    .dataframe thead tr:only-child th {\n",
       "        text-align: right;\n",
       "    }\n",
       "\n",
       "    .dataframe thead th {\n",
       "        text-align: left;\n",
       "    }\n",
       "\n",
       "    .dataframe tbody tr th {\n",
       "        vertical-align: top;\n",
       "    }\n",
       "</style>\n",
       "<table border=\"1\" class=\"dataframe\">\n",
       "  <thead>\n",
       "    <tr style=\"text-align: right;\">\n",
       "      <th>exterior_quality</th>\n",
       "      <th>0</th>\n",
       "      <th>1</th>\n",
       "      <th>2</th>\n",
       "      <th>3</th>\n",
       "    </tr>\n",
       "    <tr>\n",
       "      <th>ExterQual</th>\n",
       "      <th></th>\n",
       "      <th></th>\n",
       "      <th></th>\n",
       "      <th></th>\n",
       "    </tr>\n",
       "  </thead>\n",
       "  <tbody>\n",
       "    <tr>\n",
       "      <th>Ex</th>\n",
       "      <td>0</td>\n",
       "      <td>0</td>\n",
       "      <td>0</td>\n",
       "      <td>52</td>\n",
       "    </tr>\n",
       "    <tr>\n",
       "      <th>Fa</th>\n",
       "      <td>14</td>\n",
       "      <td>0</td>\n",
       "      <td>0</td>\n",
       "      <td>0</td>\n",
       "    </tr>\n",
       "    <tr>\n",
       "      <th>Gd</th>\n",
       "      <td>0</td>\n",
       "      <td>0</td>\n",
       "      <td>488</td>\n",
       "      <td>0</td>\n",
       "    </tr>\n",
       "    <tr>\n",
       "      <th>TA</th>\n",
       "      <td>0</td>\n",
       "      <td>906</td>\n",
       "      <td>0</td>\n",
       "      <td>0</td>\n",
       "    </tr>\n",
       "  </tbody>\n",
       "</table>\n",
       "</div>"
      ],
      "text/plain": [
       "exterior_quality   0    1    2   3\n",
       "ExterQual                         \n",
       "Ex                 0    0    0  52\n",
       "Fa                14    0    0   0\n",
       "Gd                 0    0  488   0\n",
       "TA                 0  906    0   0"
      ]
     },
     "execution_count": 433,
     "metadata": {},
     "output_type": "execute_result"
    }
   ],
   "source": [
    "train['exterior_quality'] = 0\n",
    "train.loc[(train.ExterQual == 'TA'), 'exterior_quality'] = 1\n",
    "train.loc[(train.ExterQual == 'Gd'), 'exterior_quality'] = 2\n",
    "train.loc[(train.ExterQual == 'Ex'), 'exterior_quality'] = 3\n",
    "pd.crosstab(train.ExterQual, train.exterior_quality)"
   ]
  },
  {
   "cell_type": "code",
   "execution_count": 434,
   "metadata": {
    "scrolled": true
   },
   "outputs": [
    {
     "data": {
      "text/html": [
       "<div>\n",
       "<style>\n",
       "    .dataframe thead tr:only-child th {\n",
       "        text-align: right;\n",
       "    }\n",
       "\n",
       "    .dataframe thead th {\n",
       "        text-align: left;\n",
       "    }\n",
       "\n",
       "    .dataframe tbody tr th {\n",
       "        vertical-align: top;\n",
       "    }\n",
       "</style>\n",
       "<table border=\"1\" class=\"dataframe\">\n",
       "  <thead>\n",
       "    <tr style=\"text-align: right;\">\n",
       "      <th>exterior_quality</th>\n",
       "      <th>0</th>\n",
       "      <th>1</th>\n",
       "      <th>2</th>\n",
       "      <th>3</th>\n",
       "    </tr>\n",
       "    <tr>\n",
       "      <th>ExterQual</th>\n",
       "      <th></th>\n",
       "      <th></th>\n",
       "      <th></th>\n",
       "      <th></th>\n",
       "    </tr>\n",
       "  </thead>\n",
       "  <tbody>\n",
       "    <tr>\n",
       "      <th>Ex</th>\n",
       "      <td>0</td>\n",
       "      <td>0</td>\n",
       "      <td>0</td>\n",
       "      <td>55</td>\n",
       "    </tr>\n",
       "    <tr>\n",
       "      <th>Fa</th>\n",
       "      <td>21</td>\n",
       "      <td>0</td>\n",
       "      <td>0</td>\n",
       "      <td>0</td>\n",
       "    </tr>\n",
       "    <tr>\n",
       "      <th>Gd</th>\n",
       "      <td>0</td>\n",
       "      <td>0</td>\n",
       "      <td>491</td>\n",
       "      <td>0</td>\n",
       "    </tr>\n",
       "    <tr>\n",
       "      <th>TA</th>\n",
       "      <td>0</td>\n",
       "      <td>892</td>\n",
       "      <td>0</td>\n",
       "      <td>0</td>\n",
       "    </tr>\n",
       "  </tbody>\n",
       "</table>\n",
       "</div>"
      ],
      "text/plain": [
       "exterior_quality   0    1    2   3\n",
       "ExterQual                         \n",
       "Ex                 0    0    0  55\n",
       "Fa                21    0    0   0\n",
       "Gd                 0    0  491   0\n",
       "TA                 0  892    0   0"
      ]
     },
     "execution_count": 434,
     "metadata": {},
     "output_type": "execute_result"
    }
   ],
   "source": [
    "test['exterior_quality'] = 0\n",
    "test.loc[(test.ExterQual == 'TA'), 'exterior_quality'] = 1\n",
    "test.loc[(test.ExterQual == 'Gd'), 'exterior_quality'] = 2\n",
    "test.loc[(test.ExterQual == 'Ex'), 'exterior_quality'] = 3\n",
    "pd.crosstab(test.ExterQual, test.exterior_quality)"
   ]
  },
  {
   "cell_type": "markdown",
   "metadata": {},
   "source": [
    "###### ExterCond: Evaluates the present condition of the material on the exterior"
   ]
  },
  {
   "cell_type": "markdown",
   "metadata": {},
   "source": [
    "Recoded into numeric 'exterior_condition': Po = Poor = 0, Fa = Fair = 1 TA = Average = 2 Gd = Good = 3 Ex = Excellent = 4"
   ]
  },
  {
   "cell_type": "code",
   "execution_count": 435,
   "metadata": {
    "collapsed": true
   },
   "outputs": [],
   "source": [
    "# print((train.ExterCond.value_counts().sort_values(ascending = False)/N*100).round(2))\n",
    "# print((test.ExterCond.value_counts().sort_values(ascending = False)/N*100).round(2))"
   ]
  },
  {
   "cell_type": "code",
   "execution_count": 436,
   "metadata": {},
   "outputs": [
    {
     "data": {
      "text/html": [
       "<div>\n",
       "<style>\n",
       "    .dataframe thead tr:only-child th {\n",
       "        text-align: right;\n",
       "    }\n",
       "\n",
       "    .dataframe thead th {\n",
       "        text-align: left;\n",
       "    }\n",
       "\n",
       "    .dataframe tbody tr th {\n",
       "        vertical-align: top;\n",
       "    }\n",
       "</style>\n",
       "<table border=\"1\" class=\"dataframe\">\n",
       "  <thead>\n",
       "    <tr style=\"text-align: right;\">\n",
       "      <th>exterior_condition</th>\n",
       "      <th>0</th>\n",
       "      <th>1</th>\n",
       "      <th>2</th>\n",
       "      <th>3</th>\n",
       "      <th>4</th>\n",
       "    </tr>\n",
       "    <tr>\n",
       "      <th>ExterCond</th>\n",
       "      <th></th>\n",
       "      <th></th>\n",
       "      <th></th>\n",
       "      <th></th>\n",
       "      <th></th>\n",
       "    </tr>\n",
       "  </thead>\n",
       "  <tbody>\n",
       "    <tr>\n",
       "      <th>Ex</th>\n",
       "      <td>0</td>\n",
       "      <td>0</td>\n",
       "      <td>0</td>\n",
       "      <td>0</td>\n",
       "      <td>3</td>\n",
       "    </tr>\n",
       "    <tr>\n",
       "      <th>Fa</th>\n",
       "      <td>0</td>\n",
       "      <td>28</td>\n",
       "      <td>0</td>\n",
       "      <td>0</td>\n",
       "      <td>0</td>\n",
       "    </tr>\n",
       "    <tr>\n",
       "      <th>Gd</th>\n",
       "      <td>0</td>\n",
       "      <td>0</td>\n",
       "      <td>0</td>\n",
       "      <td>146</td>\n",
       "      <td>0</td>\n",
       "    </tr>\n",
       "    <tr>\n",
       "      <th>Po</th>\n",
       "      <td>1</td>\n",
       "      <td>0</td>\n",
       "      <td>0</td>\n",
       "      <td>0</td>\n",
       "      <td>0</td>\n",
       "    </tr>\n",
       "    <tr>\n",
       "      <th>TA</th>\n",
       "      <td>0</td>\n",
       "      <td>0</td>\n",
       "      <td>1282</td>\n",
       "      <td>0</td>\n",
       "      <td>0</td>\n",
       "    </tr>\n",
       "  </tbody>\n",
       "</table>\n",
       "</div>"
      ],
      "text/plain": [
       "exterior_condition  0   1     2    3  4\n",
       "ExterCond                              \n",
       "Ex                  0   0     0    0  3\n",
       "Fa                  0  28     0    0  0\n",
       "Gd                  0   0     0  146  0\n",
       "Po                  1   0     0    0  0\n",
       "TA                  0   0  1282    0  0"
      ]
     },
     "execution_count": 436,
     "metadata": {},
     "output_type": "execute_result"
    }
   ],
   "source": [
    "train['exterior_condition'] = 0\n",
    "train.loc[(train.ExterCond == 'Fa'), 'exterior_condition'] = 1\n",
    "train.loc[(train.ExterCond == 'TA'), 'exterior_condition'] = 2\n",
    "train.loc[(train.ExterCond == 'Gd'), 'exterior_condition'] = 3\n",
    "train.loc[(train.ExterCond == 'Ex'), 'exterior_condition'] = 4\n",
    "pd.crosstab(train.ExterCond, train.exterior_condition)"
   ]
  },
  {
   "cell_type": "code",
   "execution_count": 437,
   "metadata": {},
   "outputs": [
    {
     "data": {
      "text/html": [
       "<div>\n",
       "<style>\n",
       "    .dataframe thead tr:only-child th {\n",
       "        text-align: right;\n",
       "    }\n",
       "\n",
       "    .dataframe thead th {\n",
       "        text-align: left;\n",
       "    }\n",
       "\n",
       "    .dataframe tbody tr th {\n",
       "        vertical-align: top;\n",
       "    }\n",
       "</style>\n",
       "<table border=\"1\" class=\"dataframe\">\n",
       "  <thead>\n",
       "    <tr style=\"text-align: right;\">\n",
       "      <th>exterior_condition</th>\n",
       "      <th>0</th>\n",
       "      <th>1</th>\n",
       "      <th>2</th>\n",
       "      <th>3</th>\n",
       "      <th>4</th>\n",
       "    </tr>\n",
       "    <tr>\n",
       "      <th>ExterCond</th>\n",
       "      <th></th>\n",
       "      <th></th>\n",
       "      <th></th>\n",
       "      <th></th>\n",
       "      <th></th>\n",
       "    </tr>\n",
       "  </thead>\n",
       "  <tbody>\n",
       "    <tr>\n",
       "      <th>Ex</th>\n",
       "      <td>0</td>\n",
       "      <td>0</td>\n",
       "      <td>0</td>\n",
       "      <td>0</td>\n",
       "      <td>9</td>\n",
       "    </tr>\n",
       "    <tr>\n",
       "      <th>Fa</th>\n",
       "      <td>0</td>\n",
       "      <td>39</td>\n",
       "      <td>0</td>\n",
       "      <td>0</td>\n",
       "      <td>0</td>\n",
       "    </tr>\n",
       "    <tr>\n",
       "      <th>Gd</th>\n",
       "      <td>0</td>\n",
       "      <td>0</td>\n",
       "      <td>0</td>\n",
       "      <td>153</td>\n",
       "      <td>0</td>\n",
       "    </tr>\n",
       "    <tr>\n",
       "      <th>Po</th>\n",
       "      <td>2</td>\n",
       "      <td>0</td>\n",
       "      <td>0</td>\n",
       "      <td>0</td>\n",
       "      <td>0</td>\n",
       "    </tr>\n",
       "    <tr>\n",
       "      <th>TA</th>\n",
       "      <td>0</td>\n",
       "      <td>0</td>\n",
       "      <td>1256</td>\n",
       "      <td>0</td>\n",
       "      <td>0</td>\n",
       "    </tr>\n",
       "  </tbody>\n",
       "</table>\n",
       "</div>"
      ],
      "text/plain": [
       "exterior_condition  0   1     2    3  4\n",
       "ExterCond                              \n",
       "Ex                  0   0     0    0  9\n",
       "Fa                  0  39     0    0  0\n",
       "Gd                  0   0     0  153  0\n",
       "Po                  2   0     0    0  0\n",
       "TA                  0   0  1256    0  0"
      ]
     },
     "execution_count": 437,
     "metadata": {},
     "output_type": "execute_result"
    }
   ],
   "source": [
    "test['exterior_condition'] = 0\n",
    "test.loc[(test.ExterCond == 'Fa'), 'exterior_condition'] = 1\n",
    "test.loc[(test.ExterCond == 'TA'), 'exterior_condition'] = 2\n",
    "test.loc[(test.ExterCond == 'Gd'), 'exterior_condition'] = 3\n",
    "test.loc[(test.ExterCond == 'Ex'), 'exterior_condition'] = 4\n",
    "pd.crosstab(test.ExterCond, test.exterior_condition)"
   ]
  },
  {
   "cell_type": "code",
   "execution_count": 438,
   "metadata": {},
   "outputs": [
    {
     "data": {
      "text/plain": [
       "Index(['Id', 'MSSubClass', 'MSZoning', 'LotFrontage', 'LotArea', 'Street',\n",
       "       'Alley', 'LotShape', 'LandContour', 'Utilities',\n",
       "       ...\n",
       "       'ext_MetalSd', 'ext_Plywood', 'ext_Stucco', 'ext_VinylSd', 'ext_WdSdng',\n",
       "       'ext_WdShing', 'veneer_brickface', 'veneer_stone', 'exterior_quality',\n",
       "       'exterior_condition'],\n",
       "      dtype='object', length=154)"
      ]
     },
     "execution_count": 438,
     "metadata": {},
     "output_type": "execute_result"
    }
   ],
   "source": [
    "train.columns"
   ]
  },
  {
   "cell_type": "code",
   "execution_count": 439,
   "metadata": {},
   "outputs": [
    {
     "data": {
      "text/plain": [
       "(array([  14.,    0.,    0.,  906.,    0.,    0.,  488.,    0.,    0.,   52.]),\n",
       " array([ 0. ,  0.3,  0.6,  0.9,  1.2,  1.5,  1.8,  2.1,  2.4,  2.7,  3. ]),\n",
       " <a list of 10 Patch objects>)"
      ]
     },
     "execution_count": 439,
     "metadata": {},
     "output_type": "execute_result"
    },
    {
     "data": {
      "image/png": "[encoded data removed]",
      "text/plain": [
       "<matplotlib.figure.Figure at 0x262e628a198>"
      ]
     },
     "metadata": {},
     "output_type": "display_data"
    }
   ],
   "source": [
    "plt.hist(train['exterior_quality'])\n",
    "# Not working - where is the plot?"
   ]
  },
  {
   "cell_type": "code",
   "execution_count": 440,
   "metadata": {},
   "outputs": [
    {
     "data": {
      "text/plain": [
       "(array([  1.00000000e+00,   0.00000000e+00,   2.80000000e+01,\n",
       "          0.00000000e+00,   0.00000000e+00,   1.28200000e+03,\n",
       "          0.00000000e+00,   1.46000000e+02,   0.00000000e+00,\n",
       "          3.00000000e+00]),\n",
       " array([ 0. ,  0.4,  0.8,  1.2,  1.6,  2. ,  2.4,  2.8,  3.2,  3.6,  4. ]),\n",
       " <a list of 10 Patch objects>)"
      ]
     },
     "execution_count": 440,
     "metadata": {},
     "output_type": "execute_result"
    },
    {
     "data": {
      "image/png": "[encoded data removed]",
      "text/plain": [
       "<matplotlib.figure.Figure at 0x262e6309e10>"
      ]
     },
     "metadata": {},
     "output_type": "display_data"
    }
   ],
   "source": [
    "plt.hist(train['exterior_condition'])"
   ]
  },
  {
   "cell_type": "code",
   "execution_count": 441,
   "metadata": {},
   "outputs": [
    {
     "data": {
      "text/html": [
       "<div>\n",
       "<style>\n",
       "    .dataframe thead tr:only-child th {\n",
       "        text-align: right;\n",
       "    }\n",
       "\n",
       "    .dataframe thead th {\n",
       "        text-align: left;\n",
       "    }\n",
       "\n",
       "    .dataframe tbody tr th {\n",
       "        vertical-align: top;\n",
       "    }\n",
       "</style>\n",
       "<table border=\"1\" class=\"dataframe\">\n",
       "  <thead>\n",
       "    <tr style=\"text-align: right;\">\n",
       "      <th></th>\n",
       "      <th>exterior_quality</th>\n",
       "      <th>exterior_condition</th>\n",
       "    </tr>\n",
       "  </thead>\n",
       "  <tbody>\n",
       "    <tr>\n",
       "      <th>exterior_quality</th>\n",
       "      <td>1.000000</td>\n",
       "      <td>0.009184</td>\n",
       "    </tr>\n",
       "    <tr>\n",
       "      <th>exterior_condition</th>\n",
       "      <td>0.009184</td>\n",
       "      <td>1.000000</td>\n",
       "    </tr>\n",
       "  </tbody>\n",
       "</table>\n",
       "</div>"
      ],
      "text/plain": [
       "                    exterior_quality  exterior_condition\n",
       "exterior_quality            1.000000            0.009184\n",
       "exterior_condition          0.009184            1.000000"
      ]
     },
     "execution_count": 441,
     "metadata": {},
     "output_type": "execute_result"
    }
   ],
   "source": [
    "train[['exterior_quality','exterior_condition']].corr()  # Correlation is just 0.009, good!"
   ]
  },
  {
   "cell_type": "code",
   "execution_count": 442,
   "metadata": {},
   "outputs": [
    {
     "data": {
      "text/plain": [
       "(array([ 14,   0,   0, 906,   0,   0, 488,   0,   0,  52], dtype=int64),\n",
       " array([ 0. ,  0.3,  0.6,  0.9,  1.2,  1.5,  1.8,  2.1,  2.4,  2.7,  3. ]))"
      ]
     },
     "execution_count": 442,
     "metadata": {},
     "output_type": "execute_result"
    }
   ],
   "source": [
    "import numpy as np\n",
    "np.histogram(train.exterior_quality)"
   ]
  },
  {
   "cell_type": "markdown",
   "metadata": {},
   "source": [
    "###### Foundation: Type of foundation"
   ]
  },
  {
   "cell_type": "code",
   "execution_count": 443,
   "metadata": {},
   "outputs": [
    {
     "name": "stdout",
     "output_type": "stream",
     "text": [
      "PConc     44.32\n",
      "CBlock    43.42\n",
      "BrkTil    10.00\n",
      "Slab       1.64\n",
      "Stone      0.41\n",
      "Wood       0.21\n",
      "Name: Foundation, dtype: float64\n",
      "PConc     45.27\n",
      "CBlock    41.16\n",
      "BrkTil    11.30\n",
      "Slab       1.71\n",
      "Stone      0.34\n",
      "Wood       0.14\n",
      "Name: Foundation, dtype: float64\n"
     ]
    }
   ],
   "source": [
    "print((train.Foundation.value_counts().sort_values(ascending = False)/N*100).round(2))\n",
    "print((test.Foundation.value_counts().sort_values(ascending = False)/N*100).round(2))"
   ]
  },
  {
   "cell_type": "code",
   "execution_count": 444,
   "metadata": {
    "collapsed": true
   },
   "outputs": [],
   "source": [
    "# Building dummies and dropping some:\n",
    "temp = pd.get_dummies(train.Foundation, prefix = \"found\")\n",
    "temp.drop('found_Stone', axis=1, inplace = True)\n",
    "temp.drop('found_Wood', axis=1, inplace = True)\n",
    "train = pd.concat([train, temp], axis = 1)"
   ]
  },
  {
   "cell_type": "code",
   "execution_count": 445,
   "metadata": {
    "collapsed": true
   },
   "outputs": [],
   "source": [
    "temp = pd.get_dummies(test.Foundation, prefix = \"found\")\n",
    "temp.drop('found_Stone', axis=1, inplace = True)\n",
    "temp.drop('found_Wood', axis=1, inplace = True)\n",
    "test = pd.concat([test, temp], axis = 1)"
   ]
  },
  {
   "cell_type": "code",
   "execution_count": 446,
   "metadata": {},
   "outputs": [
    {
     "name": "stdout",
     "output_type": "stream",
     "text": [
      "Foundation   BrkTil  CBlock  PConc  Slab  Stone  Wood\n",
      "found_PConc                                          \n",
      "0               146     634      0    24      6     3\n",
      "1                 0       0    647     0      0     0\n",
      "Foundation    BrkTil  CBlock  PConc  Slab  Stone  Wood\n",
      "found_CBlock                                          \n",
      "0                146       0    647    24      6     3\n",
      "1                  0     634      0     0      0     0\n",
      "Foundation    BrkTil  CBlock  PConc  Slab  Stone  Wood\n",
      "found_BrkTil                                          \n",
      "0                  0     634    647    24      6     3\n",
      "1                146       0      0     0      0     0\n",
      "Foundation  BrkTil  CBlock  PConc  Slab  Stone  Wood\n",
      "found_Slab                                          \n",
      "0              146     634    647     0      6     3\n",
      "1                0       0      0    24      0     0\n"
     ]
    }
   ],
   "source": [
    "print(pd.crosstab(train.found_PConc, train.Foundation))\n",
    "print(pd.crosstab(train.found_CBlock, train.Foundation))\n",
    "print(pd.crosstab(train.found_BrkTil, train.Foundation))\n",
    "print(pd.crosstab(train.found_Slab, train.Foundation))"
   ]
  },
  {
   "cell_type": "code",
   "execution_count": 447,
   "metadata": {},
   "outputs": [
    {
     "name": "stdout",
     "output_type": "stream",
     "text": [
      "Foundation   BrkTil  CBlock  PConc  Slab  Stone  Wood\n",
      "found_PConc                                          \n",
      "0               165     601      0    25      5     2\n",
      "1                 0       0    661     0      0     0\n",
      "Foundation    BrkTil  CBlock  PConc  Slab  Stone  Wood\n",
      "found_CBlock                                          \n",
      "0                165       0    661    25      5     2\n",
      "1                  0     601      0     0      0     0\n",
      "Foundation    BrkTil  CBlock  PConc  Slab  Stone  Wood\n",
      "found_BrkTil                                          \n",
      "0                  0     601    661    25      5     2\n",
      "1                165       0      0     0      0     0\n",
      "Foundation  BrkTil  CBlock  PConc  Slab  Stone  Wood\n",
      "found_Slab                                          \n",
      "0              165     601    661     0      5     2\n",
      "1                0       0      0    25      0     0\n"
     ]
    }
   ],
   "source": [
    "print(pd.crosstab(test.found_PConc, test.Foundation))\n",
    "print(pd.crosstab(test.found_CBlock, test.Foundation))\n",
    "print(pd.crosstab(test.found_BrkTil, test.Foundation))\n",
    "print(pd.crosstab(test.found_Slab, test.Foundation))"
   ]
  },
  {
   "cell_type": "code",
   "execution_count": 448,
   "metadata": {},
   "outputs": [
    {
     "name": "stdout",
     "output_type": "stream",
     "text": [
      "(1460, 158)\n",
      "(1459, 157)\n"
     ]
    }
   ],
   "source": [
    "print(train.shape)\n",
    "print(test.shape)"
   ]
  },
  {
   "cell_type": "markdown",
   "metadata": {},
   "source": [
    "###### BsmtQual: Evaluates the height of the basement"
   ]
  },
  {
   "cell_type": "markdown",
   "metadata": {},
   "source": [
    "Created quantitative variable bsmt_height"
   ]
  },
  {
   "cell_type": "code",
   "execution_count": 449,
   "metadata": {
    "collapsed": true
   },
   "outputs": [],
   "source": [
    "# Replacing NAs with 'None' in both data frames:\n",
    "train['BsmtQual'].fillna('NoBasement', inplace=True)\n",
    "test['BsmtQual'].fillna('NoBasement', inplace=True)"
   ]
  },
  {
   "cell_type": "code",
   "execution_count": 450,
   "metadata": {},
   "outputs": [
    {
     "name": "stdout",
     "output_type": "stream",
     "text": [
      "TA            44.45\n",
      "Gd            42.33\n",
      "Ex             8.29\n",
      "NoBasement     2.53\n",
      "Fa             2.40\n",
      "Name: BsmtQual, dtype: float64\n",
      "TA            43.42\n",
      "Gd            40.48\n",
      "Ex             9.38\n",
      "Fa             3.63\n",
      "NoBasement     3.01\n",
      "Name: BsmtQual, dtype: float64\n"
     ]
    }
   ],
   "source": [
    "print((train.BsmtQual.value_counts().sort_values(ascending = False)/N*100).round(2))\n",
    "print((test.BsmtQual.value_counts().sort_values(ascending = False)/N*100).round(2))"
   ]
  },
  {
   "cell_type": "code",
   "execution_count": 451,
   "metadata": {},
   "outputs": [
    {
     "data": {
      "text/html": [
       "<div>\n",
       "<style>\n",
       "    .dataframe thead tr:only-child th {\n",
       "        text-align: right;\n",
       "    }\n",
       "\n",
       "    .dataframe thead th {\n",
       "        text-align: left;\n",
       "    }\n",
       "\n",
       "    .dataframe tbody tr th {\n",
       "        vertical-align: top;\n",
       "    }\n",
       "</style>\n",
       "<table border=\"1\" class=\"dataframe\">\n",
       "  <thead>\n",
       "    <tr style=\"text-align: right;\">\n",
       "      <th>bsmt_height</th>\n",
       "      <th>0</th>\n",
       "      <th>1</th>\n",
       "      <th>2</th>\n",
       "      <th>3</th>\n",
       "      <th>4</th>\n",
       "    </tr>\n",
       "    <tr>\n",
       "      <th>BsmtQual</th>\n",
       "      <th></th>\n",
       "      <th></th>\n",
       "      <th></th>\n",
       "      <th></th>\n",
       "      <th></th>\n",
       "    </tr>\n",
       "  </thead>\n",
       "  <tbody>\n",
       "    <tr>\n",
       "      <th>Ex</th>\n",
       "      <td>0</td>\n",
       "      <td>0</td>\n",
       "      <td>0</td>\n",
       "      <td>0</td>\n",
       "      <td>121</td>\n",
       "    </tr>\n",
       "    <tr>\n",
       "      <th>Fa</th>\n",
       "      <td>0</td>\n",
       "      <td>35</td>\n",
       "      <td>0</td>\n",
       "      <td>0</td>\n",
       "      <td>0</td>\n",
       "    </tr>\n",
       "    <tr>\n",
       "      <th>Gd</th>\n",
       "      <td>0</td>\n",
       "      <td>0</td>\n",
       "      <td>0</td>\n",
       "      <td>618</td>\n",
       "      <td>0</td>\n",
       "    </tr>\n",
       "    <tr>\n",
       "      <th>NoBasement</th>\n",
       "      <td>37</td>\n",
       "      <td>0</td>\n",
       "      <td>0</td>\n",
       "      <td>0</td>\n",
       "      <td>0</td>\n",
       "    </tr>\n",
       "    <tr>\n",
       "      <th>TA</th>\n",
       "      <td>0</td>\n",
       "      <td>0</td>\n",
       "      <td>649</td>\n",
       "      <td>0</td>\n",
       "      <td>0</td>\n",
       "    </tr>\n",
       "  </tbody>\n",
       "</table>\n",
       "</div>"
      ],
      "text/plain": [
       "bsmt_height   0   1    2    3    4\n",
       "BsmtQual                          \n",
       "Ex            0   0    0    0  121\n",
       "Fa            0  35    0    0    0\n",
       "Gd            0   0    0  618    0\n",
       "NoBasement   37   0    0    0    0\n",
       "TA            0   0  649    0    0"
      ]
     },
     "execution_count": 451,
     "metadata": {},
     "output_type": "execute_result"
    }
   ],
   "source": [
    "train['bsmt_height'] = 0\n",
    "train.loc[(train.BsmtQual == 'Fa'), 'bsmt_height'] = 1\n",
    "train.loc[(train.BsmtQual == 'TA'), 'bsmt_height'] = 2\n",
    "train.loc[(train.BsmtQual == 'Gd'), 'bsmt_height'] = 3\n",
    "train.loc[(train.BsmtQual == 'Ex'), 'bsmt_height'] = 4\n",
    "pd.crosstab(train.BsmtQual, train.bsmt_height)"
   ]
  },
  {
   "cell_type": "code",
   "execution_count": 452,
   "metadata": {
    "scrolled": true
   },
   "outputs": [
    {
     "data": {
      "text/html": [
       "<div>\n",
       "<style>\n",
       "    .dataframe thead tr:only-child th {\n",
       "        text-align: right;\n",
       "    }\n",
       "\n",
       "    .dataframe thead th {\n",
       "        text-align: left;\n",
       "    }\n",
       "\n",
       "    .dataframe tbody tr th {\n",
       "        vertical-align: top;\n",
       "    }\n",
       "</style>\n",
       "<table border=\"1\" class=\"dataframe\">\n",
       "  <thead>\n",
       "    <tr style=\"text-align: right;\">\n",
       "      <th>bsmt_height</th>\n",
       "      <th>0</th>\n",
       "      <th>1</th>\n",
       "      <th>2</th>\n",
       "      <th>3</th>\n",
       "      <th>4</th>\n",
       "    </tr>\n",
       "    <tr>\n",
       "      <th>BsmtQual</th>\n",
       "      <th></th>\n",
       "      <th></th>\n",
       "      <th></th>\n",
       "      <th></th>\n",
       "      <th></th>\n",
       "    </tr>\n",
       "  </thead>\n",
       "  <tbody>\n",
       "    <tr>\n",
       "      <th>Ex</th>\n",
       "      <td>0</td>\n",
       "      <td>0</td>\n",
       "      <td>0</td>\n",
       "      <td>0</td>\n",
       "      <td>137</td>\n",
       "    </tr>\n",
       "    <tr>\n",
       "      <th>Fa</th>\n",
       "      <td>0</td>\n",
       "      <td>53</td>\n",
       "      <td>0</td>\n",
       "      <td>0</td>\n",
       "      <td>0</td>\n",
       "    </tr>\n",
       "    <tr>\n",
       "      <th>Gd</th>\n",
       "      <td>0</td>\n",
       "      <td>0</td>\n",
       "      <td>0</td>\n",
       "      <td>591</td>\n",
       "      <td>0</td>\n",
       "    </tr>\n",
       "    <tr>\n",
       "      <th>NoBasement</th>\n",
       "      <td>44</td>\n",
       "      <td>0</td>\n",
       "      <td>0</td>\n",
       "      <td>0</td>\n",
       "      <td>0</td>\n",
       "    </tr>\n",
       "    <tr>\n",
       "      <th>TA</th>\n",
       "      <td>0</td>\n",
       "      <td>0</td>\n",
       "      <td>634</td>\n",
       "      <td>0</td>\n",
       "      <td>0</td>\n",
       "    </tr>\n",
       "  </tbody>\n",
       "</table>\n",
       "</div>"
      ],
      "text/plain": [
       "bsmt_height   0   1    2    3    4\n",
       "BsmtQual                          \n",
       "Ex            0   0    0    0  137\n",
       "Fa            0  53    0    0    0\n",
       "Gd            0   0    0  591    0\n",
       "NoBasement   44   0    0    0    0\n",
       "TA            0   0  634    0    0"
      ]
     },
     "execution_count": 452,
     "metadata": {},
     "output_type": "execute_result"
    }
   ],
   "source": [
    "test['bsmt_height'] = 0\n",
    "test.loc[(test.BsmtQual == 'Fa'), 'bsmt_height'] = 1\n",
    "test.loc[(test.BsmtQual == 'TA'), 'bsmt_height'] = 2\n",
    "test.loc[(test.BsmtQual == 'Gd'), 'bsmt_height'] = 3\n",
    "test.loc[(test.BsmtQual == 'Ex'), 'bsmt_height'] = 4\n",
    "pd.crosstab(test.BsmtQual, test.bsmt_height)"
   ]
  },
  {
   "cell_type": "code",
   "execution_count": 453,
   "metadata": {},
   "outputs": [
    {
     "name": "stdout",
     "output_type": "stream",
     "text": [
      "(1460, 159)\n",
      "(1459, 158)\n"
     ]
    }
   ],
   "source": [
    "print(train.shape)\n",
    "print(test.shape)"
   ]
  },
  {
   "cell_type": "markdown",
   "metadata": {},
   "source": [
    "###### BsmtCond: Evaluates the general condition of the basement"
   ]
  },
  {
   "cell_type": "code",
   "execution_count": 454,
   "metadata": {
    "collapsed": true
   },
   "outputs": [],
   "source": [
    "# Replacing NAs with 'None' in both data frames:\n",
    "train['BsmtCond'].fillna('NoBasement', inplace=True)\n",
    "test['BsmtCond'].fillna('NoBasement', inplace=True)"
   ]
  },
  {
   "cell_type": "code",
   "execution_count": 455,
   "metadata": {},
   "outputs": [
    {
     "name": "stdout",
     "output_type": "stream",
     "text": [
      "TA            89.79\n",
      "Gd             4.45\n",
      "Fa             3.08\n",
      "NoBasement     2.53\n",
      "Po             0.14\n",
      "Name: BsmtCond, dtype: float64\n",
      "TA            88.70\n",
      "Fa             4.04\n",
      "Gd             3.90\n",
      "NoBasement     3.08\n",
      "Po             0.21\n",
      "Name: BsmtCond, dtype: float64\n"
     ]
    }
   ],
   "source": [
    "print((train.BsmtCond.value_counts().sort_values(ascending = False)/N*100).round(2))\n",
    "print((test.BsmtCond.value_counts().sort_values(ascending = False)/N*100).round(2))"
   ]
  },
  {
   "cell_type": "code",
   "execution_count": 456,
   "metadata": {},
   "outputs": [
    {
     "data": {
      "text/html": [
       "<div>\n",
       "<style>\n",
       "    .dataframe thead tr:only-child th {\n",
       "        text-align: right;\n",
       "    }\n",
       "\n",
       "    .dataframe thead th {\n",
       "        text-align: left;\n",
       "    }\n",
       "\n",
       "    .dataframe tbody tr th {\n",
       "        vertical-align: top;\n",
       "    }\n",
       "</style>\n",
       "<table border=\"1\" class=\"dataframe\">\n",
       "  <thead>\n",
       "    <tr style=\"text-align: right;\">\n",
       "      <th>bsmt_condition</th>\n",
       "      <th>0</th>\n",
       "      <th>1</th>\n",
       "      <th>2</th>\n",
       "      <th>3</th>\n",
       "      <th>4</th>\n",
       "    </tr>\n",
       "    <tr>\n",
       "      <th>BsmtCond</th>\n",
       "      <th></th>\n",
       "      <th></th>\n",
       "      <th></th>\n",
       "      <th></th>\n",
       "      <th></th>\n",
       "    </tr>\n",
       "  </thead>\n",
       "  <tbody>\n",
       "    <tr>\n",
       "      <th>Fa</th>\n",
       "      <td>0</td>\n",
       "      <td>0</td>\n",
       "      <td>45</td>\n",
       "      <td>0</td>\n",
       "      <td>0</td>\n",
       "    </tr>\n",
       "    <tr>\n",
       "      <th>Gd</th>\n",
       "      <td>0</td>\n",
       "      <td>0</td>\n",
       "      <td>0</td>\n",
       "      <td>0</td>\n",
       "      <td>65</td>\n",
       "    </tr>\n",
       "    <tr>\n",
       "      <th>NoBasement</th>\n",
       "      <td>37</td>\n",
       "      <td>0</td>\n",
       "      <td>0</td>\n",
       "      <td>0</td>\n",
       "      <td>0</td>\n",
       "    </tr>\n",
       "    <tr>\n",
       "      <th>Po</th>\n",
       "      <td>0</td>\n",
       "      <td>2</td>\n",
       "      <td>0</td>\n",
       "      <td>0</td>\n",
       "      <td>0</td>\n",
       "    </tr>\n",
       "    <tr>\n",
       "      <th>TA</th>\n",
       "      <td>0</td>\n",
       "      <td>0</td>\n",
       "      <td>0</td>\n",
       "      <td>1311</td>\n",
       "      <td>0</td>\n",
       "    </tr>\n",
       "  </tbody>\n",
       "</table>\n",
       "</div>"
      ],
      "text/plain": [
       "bsmt_condition   0  1   2     3   4\n",
       "BsmtCond                           \n",
       "Fa               0  0  45     0   0\n",
       "Gd               0  0   0     0  65\n",
       "NoBasement      37  0   0     0   0\n",
       "Po               0  2   0     0   0\n",
       "TA               0  0   0  1311   0"
      ]
     },
     "execution_count": 456,
     "metadata": {},
     "output_type": "execute_result"
    }
   ],
   "source": [
    "train['bsmt_condition'] = 0\n",
    "train.loc[(train.BsmtCond == 'Po'), 'bsmt_condition'] = 1\n",
    "train.loc[(train.BsmtCond == 'Fa'), 'bsmt_condition'] = 2\n",
    "train.loc[(train.BsmtCond == 'TA'), 'bsmt_condition'] = 3\n",
    "train.loc[(train.BsmtCond == 'Gd'), 'bsmt_condition'] = 4\n",
    "pd.crosstab(train.BsmtCond, train.bsmt_condition)"
   ]
  },
  {
   "cell_type": "code",
   "execution_count": 457,
   "metadata": {},
   "outputs": [
    {
     "data": {
      "text/html": [
       "<div>\n",
       "<style>\n",
       "    .dataframe thead tr:only-child th {\n",
       "        text-align: right;\n",
       "    }\n",
       "\n",
       "    .dataframe thead th {\n",
       "        text-align: left;\n",
       "    }\n",
       "\n",
       "    .dataframe tbody tr th {\n",
       "        vertical-align: top;\n",
       "    }\n",
       "</style>\n",
       "<table border=\"1\" class=\"dataframe\">\n",
       "  <thead>\n",
       "    <tr style=\"text-align: right;\">\n",
       "      <th>bsmt_condition</th>\n",
       "      <th>0</th>\n",
       "      <th>1</th>\n",
       "      <th>2</th>\n",
       "      <th>3</th>\n",
       "      <th>4</th>\n",
       "    </tr>\n",
       "    <tr>\n",
       "      <th>BsmtCond</th>\n",
       "      <th></th>\n",
       "      <th></th>\n",
       "      <th></th>\n",
       "      <th></th>\n",
       "      <th></th>\n",
       "    </tr>\n",
       "  </thead>\n",
       "  <tbody>\n",
       "    <tr>\n",
       "      <th>Fa</th>\n",
       "      <td>0</td>\n",
       "      <td>0</td>\n",
       "      <td>59</td>\n",
       "      <td>0</td>\n",
       "      <td>0</td>\n",
       "    </tr>\n",
       "    <tr>\n",
       "      <th>Gd</th>\n",
       "      <td>0</td>\n",
       "      <td>0</td>\n",
       "      <td>0</td>\n",
       "      <td>0</td>\n",
       "      <td>57</td>\n",
       "    </tr>\n",
       "    <tr>\n",
       "      <th>NoBasement</th>\n",
       "      <td>45</td>\n",
       "      <td>0</td>\n",
       "      <td>0</td>\n",
       "      <td>0</td>\n",
       "      <td>0</td>\n",
       "    </tr>\n",
       "    <tr>\n",
       "      <th>Po</th>\n",
       "      <td>0</td>\n",
       "      <td>3</td>\n",
       "      <td>0</td>\n",
       "      <td>0</td>\n",
       "      <td>0</td>\n",
       "    </tr>\n",
       "    <tr>\n",
       "      <th>TA</th>\n",
       "      <td>0</td>\n",
       "      <td>0</td>\n",
       "      <td>0</td>\n",
       "      <td>1295</td>\n",
       "      <td>0</td>\n",
       "    </tr>\n",
       "  </tbody>\n",
       "</table>\n",
       "</div>"
      ],
      "text/plain": [
       "bsmt_condition   0  1   2     3   4\n",
       "BsmtCond                           \n",
       "Fa               0  0  59     0   0\n",
       "Gd               0  0   0     0  57\n",
       "NoBasement      45  0   0     0   0\n",
       "Po               0  3   0     0   0\n",
       "TA               0  0   0  1295   0"
      ]
     },
     "execution_count": 457,
     "metadata": {},
     "output_type": "execute_result"
    }
   ],
   "source": [
    "test['bsmt_condition'] = 0\n",
    "test.loc[(test.BsmtCond == 'Po'), 'bsmt_condition'] = 1\n",
    "test.loc[(test.BsmtCond == 'Fa'), 'bsmt_condition'] = 2\n",
    "test.loc[(test.BsmtCond == 'TA'), 'bsmt_condition'] = 3\n",
    "test.loc[(test.BsmtCond == 'Gd'), 'bsmt_condition'] = 4\n",
    "pd.crosstab(test.BsmtCond, test.bsmt_condition)"
   ]
  },
  {
   "cell_type": "code",
   "execution_count": 458,
   "metadata": {},
   "outputs": [
    {
     "name": "stdout",
     "output_type": "stream",
     "text": [
      "(1460, 160)\n",
      "(1459, 159)\n"
     ]
    }
   ],
   "source": [
    "print(train.shape)\n",
    "print(test.shape)"
   ]
  },
  {
   "cell_type": "code",
   "execution_count": 459,
   "metadata": {},
   "outputs": [
    {
     "data": {
      "text/html": [
       "<div>\n",
       "<style>\n",
       "    .dataframe thead tr:only-child th {\n",
       "        text-align: right;\n",
       "    }\n",
       "\n",
       "    .dataframe thead th {\n",
       "        text-align: left;\n",
       "    }\n",
       "\n",
       "    .dataframe tbody tr th {\n",
       "        vertical-align: top;\n",
       "    }\n",
       "</style>\n",
       "<table border=\"1\" class=\"dataframe\">\n",
       "  <thead>\n",
       "    <tr style=\"text-align: right;\">\n",
       "      <th></th>\n",
       "      <th>bsmt_height</th>\n",
       "      <th>bsmt_condition</th>\n",
       "    </tr>\n",
       "  </thead>\n",
       "  <tbody>\n",
       "    <tr>\n",
       "      <th>bsmt_height</th>\n",
       "      <td>1.000000</td>\n",
       "      <td>0.535957</td>\n",
       "    </tr>\n",
       "    <tr>\n",
       "      <th>bsmt_condition</th>\n",
       "      <td>0.535957</td>\n",
       "      <td>1.000000</td>\n",
       "    </tr>\n",
       "  </tbody>\n",
       "</table>\n",
       "</div>"
      ],
      "text/plain": [
       "                bsmt_height  bsmt_condition\n",
       "bsmt_height        1.000000        0.535957\n",
       "bsmt_condition     0.535957        1.000000"
      ]
     },
     "execution_count": 459,
     "metadata": {},
     "output_type": "execute_result"
    }
   ],
   "source": [
    "train[['bsmt_height','bsmt_condition']].corr()  # Correlation is 0.536"
   ]
  },
  {
   "cell_type": "markdown",
   "metadata": {},
   "source": [
    "###### BsmtExposure: Refers to walkout or garden level walls"
   ]
  },
  {
   "cell_type": "code",
   "execution_count": 460,
   "metadata": {
    "collapsed": true
   },
   "outputs": [],
   "source": [
    "# Replacing NAs with 'None' in both data frames:\n",
    "train['BsmtExposure'].fillna('NoBasement', inplace=True)\n",
    "test['BsmtExposure'].fillna('NoBasement', inplace=True)"
   ]
  },
  {
   "cell_type": "code",
   "execution_count": 461,
   "metadata": {},
   "outputs": [
    {
     "name": "stdout",
     "output_type": "stream",
     "text": [
      "No            65.27\n",
      "Av            15.14\n",
      "Gd             9.18\n",
      "Mn             7.81\n",
      "NoBasement     2.60\n",
      "Name: BsmtExposure, dtype: float64\n",
      "No            65.14\n",
      "Av            13.49\n",
      "Gd             9.73\n",
      "Mn             8.56\n",
      "NoBasement     3.01\n",
      "Name: BsmtExposure, dtype: float64\n"
     ]
    }
   ],
   "source": [
    "print((train.BsmtExposure.value_counts().sort_values(ascending = False)/N*100).round(2))\n",
    "print((test.BsmtExposure.value_counts().sort_values(ascending = False)/N*100).round(2))"
   ]
  },
  {
   "cell_type": "code",
   "execution_count": 462,
   "metadata": {},
   "outputs": [
    {
     "data": {
      "text/html": [
       "<div>\n",
       "<style>\n",
       "    .dataframe thead tr:only-child th {\n",
       "        text-align: right;\n",
       "    }\n",
       "\n",
       "    .dataframe thead th {\n",
       "        text-align: left;\n",
       "    }\n",
       "\n",
       "    .dataframe tbody tr th {\n",
       "        vertical-align: top;\n",
       "    }\n",
       "</style>\n",
       "<table border=\"1\" class=\"dataframe\">\n",
       "  <thead>\n",
       "    <tr style=\"text-align: right;\">\n",
       "      <th>bsmt_exposure</th>\n",
       "      <th>0</th>\n",
       "      <th>1</th>\n",
       "      <th>2</th>\n",
       "      <th>3</th>\n",
       "    </tr>\n",
       "    <tr>\n",
       "      <th>BsmtExposure</th>\n",
       "      <th></th>\n",
       "      <th></th>\n",
       "      <th></th>\n",
       "      <th></th>\n",
       "    </tr>\n",
       "  </thead>\n",
       "  <tbody>\n",
       "    <tr>\n",
       "      <th>Av</th>\n",
       "      <td>0</td>\n",
       "      <td>0</td>\n",
       "      <td>221</td>\n",
       "      <td>0</td>\n",
       "    </tr>\n",
       "    <tr>\n",
       "      <th>Gd</th>\n",
       "      <td>0</td>\n",
       "      <td>0</td>\n",
       "      <td>0</td>\n",
       "      <td>134</td>\n",
       "    </tr>\n",
       "    <tr>\n",
       "      <th>Mn</th>\n",
       "      <td>0</td>\n",
       "      <td>114</td>\n",
       "      <td>0</td>\n",
       "      <td>0</td>\n",
       "    </tr>\n",
       "    <tr>\n",
       "      <th>No</th>\n",
       "      <td>953</td>\n",
       "      <td>0</td>\n",
       "      <td>0</td>\n",
       "      <td>0</td>\n",
       "    </tr>\n",
       "    <tr>\n",
       "      <th>NoBasement</th>\n",
       "      <td>38</td>\n",
       "      <td>0</td>\n",
       "      <td>0</td>\n",
       "      <td>0</td>\n",
       "    </tr>\n",
       "  </tbody>\n",
       "</table>\n",
       "</div>"
      ],
      "text/plain": [
       "bsmt_exposure    0    1    2    3\n",
       "BsmtExposure                     \n",
       "Av               0    0  221    0\n",
       "Gd               0    0    0  134\n",
       "Mn               0  114    0    0\n",
       "No             953    0    0    0\n",
       "NoBasement      38    0    0    0"
      ]
     },
     "execution_count": 462,
     "metadata": {},
     "output_type": "execute_result"
    }
   ],
   "source": [
    "train['bsmt_exposure'] = 0\n",
    "train.loc[(train.BsmtExposure == 'Mn'), 'bsmt_exposure'] = 1\n",
    "train.loc[(train.BsmtExposure == 'Av'), 'bsmt_exposure'] = 2\n",
    "train.loc[(train.BsmtExposure == 'Gd'), 'bsmt_exposure'] = 3\n",
    "pd.crosstab(train.BsmtExposure, train.bsmt_exposure)"
   ]
  },
  {
   "cell_type": "code",
   "execution_count": 463,
   "metadata": {},
   "outputs": [
    {
     "data": {
      "text/html": [
       "<div>\n",
       "<style>\n",
       "    .dataframe thead tr:only-child th {\n",
       "        text-align: right;\n",
       "    }\n",
       "\n",
       "    .dataframe thead th {\n",
       "        text-align: left;\n",
       "    }\n",
       "\n",
       "    .dataframe tbody tr th {\n",
       "        vertical-align: top;\n",
       "    }\n",
       "</style>\n",
       "<table border=\"1\" class=\"dataframe\">\n",
       "  <thead>\n",
       "    <tr style=\"text-align: right;\">\n",
       "      <th>bsmt_exposure</th>\n",
       "      <th>0</th>\n",
       "      <th>1</th>\n",
       "      <th>2</th>\n",
       "      <th>3</th>\n",
       "    </tr>\n",
       "    <tr>\n",
       "      <th>BsmtExposure</th>\n",
       "      <th></th>\n",
       "      <th></th>\n",
       "      <th></th>\n",
       "      <th></th>\n",
       "    </tr>\n",
       "  </thead>\n",
       "  <tbody>\n",
       "    <tr>\n",
       "      <th>Av</th>\n",
       "      <td>0</td>\n",
       "      <td>0</td>\n",
       "      <td>197</td>\n",
       "      <td>0</td>\n",
       "    </tr>\n",
       "    <tr>\n",
       "      <th>Gd</th>\n",
       "      <td>0</td>\n",
       "      <td>0</td>\n",
       "      <td>0</td>\n",
       "      <td>142</td>\n",
       "    </tr>\n",
       "    <tr>\n",
       "      <th>Mn</th>\n",
       "      <td>0</td>\n",
       "      <td>125</td>\n",
       "      <td>0</td>\n",
       "      <td>0</td>\n",
       "    </tr>\n",
       "    <tr>\n",
       "      <th>No</th>\n",
       "      <td>951</td>\n",
       "      <td>0</td>\n",
       "      <td>0</td>\n",
       "      <td>0</td>\n",
       "    </tr>\n",
       "    <tr>\n",
       "      <th>NoBasement</th>\n",
       "      <td>44</td>\n",
       "      <td>0</td>\n",
       "      <td>0</td>\n",
       "      <td>0</td>\n",
       "    </tr>\n",
       "  </tbody>\n",
       "</table>\n",
       "</div>"
      ],
      "text/plain": [
       "bsmt_exposure    0    1    2    3\n",
       "BsmtExposure                     \n",
       "Av               0    0  197    0\n",
       "Gd               0    0    0  142\n",
       "Mn               0  125    0    0\n",
       "No             951    0    0    0\n",
       "NoBasement      44    0    0    0"
      ]
     },
     "execution_count": 463,
     "metadata": {},
     "output_type": "execute_result"
    }
   ],
   "source": [
    "test['bsmt_exposure'] = 0\n",
    "test.loc[(test.BsmtExposure == 'Mn'), 'bsmt_exposure'] = 1\n",
    "test.loc[(test.BsmtExposure == 'Av'), 'bsmt_exposure'] = 2\n",
    "test.loc[(test.BsmtExposure == 'Gd'), 'bsmt_exposure'] = 3\n",
    "pd.crosstab(test.BsmtExposure, test.bsmt_exposure)"
   ]
  },
  {
   "cell_type": "code",
   "execution_count": 464,
   "metadata": {},
   "outputs": [
    {
     "name": "stdout",
     "output_type": "stream",
     "text": [
      "(1460, 161)\n",
      "(1459, 160)\n"
     ]
    }
   ],
   "source": [
    "print(train.shape)\n",
    "print(test.shape)"
   ]
  },
  {
   "cell_type": "markdown",
   "metadata": {},
   "source": [
    "###### BsmtFinType1: Rating of basement finished area"
   ]
  },
  {
   "cell_type": "markdown",
   "metadata": {},
   "source": [
    "Created 2 quantitative vars: bsmt_finished1 and bsmt_finished2"
   ]
  },
  {
   "cell_type": "code",
   "execution_count": 465,
   "metadata": {
    "collapsed": true
   },
   "outputs": [],
   "source": [
    "# Replacing NAs with 'None' in both data frames:\n",
    "train['BsmtFinType1'].fillna('NoBasement', inplace=True)\n",
    "train['BsmtFinType2'].fillna('NoBasement', inplace=True)\n",
    "test['BsmtFinType1'].fillna('NoBasement', inplace=True)\n",
    "test['BsmtFinType2'].fillna('NoBasement', inplace=True)"
   ]
  },
  {
   "cell_type": "code",
   "execution_count": 466,
   "metadata": {
    "collapsed": true
   },
   "outputs": [],
   "source": [
    "# print((train.BsmtFinType1.value_counts().sort_values(ascending = False)/N*100).round(2))\n",
    "# print((train.BsmtFinType2.value_counts().sort_values(ascending = False)/N*100).round(2))"
   ]
  },
  {
   "cell_type": "code",
   "execution_count": 467,
   "metadata": {
    "collapsed": true
   },
   "outputs": [],
   "source": [
    "# print((test.BsmtFinType1.value_counts().sort_values(ascending = False)/N*100).round(2))\n",
    "# print((test.BsmtFinType2.value_counts().sort_values(ascending = False)/N*100).round(2))"
   ]
  },
  {
   "cell_type": "code",
   "execution_count": 468,
   "metadata": {},
   "outputs": [
    {
     "data": {
      "text/html": [
       "<div>\n",
       "<style>\n",
       "    .dataframe thead tr:only-child th {\n",
       "        text-align: right;\n",
       "    }\n",
       "\n",
       "    .dataframe thead th {\n",
       "        text-align: left;\n",
       "    }\n",
       "\n",
       "    .dataframe tbody tr th {\n",
       "        vertical-align: top;\n",
       "    }\n",
       "</style>\n",
       "<table border=\"1\" class=\"dataframe\">\n",
       "  <thead>\n",
       "    <tr style=\"text-align: right;\">\n",
       "      <th>bsmt_finished1</th>\n",
       "      <th>0</th>\n",
       "      <th>1</th>\n",
       "      <th>2</th>\n",
       "      <th>3</th>\n",
       "      <th>4</th>\n",
       "    </tr>\n",
       "    <tr>\n",
       "      <th>BsmtFinType1</th>\n",
       "      <th></th>\n",
       "      <th></th>\n",
       "      <th></th>\n",
       "      <th></th>\n",
       "      <th></th>\n",
       "    </tr>\n",
       "  </thead>\n",
       "  <tbody>\n",
       "    <tr>\n",
       "      <th>ALQ</th>\n",
       "      <td>0</td>\n",
       "      <td>0</td>\n",
       "      <td>0</td>\n",
       "      <td>220</td>\n",
       "      <td>0</td>\n",
       "    </tr>\n",
       "    <tr>\n",
       "      <th>BLQ</th>\n",
       "      <td>0</td>\n",
       "      <td>0</td>\n",
       "      <td>148</td>\n",
       "      <td>0</td>\n",
       "      <td>0</td>\n",
       "    </tr>\n",
       "    <tr>\n",
       "      <th>GLQ</th>\n",
       "      <td>0</td>\n",
       "      <td>0</td>\n",
       "      <td>0</td>\n",
       "      <td>0</td>\n",
       "      <td>418</td>\n",
       "    </tr>\n",
       "    <tr>\n",
       "      <th>LwQ</th>\n",
       "      <td>0</td>\n",
       "      <td>74</td>\n",
       "      <td>0</td>\n",
       "      <td>0</td>\n",
       "      <td>0</td>\n",
       "    </tr>\n",
       "    <tr>\n",
       "      <th>NoBasement</th>\n",
       "      <td>37</td>\n",
       "      <td>0</td>\n",
       "      <td>0</td>\n",
       "      <td>0</td>\n",
       "      <td>0</td>\n",
       "    </tr>\n",
       "    <tr>\n",
       "      <th>Rec</th>\n",
       "      <td>0</td>\n",
       "      <td>0</td>\n",
       "      <td>133</td>\n",
       "      <td>0</td>\n",
       "      <td>0</td>\n",
       "    </tr>\n",
       "    <tr>\n",
       "      <th>Unf</th>\n",
       "      <td>0</td>\n",
       "      <td>430</td>\n",
       "      <td>0</td>\n",
       "      <td>0</td>\n",
       "      <td>0</td>\n",
       "    </tr>\n",
       "  </tbody>\n",
       "</table>\n",
       "</div>"
      ],
      "text/plain": [
       "bsmt_finished1   0    1    2    3    4\n",
       "BsmtFinType1                          \n",
       "ALQ              0    0    0  220    0\n",
       "BLQ              0    0  148    0    0\n",
       "GLQ              0    0    0    0  418\n",
       "LwQ              0   74    0    0    0\n",
       "NoBasement      37    0    0    0    0\n",
       "Rec              0    0  133    0    0\n",
       "Unf              0  430    0    0    0"
      ]
     },
     "execution_count": 468,
     "metadata": {},
     "output_type": "execute_result"
    }
   ],
   "source": [
    "train['bsmt_finished1'] = 0\n",
    "train.loc[(train.BsmtFinType1 == 'Unf'), 'bsmt_finished1'] = 1\n",
    "train.loc[(train.BsmtFinType1 == 'LwQ'), 'bsmt_finished1'] = 1\n",
    "train.loc[(train.BsmtFinType1 == 'BLQ'), 'bsmt_finished1'] = 2\n",
    "train.loc[(train.BsmtFinType1 == 'Rec'), 'bsmt_finished1'] = 2\n",
    "train.loc[(train.BsmtFinType1 == 'ALQ'), 'bsmt_finished1'] = 3\n",
    "train.loc[(train.BsmtFinType1 == 'GLQ'), 'bsmt_finished1'] = 4\n",
    "pd.crosstab(train.BsmtFinType1, train.bsmt_finished1)"
   ]
  },
  {
   "cell_type": "code",
   "execution_count": 469,
   "metadata": {},
   "outputs": [
    {
     "data": {
      "text/html": [
       "<div>\n",
       "<style>\n",
       "    .dataframe thead tr:only-child th {\n",
       "        text-align: right;\n",
       "    }\n",
       "\n",
       "    .dataframe thead th {\n",
       "        text-align: left;\n",
       "    }\n",
       "\n",
       "    .dataframe tbody tr th {\n",
       "        vertical-align: top;\n",
       "    }\n",
       "</style>\n",
       "<table border=\"1\" class=\"dataframe\">\n",
       "  <thead>\n",
       "    <tr style=\"text-align: right;\">\n",
       "      <th>bsmt_finished1</th>\n",
       "      <th>0</th>\n",
       "      <th>1</th>\n",
       "      <th>2</th>\n",
       "      <th>3</th>\n",
       "      <th>4</th>\n",
       "    </tr>\n",
       "    <tr>\n",
       "      <th>BsmtFinType2</th>\n",
       "      <th></th>\n",
       "      <th></th>\n",
       "      <th></th>\n",
       "      <th></th>\n",
       "      <th></th>\n",
       "    </tr>\n",
       "  </thead>\n",
       "  <tbody>\n",
       "    <tr>\n",
       "      <th>ALQ</th>\n",
       "      <td>0</td>\n",
       "      <td>9</td>\n",
       "      <td>6</td>\n",
       "      <td>0</td>\n",
       "      <td>4</td>\n",
       "    </tr>\n",
       "    <tr>\n",
       "      <th>BLQ</th>\n",
       "      <td>0</td>\n",
       "      <td>4</td>\n",
       "      <td>12</td>\n",
       "      <td>15</td>\n",
       "      <td>2</td>\n",
       "    </tr>\n",
       "    <tr>\n",
       "      <th>GLQ</th>\n",
       "      <td>0</td>\n",
       "      <td>7</td>\n",
       "      <td>5</td>\n",
       "      <td>2</td>\n",
       "      <td>0</td>\n",
       "    </tr>\n",
       "    <tr>\n",
       "      <th>LwQ</th>\n",
       "      <td>0</td>\n",
       "      <td>0</td>\n",
       "      <td>21</td>\n",
       "      <td>15</td>\n",
       "      <td>10</td>\n",
       "    </tr>\n",
       "    <tr>\n",
       "      <th>NoBasement</th>\n",
       "      <td>37</td>\n",
       "      <td>0</td>\n",
       "      <td>0</td>\n",
       "      <td>0</td>\n",
       "      <td>1</td>\n",
       "    </tr>\n",
       "    <tr>\n",
       "      <th>Rec</th>\n",
       "      <td>0</td>\n",
       "      <td>8</td>\n",
       "      <td>15</td>\n",
       "      <td>22</td>\n",
       "      <td>9</td>\n",
       "    </tr>\n",
       "    <tr>\n",
       "      <th>Unf</th>\n",
       "      <td>0</td>\n",
       "      <td>476</td>\n",
       "      <td>222</td>\n",
       "      <td>166</td>\n",
       "      <td>392</td>\n",
       "    </tr>\n",
       "  </tbody>\n",
       "</table>\n",
       "</div>"
      ],
      "text/plain": [
       "bsmt_finished1   0    1    2    3    4\n",
       "BsmtFinType2                          \n",
       "ALQ              0    9    6    0    4\n",
       "BLQ              0    4   12   15    2\n",
       "GLQ              0    7    5    2    0\n",
       "LwQ              0    0   21   15   10\n",
       "NoBasement      37    0    0    0    1\n",
       "Rec              0    8   15   22    9\n",
       "Unf              0  476  222  166  392"
      ]
     },
     "execution_count": 469,
     "metadata": {},
     "output_type": "execute_result"
    }
   ],
   "source": [
    "train['bsmt_finished2'] = 0\n",
    "train.loc[(train.BsmtFinType2 == 'Unf'), 'bsmt_finished2'] = 1\n",
    "train.loc[(train.BsmtFinType2 == 'LwQ'), 'bsmt_finished2'] = 1\n",
    "train.loc[(train.BsmtFinType2 == 'BLQ'), 'bsmt_finished2'] = 2\n",
    "train.loc[(train.BsmtFinType2 == 'Rec'), 'bsmt_finished2'] = 2\n",
    "train.loc[(train.BsmtFinType2 == 'ALQ'), 'bsmt_finished2'] = 3\n",
    "train.loc[(train.BsmtFinType2 == 'GLQ'), 'bsmt_finished2'] = 4\n",
    "pd.crosstab(train.BsmtFinType2, train.bsmt_finished1)"
   ]
  },
  {
   "cell_type": "code",
   "execution_count": 470,
   "metadata": {},
   "outputs": [
    {
     "data": {
      "text/html": [
       "<div>\n",
       "<style>\n",
       "    .dataframe thead tr:only-child th {\n",
       "        text-align: right;\n",
       "    }\n",
       "\n",
       "    .dataframe thead th {\n",
       "        text-align: left;\n",
       "    }\n",
       "\n",
       "    .dataframe tbody tr th {\n",
       "        vertical-align: top;\n",
       "    }\n",
       "</style>\n",
       "<table border=\"1\" class=\"dataframe\">\n",
       "  <thead>\n",
       "    <tr style=\"text-align: right;\">\n",
       "      <th>bsmt_finished1</th>\n",
       "      <th>0</th>\n",
       "      <th>1</th>\n",
       "      <th>2</th>\n",
       "      <th>3</th>\n",
       "      <th>4</th>\n",
       "    </tr>\n",
       "    <tr>\n",
       "      <th>BsmtFinType1</th>\n",
       "      <th></th>\n",
       "      <th></th>\n",
       "      <th></th>\n",
       "      <th></th>\n",
       "      <th></th>\n",
       "    </tr>\n",
       "  </thead>\n",
       "  <tbody>\n",
       "    <tr>\n",
       "      <th>ALQ</th>\n",
       "      <td>0</td>\n",
       "      <td>0</td>\n",
       "      <td>0</td>\n",
       "      <td>209</td>\n",
       "      <td>0</td>\n",
       "    </tr>\n",
       "    <tr>\n",
       "      <th>BLQ</th>\n",
       "      <td>0</td>\n",
       "      <td>0</td>\n",
       "      <td>121</td>\n",
       "      <td>0</td>\n",
       "      <td>0</td>\n",
       "    </tr>\n",
       "    <tr>\n",
       "      <th>GLQ</th>\n",
       "      <td>0</td>\n",
       "      <td>0</td>\n",
       "      <td>0</td>\n",
       "      <td>0</td>\n",
       "      <td>431</td>\n",
       "    </tr>\n",
       "    <tr>\n",
       "      <th>LwQ</th>\n",
       "      <td>0</td>\n",
       "      <td>80</td>\n",
       "      <td>0</td>\n",
       "      <td>0</td>\n",
       "      <td>0</td>\n",
       "    </tr>\n",
       "    <tr>\n",
       "      <th>NoBasement</th>\n",
       "      <td>42</td>\n",
       "      <td>0</td>\n",
       "      <td>0</td>\n",
       "      <td>0</td>\n",
       "      <td>0</td>\n",
       "    </tr>\n",
       "    <tr>\n",
       "      <th>Rec</th>\n",
       "      <td>0</td>\n",
       "      <td>0</td>\n",
       "      <td>155</td>\n",
       "      <td>0</td>\n",
       "      <td>0</td>\n",
       "    </tr>\n",
       "    <tr>\n",
       "      <th>Unf</th>\n",
       "      <td>0</td>\n",
       "      <td>421</td>\n",
       "      <td>0</td>\n",
       "      <td>0</td>\n",
       "      <td>0</td>\n",
       "    </tr>\n",
       "  </tbody>\n",
       "</table>\n",
       "</div>"
      ],
      "text/plain": [
       "bsmt_finished1   0    1    2    3    4\n",
       "BsmtFinType1                          \n",
       "ALQ              0    0    0  209    0\n",
       "BLQ              0    0  121    0    0\n",
       "GLQ              0    0    0    0  431\n",
       "LwQ              0   80    0    0    0\n",
       "NoBasement      42    0    0    0    0\n",
       "Rec              0    0  155    0    0\n",
       "Unf              0  421    0    0    0"
      ]
     },
     "execution_count": 470,
     "metadata": {},
     "output_type": "execute_result"
    }
   ],
   "source": [
    "test['bsmt_finished1'] = 0\n",
    "test.loc[(test.BsmtFinType1 == 'Unf'), 'bsmt_finished1'] = 1\n",
    "test.loc[(test.BsmtFinType1 == 'LwQ'), 'bsmt_finished1'] = 1\n",
    "test.loc[(test.BsmtFinType1 == 'BLQ'), 'bsmt_finished1'] = 2\n",
    "test.loc[(test.BsmtFinType1 == 'Rec'), 'bsmt_finished1'] = 2\n",
    "test.loc[(test.BsmtFinType1 == 'ALQ'), 'bsmt_finished1'] = 3\n",
    "test.loc[(test.BsmtFinType1 == 'GLQ'), 'bsmt_finished1'] = 4\n",
    "pd.crosstab(test.BsmtFinType1, test.bsmt_finished1)"
   ]
  },
  {
   "cell_type": "code",
   "execution_count": 471,
   "metadata": {},
   "outputs": [
    {
     "data": {
      "text/html": [
       "<div>\n",
       "<style>\n",
       "    .dataframe thead tr:only-child th {\n",
       "        text-align: right;\n",
       "    }\n",
       "\n",
       "    .dataframe thead th {\n",
       "        text-align: left;\n",
       "    }\n",
       "\n",
       "    .dataframe tbody tr th {\n",
       "        vertical-align: top;\n",
       "    }\n",
       "</style>\n",
       "<table border=\"1\" class=\"dataframe\">\n",
       "  <thead>\n",
       "    <tr style=\"text-align: right;\">\n",
       "      <th>bsmt_finished2</th>\n",
       "      <th>0</th>\n",
       "      <th>1</th>\n",
       "      <th>2</th>\n",
       "      <th>3</th>\n",
       "      <th>4</th>\n",
       "    </tr>\n",
       "    <tr>\n",
       "      <th>BsmtFinType2</th>\n",
       "      <th></th>\n",
       "      <th></th>\n",
       "      <th></th>\n",
       "      <th></th>\n",
       "      <th></th>\n",
       "    </tr>\n",
       "  </thead>\n",
       "  <tbody>\n",
       "    <tr>\n",
       "      <th>ALQ</th>\n",
       "      <td>0</td>\n",
       "      <td>0</td>\n",
       "      <td>0</td>\n",
       "      <td>33</td>\n",
       "      <td>0</td>\n",
       "    </tr>\n",
       "    <tr>\n",
       "      <th>BLQ</th>\n",
       "      <td>0</td>\n",
       "      <td>0</td>\n",
       "      <td>35</td>\n",
       "      <td>0</td>\n",
       "      <td>0</td>\n",
       "    </tr>\n",
       "    <tr>\n",
       "      <th>GLQ</th>\n",
       "      <td>0</td>\n",
       "      <td>0</td>\n",
       "      <td>0</td>\n",
       "      <td>0</td>\n",
       "      <td>20</td>\n",
       "    </tr>\n",
       "    <tr>\n",
       "      <th>LwQ</th>\n",
       "      <td>0</td>\n",
       "      <td>41</td>\n",
       "      <td>0</td>\n",
       "      <td>0</td>\n",
       "      <td>0</td>\n",
       "    </tr>\n",
       "    <tr>\n",
       "      <th>NoBasement</th>\n",
       "      <td>42</td>\n",
       "      <td>0</td>\n",
       "      <td>0</td>\n",
       "      <td>0</td>\n",
       "      <td>0</td>\n",
       "    </tr>\n",
       "    <tr>\n",
       "      <th>Rec</th>\n",
       "      <td>0</td>\n",
       "      <td>0</td>\n",
       "      <td>51</td>\n",
       "      <td>0</td>\n",
       "      <td>0</td>\n",
       "    </tr>\n",
       "    <tr>\n",
       "      <th>Unf</th>\n",
       "      <td>0</td>\n",
       "      <td>1237</td>\n",
       "      <td>0</td>\n",
       "      <td>0</td>\n",
       "      <td>0</td>\n",
       "    </tr>\n",
       "  </tbody>\n",
       "</table>\n",
       "</div>"
      ],
      "text/plain": [
       "bsmt_finished2   0     1   2   3   4\n",
       "BsmtFinType2                        \n",
       "ALQ              0     0   0  33   0\n",
       "BLQ              0     0  35   0   0\n",
       "GLQ              0     0   0   0  20\n",
       "LwQ              0    41   0   0   0\n",
       "NoBasement      42     0   0   0   0\n",
       "Rec              0     0  51   0   0\n",
       "Unf              0  1237   0   0   0"
      ]
     },
     "execution_count": 471,
     "metadata": {},
     "output_type": "execute_result"
    }
   ],
   "source": [
    "test['bsmt_finished2'] = 0\n",
    "test.loc[(test.BsmtFinType2 == 'Unf'), 'bsmt_finished2'] = 1\n",
    "test.loc[(test.BsmtFinType2 == 'LwQ'), 'bsmt_finished2'] = 1\n",
    "test.loc[(test.BsmtFinType2 == 'BLQ'), 'bsmt_finished2'] = 2\n",
    "test.loc[(test.BsmtFinType2 == 'Rec'), 'bsmt_finished2'] = 2\n",
    "test.loc[(test.BsmtFinType2 == 'ALQ'), 'bsmt_finished2'] = 3\n",
    "test.loc[(test.BsmtFinType2 == 'GLQ'), 'bsmt_finished2'] = 4\n",
    "pd.crosstab(test.BsmtFinType2, test.bsmt_finished2)"
   ]
  },
  {
   "cell_type": "code",
   "execution_count": 472,
   "metadata": {},
   "outputs": [
    {
     "name": "stdout",
     "output_type": "stream",
     "text": [
      "(1460, 163)\n",
      "(1459, 162)\n"
     ]
    }
   ],
   "source": [
    "print(train.shape)\n",
    "print(test.shape)"
   ]
  },
  {
   "cell_type": "markdown",
   "metadata": {},
   "source": [
    "###### Basement Square Footage - create a new var - share of finished"
   ]
  },
  {
   "cell_type": "code",
   "execution_count": 473,
   "metadata": {
    "collapsed": true
   },
   "outputs": [],
   "source": [
    "train['BsmtFinishedShare'] = 1 - train['BsmtUnfSF']/train['TotalBsmtSF']\n",
    "train.loc[train.TotalBsmtSF == 0, 'BsmtFinishedShare'] = 0"
   ]
  },
  {
   "cell_type": "code",
   "execution_count": 474,
   "metadata": {
    "collapsed": true
   },
   "outputs": [],
   "source": [
    "test['BsmtFinishedShare'] = 1 - test['BsmtUnfSF']/test['TotalBsmtSF']\n",
    "test.loc[test.TotalBsmtSF == 0, 'BsmtFinishedShare'] = 0"
   ]
  },
  {
   "cell_type": "code",
   "execution_count": 475,
   "metadata": {
    "collapsed": true
   },
   "outputs": [],
   "source": [
    "# train[['BsmtUnfSF','TotalBsmtSF','BsmtFinishedShare']]"
   ]
  },
  {
   "cell_type": "code",
   "execution_count": 476,
   "metadata": {},
   "outputs": [
    {
     "data": {
      "text/plain": [
       "0.17388520502907454"
      ]
     },
     "execution_count": 476,
     "metadata": {},
     "output_type": "execute_result"
    }
   ],
   "source": [
    "train['BsmtFinishedShare'].corr(train['TotalBsmtSF'])  # correlation is 0.17"
   ]
  },
  {
   "cell_type": "code",
   "execution_count": 477,
   "metadata": {},
   "outputs": [
    {
     "data": {
      "text/plain": [
       "0.17388520502907454"
      ]
     },
     "execution_count": 477,
     "metadata": {},
     "output_type": "execute_result"
    }
   ],
   "source": [
    "train['BsmtFinishedShare'].corr(train['TotalBsmtSF'])  # correlation is 0.17"
   ]
  },
  {
   "cell_type": "code",
   "execution_count": 478,
   "metadata": {},
   "outputs": [
    {
     "data": {
      "text/plain": [
       "0.40902319772896112"
      ]
     },
     "execution_count": 478,
     "metadata": {},
     "output_type": "execute_result"
    }
   ],
   "source": [
    "test['BsmtUnfSF'].corr(test['TotalBsmtSF'])  # correlation is 0.41"
   ]
  },
  {
   "cell_type": "code",
   "execution_count": 479,
   "metadata": {},
   "outputs": [
    {
     "data": {
      "text/plain": [
       "(array([ 501.,    5.,    2.,    5.,    6.,   11.,   16.,   13.,   14.,\n",
       "          20.,   23.,   19.,   19.,   26.,   33.,   68.,   28.,   44.,\n",
       "          33.,   48.,   47.,   60.,   57.,   62.,   68.,   38.,   50.,\n",
       "          32.,   22.,   90.]),\n",
       " array([ 0.        ,  0.03333333,  0.06666667,  0.1       ,  0.13333333,\n",
       "         0.16666667,  0.2       ,  0.23333333,  0.26666667,  0.3       ,\n",
       "         0.33333333,  0.36666667,  0.4       ,  0.43333333,  0.46666667,\n",
       "         0.5       ,  0.53333333,  0.56666667,  0.6       ,  0.63333333,\n",
       "         0.66666667,  0.7       ,  0.73333333,  0.76666667,  0.8       ,\n",
       "         0.83333333,  0.86666667,  0.9       ,  0.93333333,  0.96666667,  1.        ]),\n",
       " <a list of 30 Patch objects>)"
      ]
     },
     "execution_count": 479,
     "metadata": {},
     "output_type": "execute_result"
    },
    {
     "data": {
      "image/png": "[encoded data removed]",
      "text/plain": [
       "<matplotlib.figure.Figure at 0x262e75b5f60>"
      ]
     },
     "metadata": {},
     "output_type": "display_data"
    }
   ],
   "source": [
    "plt.hist(train.BsmtFinishedShare, bins = 30)"
   ]
  },
  {
   "cell_type": "markdown",
   "metadata": {},
   "source": [
    "###### Heating: Type of heating - IGNORE, too little variance"
   ]
  },
  {
   "cell_type": "code",
   "execution_count": 480,
   "metadata": {},
   "outputs": [
    {
     "name": "stdout",
     "output_type": "stream",
     "text": [
      "GasA     97.81\n",
      "GasW      1.23\n",
      "Grav      0.48\n",
      "Wall      0.27\n",
      "OthW      0.14\n",
      "Floor     0.07\n",
      "Name: Heating, dtype: float64\n",
      "GasA    99.04\n",
      "GasW     0.62\n",
      "Wall     0.14\n",
      "Grav     0.14\n",
      "Name: Heating, dtype: float64\n"
     ]
    }
   ],
   "source": [
    "print((train.Heating.value_counts().sort_values(ascending = False)/N*100).round(2))\n",
    "print((test.Heating.value_counts().sort_values(ascending = False)/N*100).round(2))"
   ]
  },
  {
   "cell_type": "markdown",
   "metadata": {},
   "source": [
    "###### HeatingQC: Heating quality and condition"
   ]
  },
  {
   "cell_type": "markdown",
   "metadata": {},
   "source": [
    "Created quantitative variable 'heating_quality'"
   ]
  },
  {
   "cell_type": "code",
   "execution_count": 481,
   "metadata": {},
   "outputs": [
    {
     "name": "stdout",
     "output_type": "stream",
     "text": [
      "Ex    50.75\n",
      "TA    29.32\n",
      "Gd    16.51\n",
      "Fa     3.36\n",
      "Po     0.07\n",
      "Name: HeatingQC, dtype: float64\n",
      "Ex    51.51\n",
      "TA    29.38\n",
      "Gd    15.96\n",
      "Fa     2.95\n",
      "Po     0.14\n",
      "Name: HeatingQC, dtype: float64\n"
     ]
    }
   ],
   "source": [
    "print((train.HeatingQC.value_counts().sort_values(ascending = False)/N*100).round(2))\n",
    "print((test.HeatingQC.value_counts().sort_values(ascending = False)/N*100).round(2))"
   ]
  },
  {
   "cell_type": "code",
   "execution_count": 482,
   "metadata": {},
   "outputs": [
    {
     "data": {
      "text/html": [
       "<div>\n",
       "<style>\n",
       "    .dataframe thead tr:only-child th {\n",
       "        text-align: right;\n",
       "    }\n",
       "\n",
       "    .dataframe thead th {\n",
       "        text-align: left;\n",
       "    }\n",
       "\n",
       "    .dataframe tbody tr th {\n",
       "        vertical-align: top;\n",
       "    }\n",
       "</style>\n",
       "<table border=\"1\" class=\"dataframe\">\n",
       "  <thead>\n",
       "    <tr style=\"text-align: right;\">\n",
       "      <th>heating_quality</th>\n",
       "      <th>0</th>\n",
       "      <th>1</th>\n",
       "      <th>2</th>\n",
       "      <th>3</th>\n",
       "      <th>4</th>\n",
       "    </tr>\n",
       "    <tr>\n",
       "      <th>HeatingQC</th>\n",
       "      <th></th>\n",
       "      <th></th>\n",
       "      <th></th>\n",
       "      <th></th>\n",
       "      <th></th>\n",
       "    </tr>\n",
       "  </thead>\n",
       "  <tbody>\n",
       "    <tr>\n",
       "      <th>Ex</th>\n",
       "      <td>0</td>\n",
       "      <td>0</td>\n",
       "      <td>0</td>\n",
       "      <td>0</td>\n",
       "      <td>741</td>\n",
       "    </tr>\n",
       "    <tr>\n",
       "      <th>Fa</th>\n",
       "      <td>0</td>\n",
       "      <td>49</td>\n",
       "      <td>0</td>\n",
       "      <td>0</td>\n",
       "      <td>0</td>\n",
       "    </tr>\n",
       "    <tr>\n",
       "      <th>Gd</th>\n",
       "      <td>0</td>\n",
       "      <td>0</td>\n",
       "      <td>0</td>\n",
       "      <td>241</td>\n",
       "      <td>0</td>\n",
       "    </tr>\n",
       "    <tr>\n",
       "      <th>Po</th>\n",
       "      <td>1</td>\n",
       "      <td>0</td>\n",
       "      <td>0</td>\n",
       "      <td>0</td>\n",
       "      <td>0</td>\n",
       "    </tr>\n",
       "    <tr>\n",
       "      <th>TA</th>\n",
       "      <td>0</td>\n",
       "      <td>0</td>\n",
       "      <td>428</td>\n",
       "      <td>0</td>\n",
       "      <td>0</td>\n",
       "    </tr>\n",
       "  </tbody>\n",
       "</table>\n",
       "</div>"
      ],
      "text/plain": [
       "heating_quality  0   1    2    3    4\n",
       "HeatingQC                            \n",
       "Ex               0   0    0    0  741\n",
       "Fa               0  49    0    0    0\n",
       "Gd               0   0    0  241    0\n",
       "Po               1   0    0    0    0\n",
       "TA               0   0  428    0    0"
      ]
     },
     "execution_count": 482,
     "metadata": {},
     "output_type": "execute_result"
    }
   ],
   "source": [
    "train['heating_quality'] = 0\n",
    "train.loc[train.HeatingQC == 'Fa', 'heating_quality'] = 1\n",
    "train.loc[train.HeatingQC == 'TA', 'heating_quality'] = 2\n",
    "train.loc[train.HeatingQC == 'Gd', 'heating_quality'] = 3\n",
    "train.loc[train.HeatingQC == 'Ex', 'heating_quality'] = 4\n",
    "pd.crosstab(train.HeatingQC, train.heating_quality)"
   ]
  },
  {
   "cell_type": "code",
   "execution_count": 483,
   "metadata": {},
   "outputs": [
    {
     "data": {
      "text/html": [
       "<div>\n",
       "<style>\n",
       "    .dataframe thead tr:only-child th {\n",
       "        text-align: right;\n",
       "    }\n",
       "\n",
       "    .dataframe thead th {\n",
       "        text-align: left;\n",
       "    }\n",
       "\n",
       "    .dataframe tbody tr th {\n",
       "        vertical-align: top;\n",
       "    }\n",
       "</style>\n",
       "<table border=\"1\" class=\"dataframe\">\n",
       "  <thead>\n",
       "    <tr style=\"text-align: right;\">\n",
       "      <th>heating_quality</th>\n",
       "      <th>0</th>\n",
       "      <th>1</th>\n",
       "      <th>2</th>\n",
       "      <th>3</th>\n",
       "      <th>4</th>\n",
       "    </tr>\n",
       "    <tr>\n",
       "      <th>HeatingQC</th>\n",
       "      <th></th>\n",
       "      <th></th>\n",
       "      <th></th>\n",
       "      <th></th>\n",
       "      <th></th>\n",
       "    </tr>\n",
       "  </thead>\n",
       "  <tbody>\n",
       "    <tr>\n",
       "      <th>Ex</th>\n",
       "      <td>0</td>\n",
       "      <td>0</td>\n",
       "      <td>0</td>\n",
       "      <td>0</td>\n",
       "      <td>752</td>\n",
       "    </tr>\n",
       "    <tr>\n",
       "      <th>Fa</th>\n",
       "      <td>0</td>\n",
       "      <td>43</td>\n",
       "      <td>0</td>\n",
       "      <td>0</td>\n",
       "      <td>0</td>\n",
       "    </tr>\n",
       "    <tr>\n",
       "      <th>Gd</th>\n",
       "      <td>0</td>\n",
       "      <td>0</td>\n",
       "      <td>0</td>\n",
       "      <td>233</td>\n",
       "      <td>0</td>\n",
       "    </tr>\n",
       "    <tr>\n",
       "      <th>Po</th>\n",
       "      <td>2</td>\n",
       "      <td>0</td>\n",
       "      <td>0</td>\n",
       "      <td>0</td>\n",
       "      <td>0</td>\n",
       "    </tr>\n",
       "    <tr>\n",
       "      <th>TA</th>\n",
       "      <td>0</td>\n",
       "      <td>0</td>\n",
       "      <td>429</td>\n",
       "      <td>0</td>\n",
       "      <td>0</td>\n",
       "    </tr>\n",
       "  </tbody>\n",
       "</table>\n",
       "</div>"
      ],
      "text/plain": [
       "heating_quality  0   1    2    3    4\n",
       "HeatingQC                            \n",
       "Ex               0   0    0    0  752\n",
       "Fa               0  43    0    0    0\n",
       "Gd               0   0    0  233    0\n",
       "Po               2   0    0    0    0\n",
       "TA               0   0  429    0    0"
      ]
     },
     "execution_count": 483,
     "metadata": {},
     "output_type": "execute_result"
    }
   ],
   "source": [
    "test['heating_quality'] = 0\n",
    "test.loc[test.HeatingQC == 'Fa', 'heating_quality'] = 1\n",
    "test.loc[test.HeatingQC == 'TA', 'heating_quality'] = 2\n",
    "test.loc[test.HeatingQC == 'Gd', 'heating_quality'] = 3\n",
    "test.loc[test.HeatingQC == 'Ex', 'heating_quality'] = 4\n",
    "pd.crosstab(test.HeatingQC, test.heating_quality)"
   ]
  },
  {
   "cell_type": "code",
   "execution_count": 484,
   "metadata": {},
   "outputs": [
    {
     "name": "stdout",
     "output_type": "stream",
     "text": [
      "(1460, 165)\n",
      "(1459, 164)\n"
     ]
    }
   ],
   "source": [
    "print(train.shape)\n",
    "print(test.shape)"
   ]
  },
  {
   "cell_type": "markdown",
   "metadata": {},
   "source": [
    "###### CentralAir: Central air conditioning"
   ]
  },
  {
   "cell_type": "code",
   "execution_count": 485,
   "metadata": {},
   "outputs": [
    {
     "name": "stdout",
     "output_type": "stream",
     "text": [
      "Y    93.49\n",
      "N     6.51\n",
      "Name: CentralAir, dtype: float64\n",
      "Y    93.01\n",
      "N     6.92\n",
      "Name: CentralAir, dtype: float64\n"
     ]
    }
   ],
   "source": [
    "print((train.CentralAir.value_counts().sort_values(ascending = False)/N*100).round(2))\n",
    "print((test.CentralAir.value_counts().sort_values(ascending = False)/N*100).round(2))"
   ]
  },
  {
   "cell_type": "code",
   "execution_count": 486,
   "metadata": {},
   "outputs": [
    {
     "data": {
      "text/html": [
       "<div>\n",
       "<style>\n",
       "    .dataframe thead tr:only-child th {\n",
       "        text-align: right;\n",
       "    }\n",
       "\n",
       "    .dataframe thead th {\n",
       "        text-align: left;\n",
       "    }\n",
       "\n",
       "    .dataframe tbody tr th {\n",
       "        vertical-align: top;\n",
       "    }\n",
       "</style>\n",
       "<table border=\"1\" class=\"dataframe\">\n",
       "  <thead>\n",
       "    <tr style=\"text-align: right;\">\n",
       "      <th>central_air</th>\n",
       "      <th>0</th>\n",
       "      <th>1</th>\n",
       "    </tr>\n",
       "    <tr>\n",
       "      <th>CentralAir</th>\n",
       "      <th></th>\n",
       "      <th></th>\n",
       "    </tr>\n",
       "  </thead>\n",
       "  <tbody>\n",
       "    <tr>\n",
       "      <th>N</th>\n",
       "      <td>95</td>\n",
       "      <td>0</td>\n",
       "    </tr>\n",
       "    <tr>\n",
       "      <th>Y</th>\n",
       "      <td>0</td>\n",
       "      <td>1365</td>\n",
       "    </tr>\n",
       "  </tbody>\n",
       "</table>\n",
       "</div>"
      ],
      "text/plain": [
       "central_air   0     1\n",
       "CentralAir           \n",
       "N            95     0\n",
       "Y             0  1365"
      ]
     },
     "execution_count": 486,
     "metadata": {},
     "output_type": "execute_result"
    }
   ],
   "source": [
    "# Creating a dummy:\n",
    "train['central_air'] = 0\n",
    "train.loc[train.CentralAir == 'Y', 'central_air'] = 1\n",
    "pd.crosstab(train.CentralAir, train.central_air)"
   ]
  },
  {
   "cell_type": "code",
   "execution_count": 487,
   "metadata": {},
   "outputs": [
    {
     "data": {
      "text/html": [
       "<div>\n",
       "<style>\n",
       "    .dataframe thead tr:only-child th {\n",
       "        text-align: right;\n",
       "    }\n",
       "\n",
       "    .dataframe thead th {\n",
       "        text-align: left;\n",
       "    }\n",
       "\n",
       "    .dataframe tbody tr th {\n",
       "        vertical-align: top;\n",
       "    }\n",
       "</style>\n",
       "<table border=\"1\" class=\"dataframe\">\n",
       "  <thead>\n",
       "    <tr style=\"text-align: right;\">\n",
       "      <th>central_air</th>\n",
       "      <th>0</th>\n",
       "      <th>1</th>\n",
       "    </tr>\n",
       "    <tr>\n",
       "      <th>CentralAir</th>\n",
       "      <th></th>\n",
       "      <th></th>\n",
       "    </tr>\n",
       "  </thead>\n",
       "  <tbody>\n",
       "    <tr>\n",
       "      <th>N</th>\n",
       "      <td>101</td>\n",
       "      <td>0</td>\n",
       "    </tr>\n",
       "    <tr>\n",
       "      <th>Y</th>\n",
       "      <td>0</td>\n",
       "      <td>1358</td>\n",
       "    </tr>\n",
       "  </tbody>\n",
       "</table>\n",
       "</div>"
      ],
      "text/plain": [
       "central_air    0     1\n",
       "CentralAir            \n",
       "N            101     0\n",
       "Y              0  1358"
      ]
     },
     "execution_count": 487,
     "metadata": {},
     "output_type": "execute_result"
    }
   ],
   "source": [
    "test['central_air'] = 0\n",
    "test.loc[test.CentralAir == 'Y', 'central_air'] = 1\n",
    "pd.crosstab(test.CentralAir, test.central_air)"
   ]
  },
  {
   "cell_type": "markdown",
   "metadata": {},
   "source": [
    "###### Electrical: Electrical system"
   ]
  },
  {
   "cell_type": "code",
   "execution_count": 488,
   "metadata": {},
   "outputs": [
    {
     "name": "stdout",
     "output_type": "stream",
     "text": [
      "SBrkr    91.37\n",
      "FuseA     6.44\n",
      "FuseF     1.85\n",
      "FuseP     0.21\n",
      "Mix       0.07\n",
      "Name: Electrical, dtype: float64\n",
      "SBrkr    91.58\n",
      "FuseA     6.44\n",
      "FuseF     1.58\n",
      "FuseP     0.34\n",
      "Name: Electrical, dtype: float64\n"
     ]
    }
   ],
   "source": [
    "print((train.Electrical.value_counts().sort_values(ascending = False)/N*100).round(2))\n",
    "print((test.Electrical.value_counts().sort_values(ascending = False)/N*100).round(2))"
   ]
  },
  {
   "cell_type": "code",
   "execution_count": 489,
   "metadata": {
    "collapsed": true
   },
   "outputs": [],
   "source": [
    "# Creating 2 dummies:\n",
    "train['elec_sbrkr'] = 0\n",
    "train.loc[train.Electrical == 'SBrkr', 'elec_sbrkr'] = 1\n",
    "train['elec_fuseA'] = 0\n",
    "train.loc[train.Electrical == 'FuseA', 'elec_fuseA'] = 1"
   ]
  },
  {
   "cell_type": "code",
   "execution_count": 490,
   "metadata": {
    "collapsed": true
   },
   "outputs": [],
   "source": [
    "test['elec_sbrkr'] = 0\n",
    "test.loc[test.Electrical == 'SBrkr', 'elec_sbrkr'] = 1\n",
    "test['elec_fuseA'] = 0\n",
    "test.loc[test.Electrical == 'FuseA', 'elec_fuseA'] = 1"
   ]
  },
  {
   "cell_type": "code",
   "execution_count": 491,
   "metadata": {},
   "outputs": [
    {
     "name": "stdout",
     "output_type": "stream",
     "text": [
      "(1460, 168)\n",
      "(1459, 167)\n"
     ]
    }
   ],
   "source": [
    "print(train.shape)\n",
    "print(test.shape)"
   ]
  },
  {
   "cell_type": "markdown",
   "metadata": {
    "collapsed": true
   },
   "source": [
    "###### KitchenQual: Kitchen quality"
   ]
  },
  {
   "cell_type": "markdown",
   "metadata": {},
   "source": [
    "Created a numeric variable kitchen_quality"
   ]
  },
  {
   "cell_type": "code",
   "execution_count": 492,
   "metadata": {},
   "outputs": [
    {
     "name": "stdout",
     "output_type": "stream",
     "text": [
      "TA    50.34\n",
      "Gd    40.14\n",
      "Ex     6.85\n",
      "Fa     2.67\n",
      "Name: KitchenQual, dtype: float64\n",
      "TA    51.85\n",
      "Gd    38.70\n",
      "Ex     7.19\n",
      "Fa     2.12\n",
      "Name: KitchenQual, dtype: float64\n"
     ]
    }
   ],
   "source": [
    "print((train.KitchenQual.value_counts().sort_values(ascending = False)/N*100).round(2))\n",
    "print((test.KitchenQual.value_counts().sort_values(ascending = False)/N*100).round(2))"
   ]
  },
  {
   "cell_type": "code",
   "execution_count": 493,
   "metadata": {},
   "outputs": [
    {
     "data": {
      "text/html": [
       "<div>\n",
       "<style>\n",
       "    .dataframe thead tr:only-child th {\n",
       "        text-align: right;\n",
       "    }\n",
       "\n",
       "    .dataframe thead th {\n",
       "        text-align: left;\n",
       "    }\n",
       "\n",
       "    .dataframe tbody tr th {\n",
       "        vertical-align: top;\n",
       "    }\n",
       "</style>\n",
       "<table border=\"1\" class=\"dataframe\">\n",
       "  <thead>\n",
       "    <tr style=\"text-align: right;\">\n",
       "      <th>kitchen_quality</th>\n",
       "      <th>0</th>\n",
       "      <th>1</th>\n",
       "      <th>2</th>\n",
       "      <th>3</th>\n",
       "    </tr>\n",
       "    <tr>\n",
       "      <th>KitchenQual</th>\n",
       "      <th></th>\n",
       "      <th></th>\n",
       "      <th></th>\n",
       "      <th></th>\n",
       "    </tr>\n",
       "  </thead>\n",
       "  <tbody>\n",
       "    <tr>\n",
       "      <th>Ex</th>\n",
       "      <td>0</td>\n",
       "      <td>0</td>\n",
       "      <td>0</td>\n",
       "      <td>100</td>\n",
       "    </tr>\n",
       "    <tr>\n",
       "      <th>Fa</th>\n",
       "      <td>39</td>\n",
       "      <td>0</td>\n",
       "      <td>0</td>\n",
       "      <td>0</td>\n",
       "    </tr>\n",
       "    <tr>\n",
       "      <th>Gd</th>\n",
       "      <td>0</td>\n",
       "      <td>0</td>\n",
       "      <td>586</td>\n",
       "      <td>0</td>\n",
       "    </tr>\n",
       "    <tr>\n",
       "      <th>TA</th>\n",
       "      <td>0</td>\n",
       "      <td>735</td>\n",
       "      <td>0</td>\n",
       "      <td>0</td>\n",
       "    </tr>\n",
       "  </tbody>\n",
       "</table>\n",
       "</div>"
      ],
      "text/plain": [
       "kitchen_quality   0    1    2    3\n",
       "KitchenQual                       \n",
       "Ex                0    0    0  100\n",
       "Fa               39    0    0    0\n",
       "Gd                0    0  586    0\n",
       "TA                0  735    0    0"
      ]
     },
     "execution_count": 493,
     "metadata": {},
     "output_type": "execute_result"
    }
   ],
   "source": [
    "train['kitchen_quality'] = 0\n",
    "train.loc[train.KitchenQual == 'TA', 'kitchen_quality'] = 1\n",
    "train.loc[train.KitchenQual == 'Gd', 'kitchen_quality'] = 2\n",
    "train.loc[train.KitchenQual == 'Ex', 'kitchen_quality'] = 3\n",
    "pd.crosstab(train.KitchenQual, train.kitchen_quality)"
   ]
  },
  {
   "cell_type": "code",
   "execution_count": 494,
   "metadata": {},
   "outputs": [
    {
     "data": {
      "text/html": [
       "<div>\n",
       "<style>\n",
       "    .dataframe thead tr:only-child th {\n",
       "        text-align: right;\n",
       "    }\n",
       "\n",
       "    .dataframe thead th {\n",
       "        text-align: left;\n",
       "    }\n",
       "\n",
       "    .dataframe tbody tr th {\n",
       "        vertical-align: top;\n",
       "    }\n",
       "</style>\n",
       "<table border=\"1\" class=\"dataframe\">\n",
       "  <thead>\n",
       "    <tr style=\"text-align: right;\">\n",
       "      <th>kitchen_quality</th>\n",
       "      <th>0</th>\n",
       "      <th>1</th>\n",
       "      <th>2</th>\n",
       "      <th>3</th>\n",
       "    </tr>\n",
       "    <tr>\n",
       "      <th>KitchenQual</th>\n",
       "      <th></th>\n",
       "      <th></th>\n",
       "      <th></th>\n",
       "      <th></th>\n",
       "    </tr>\n",
       "  </thead>\n",
       "  <tbody>\n",
       "    <tr>\n",
       "      <th>Ex</th>\n",
       "      <td>0</td>\n",
       "      <td>0</td>\n",
       "      <td>0</td>\n",
       "      <td>105</td>\n",
       "    </tr>\n",
       "    <tr>\n",
       "      <th>Fa</th>\n",
       "      <td>31</td>\n",
       "      <td>0</td>\n",
       "      <td>0</td>\n",
       "      <td>0</td>\n",
       "    </tr>\n",
       "    <tr>\n",
       "      <th>Gd</th>\n",
       "      <td>0</td>\n",
       "      <td>0</td>\n",
       "      <td>565</td>\n",
       "      <td>0</td>\n",
       "    </tr>\n",
       "    <tr>\n",
       "      <th>TA</th>\n",
       "      <td>0</td>\n",
       "      <td>757</td>\n",
       "      <td>0</td>\n",
       "      <td>0</td>\n",
       "    </tr>\n",
       "  </tbody>\n",
       "</table>\n",
       "</div>"
      ],
      "text/plain": [
       "kitchen_quality   0    1    2    3\n",
       "KitchenQual                       \n",
       "Ex                0    0    0  105\n",
       "Fa               31    0    0    0\n",
       "Gd                0    0  565    0\n",
       "TA                0  757    0    0"
      ]
     },
     "execution_count": 494,
     "metadata": {},
     "output_type": "execute_result"
    }
   ],
   "source": [
    "test['kitchen_quality'] = 0\n",
    "test.loc[test.KitchenQual == 'TA', 'kitchen_quality'] = 1\n",
    "test.loc[test.KitchenQual == 'Gd', 'kitchen_quality'] = 2\n",
    "test.loc[test.KitchenQual == 'Ex', 'kitchen_quality'] = 3\n",
    "pd.crosstab(test.KitchenQual, test.kitchen_quality)"
   ]
  },
  {
   "cell_type": "markdown",
   "metadata": {},
   "source": [
    "###### Functional: Home functionality (Assume typical unless deductions are warranted)"
   ]
  },
  {
   "cell_type": "markdown",
   "metadata": {
    "collapsed": true
   },
   "source": [
    "Created quantiative variable home_funct"
   ]
  },
  {
   "cell_type": "code",
   "execution_count": 495,
   "metadata": {
    "collapsed": true
   },
   "outputs": [],
   "source": [
    "# print((train.Functional.value_counts().sort_values(ascending = False)/N*100).round(2))\n",
    "# print((test.Functional.value_counts().sort_values(ascending = False)/N*100).round(2))"
   ]
  },
  {
   "cell_type": "code",
   "execution_count": 496,
   "metadata": {},
   "outputs": [
    {
     "data": {
      "text/html": [
       "<div>\n",
       "<style>\n",
       "    .dataframe thead tr:only-child th {\n",
       "        text-align: right;\n",
       "    }\n",
       "\n",
       "    .dataframe thead th {\n",
       "        text-align: left;\n",
       "    }\n",
       "\n",
       "    .dataframe tbody tr th {\n",
       "        vertical-align: top;\n",
       "    }\n",
       "</style>\n",
       "<table border=\"1\" class=\"dataframe\">\n",
       "  <thead>\n",
       "    <tr style=\"text-align: right;\">\n",
       "      <th>home_funct</th>\n",
       "      <th>0.0</th>\n",
       "      <th>1.0</th>\n",
       "      <th>1.5</th>\n",
       "      <th>3.0</th>\n",
       "      <th>5.0</th>\n",
       "      <th>5.5</th>\n",
       "      <th>7.0</th>\n",
       "    </tr>\n",
       "    <tr>\n",
       "      <th>Functional</th>\n",
       "      <th></th>\n",
       "      <th></th>\n",
       "      <th></th>\n",
       "      <th></th>\n",
       "      <th></th>\n",
       "      <th></th>\n",
       "      <th></th>\n",
       "    </tr>\n",
       "  </thead>\n",
       "  <tbody>\n",
       "    <tr>\n",
       "      <th>Maj1</th>\n",
       "      <td>0</td>\n",
       "      <td>0</td>\n",
       "      <td>14</td>\n",
       "      <td>0</td>\n",
       "      <td>0</td>\n",
       "      <td>0</td>\n",
       "      <td>0</td>\n",
       "    </tr>\n",
       "    <tr>\n",
       "      <th>Maj2</th>\n",
       "      <td>0</td>\n",
       "      <td>5</td>\n",
       "      <td>0</td>\n",
       "      <td>0</td>\n",
       "      <td>0</td>\n",
       "      <td>0</td>\n",
       "      <td>0</td>\n",
       "    </tr>\n",
       "    <tr>\n",
       "      <th>Min1</th>\n",
       "      <td>0</td>\n",
       "      <td>0</td>\n",
       "      <td>0</td>\n",
       "      <td>0</td>\n",
       "      <td>0</td>\n",
       "      <td>31</td>\n",
       "      <td>0</td>\n",
       "    </tr>\n",
       "    <tr>\n",
       "      <th>Min2</th>\n",
       "      <td>0</td>\n",
       "      <td>0</td>\n",
       "      <td>0</td>\n",
       "      <td>0</td>\n",
       "      <td>34</td>\n",
       "      <td>0</td>\n",
       "      <td>0</td>\n",
       "    </tr>\n",
       "    <tr>\n",
       "      <th>Mod</th>\n",
       "      <td>0</td>\n",
       "      <td>0</td>\n",
       "      <td>0</td>\n",
       "      <td>15</td>\n",
       "      <td>0</td>\n",
       "      <td>0</td>\n",
       "      <td>0</td>\n",
       "    </tr>\n",
       "    <tr>\n",
       "      <th>Sev</th>\n",
       "      <td>1</td>\n",
       "      <td>0</td>\n",
       "      <td>0</td>\n",
       "      <td>0</td>\n",
       "      <td>0</td>\n",
       "      <td>0</td>\n",
       "      <td>0</td>\n",
       "    </tr>\n",
       "    <tr>\n",
       "      <th>Typ</th>\n",
       "      <td>0</td>\n",
       "      <td>0</td>\n",
       "      <td>0</td>\n",
       "      <td>0</td>\n",
       "      <td>0</td>\n",
       "      <td>0</td>\n",
       "      <td>1360</td>\n",
       "    </tr>\n",
       "  </tbody>\n",
       "</table>\n",
       "</div>"
      ],
      "text/plain": [
       "home_funct  0.0  1.0  1.5  3.0  5.0  5.5   7.0\n",
       "Functional                                    \n",
       "Maj1          0    0   14    0    0    0     0\n",
       "Maj2          0    5    0    0    0    0     0\n",
       "Min1          0    0    0    0    0   31     0\n",
       "Min2          0    0    0    0   34    0     0\n",
       "Mod           0    0    0   15    0    0     0\n",
       "Sev           1    0    0    0    0    0     0\n",
       "Typ           0    0    0    0    0    0  1360"
      ]
     },
     "execution_count": 496,
     "metadata": {},
     "output_type": "execute_result"
    }
   ],
   "source": [
    "train['home_funct'] = 0\n",
    "train.loc[train.Functional == 'Sev', 'home_funct'] = 0\n",
    "train.loc[train.Functional == 'Maj2', 'home_funct'] = 1\n",
    "train.loc[train.Functional == 'Maj1', 'home_funct'] = 1.5\n",
    "train.loc[train.Functional == 'Mod', 'home_funct'] = 3\n",
    "train.loc[train.Functional == 'Min2', 'home_funct'] = 5\n",
    "train.loc[train.Functional == 'Min1', 'home_funct'] = 5.5\n",
    "train.loc[train.Functional == 'Typ', 'home_funct'] = 7\n",
    "pd.crosstab(train.Functional, train.home_funct)"
   ]
  },
  {
   "cell_type": "code",
   "execution_count": 497,
   "metadata": {},
   "outputs": [
    {
     "data": {
      "text/html": [
       "<div>\n",
       "<style>\n",
       "    .dataframe thead tr:only-child th {\n",
       "        text-align: right;\n",
       "    }\n",
       "\n",
       "    .dataframe thead th {\n",
       "        text-align: left;\n",
       "    }\n",
       "\n",
       "    .dataframe tbody tr th {\n",
       "        vertical-align: top;\n",
       "    }\n",
       "</style>\n",
       "<table border=\"1\" class=\"dataframe\">\n",
       "  <thead>\n",
       "    <tr style=\"text-align: right;\">\n",
       "      <th>home_funct</th>\n",
       "      <th>0.0</th>\n",
       "      <th>1.0</th>\n",
       "      <th>1.5</th>\n",
       "      <th>3.0</th>\n",
       "      <th>5.0</th>\n",
       "      <th>5.5</th>\n",
       "      <th>7.0</th>\n",
       "    </tr>\n",
       "    <tr>\n",
       "      <th>Functional</th>\n",
       "      <th></th>\n",
       "      <th></th>\n",
       "      <th></th>\n",
       "      <th></th>\n",
       "      <th></th>\n",
       "      <th></th>\n",
       "      <th></th>\n",
       "    </tr>\n",
       "  </thead>\n",
       "  <tbody>\n",
       "    <tr>\n",
       "      <th>Maj1</th>\n",
       "      <td>0</td>\n",
       "      <td>0</td>\n",
       "      <td>5</td>\n",
       "      <td>0</td>\n",
       "      <td>0</td>\n",
       "      <td>0</td>\n",
       "      <td>0</td>\n",
       "    </tr>\n",
       "    <tr>\n",
       "      <th>Maj2</th>\n",
       "      <td>0</td>\n",
       "      <td>4</td>\n",
       "      <td>0</td>\n",
       "      <td>0</td>\n",
       "      <td>0</td>\n",
       "      <td>0</td>\n",
       "      <td>0</td>\n",
       "    </tr>\n",
       "    <tr>\n",
       "      <th>Min1</th>\n",
       "      <td>0</td>\n",
       "      <td>0</td>\n",
       "      <td>0</td>\n",
       "      <td>0</td>\n",
       "      <td>0</td>\n",
       "      <td>34</td>\n",
       "      <td>0</td>\n",
       "    </tr>\n",
       "    <tr>\n",
       "      <th>Min2</th>\n",
       "      <td>0</td>\n",
       "      <td>0</td>\n",
       "      <td>0</td>\n",
       "      <td>0</td>\n",
       "      <td>36</td>\n",
       "      <td>0</td>\n",
       "      <td>0</td>\n",
       "    </tr>\n",
       "    <tr>\n",
       "      <th>Mod</th>\n",
       "      <td>0</td>\n",
       "      <td>0</td>\n",
       "      <td>0</td>\n",
       "      <td>20</td>\n",
       "      <td>0</td>\n",
       "      <td>0</td>\n",
       "      <td>0</td>\n",
       "    </tr>\n",
       "    <tr>\n",
       "      <th>Sev</th>\n",
       "      <td>1</td>\n",
       "      <td>0</td>\n",
       "      <td>0</td>\n",
       "      <td>0</td>\n",
       "      <td>0</td>\n",
       "      <td>0</td>\n",
       "      <td>0</td>\n",
       "    </tr>\n",
       "    <tr>\n",
       "      <th>Typ</th>\n",
       "      <td>0</td>\n",
       "      <td>0</td>\n",
       "      <td>0</td>\n",
       "      <td>0</td>\n",
       "      <td>0</td>\n",
       "      <td>0</td>\n",
       "      <td>1357</td>\n",
       "    </tr>\n",
       "  </tbody>\n",
       "</table>\n",
       "</div>"
      ],
      "text/plain": [
       "home_funct  0.0  1.0  1.5  3.0  5.0  5.5   7.0\n",
       "Functional                                    \n",
       "Maj1          0    0    5    0    0    0     0\n",
       "Maj2          0    4    0    0    0    0     0\n",
       "Min1          0    0    0    0    0   34     0\n",
       "Min2          0    0    0    0   36    0     0\n",
       "Mod           0    0    0   20    0    0     0\n",
       "Sev           1    0    0    0    0    0     0\n",
       "Typ           0    0    0    0    0    0  1357"
      ]
     },
     "execution_count": 497,
     "metadata": {},
     "output_type": "execute_result"
    }
   ],
   "source": [
    "test['home_funct'] = 0\n",
    "test.loc[test.Functional == 'Sev', 'home_funct'] = 0\n",
    "test.loc[test.Functional == 'Maj2', 'home_funct'] = 1\n",
    "test.loc[test.Functional == 'Maj1', 'home_funct'] = 1.5\n",
    "test.loc[test.Functional == 'Mod', 'home_funct'] = 3\n",
    "test.loc[test.Functional == 'Min2', 'home_funct'] = 5\n",
    "test.loc[test.Functional == 'Min1', 'home_funct'] = 5.5\n",
    "test.loc[test.Functional == 'Typ', 'home_funct'] = 7\n",
    "pd.crosstab(test.Functional, test.home_funct)"
   ]
  },
  {
   "cell_type": "markdown",
   "metadata": {},
   "source": [
    "###### Fireplaces: Number of fireplaces"
   ]
  },
  {
   "cell_type": "markdown",
   "metadata": {
    "collapsed": true
   },
   "source": [
    "Create a new dummy: fireplace present vs. not\n",
    "Create a new var that combines number of fireplaces with their quality?"
   ]
  },
  {
   "cell_type": "code",
   "execution_count": 498,
   "metadata": {},
   "outputs": [
    {
     "name": "stdout",
     "output_type": "stream",
     "text": [
      "0    47.26\n",
      "1    44.52\n",
      "2     7.88\n",
      "3     0.34\n",
      "Name: Fireplaces, dtype: float64\n",
      "0    50.00\n",
      "1    42.33\n",
      "2     7.12\n",
      "3     0.41\n",
      "4     0.07\n",
      "Name: Fireplaces, dtype: float64\n"
     ]
    }
   ],
   "source": [
    "print((train.Fireplaces.value_counts().sort_values(ascending = False)/N*100).round(2))\n",
    "print((test.Fireplaces.value_counts().sort_values(ascending = False)/N*100).round(2))"
   ]
  },
  {
   "cell_type": "code",
   "execution_count": 499,
   "metadata": {},
   "outputs": [
    {
     "name": "stdout",
     "output_type": "stream",
     "text": [
      "(1460, 170)\n",
      "(1459, 169)\n"
     ]
    }
   ],
   "source": [
    "print(train.shape)\n",
    "print(test.shape)"
   ]
  },
  {
   "cell_type": "markdown",
   "metadata": {},
   "source": [
    "###### FireplaceQu: Fireplace quality"
   ]
  },
  {
   "cell_type": "markdown",
   "metadata": {},
   "source": [
    "Creating variable fireplace_quality\n",
    "Consider no fireplace same as Poor quality - just for the sake of it"
   ]
  },
  {
   "cell_type": "code",
   "execution_count": 500,
   "metadata": {},
   "outputs": [
    {
     "name": "stdout",
     "output_type": "stream",
     "text": [
      "Gd    26.03\n",
      "TA    21.44\n",
      "Fa     2.26\n",
      "Ex     1.64\n",
      "Po     1.37\n",
      "Name: FireplaceQu, dtype: float64\n",
      "Gd    24.93\n",
      "TA    19.11\n",
      "Fa     2.81\n",
      "Po     1.78\n",
      "Ex     1.30\n",
      "Name: FireplaceQu, dtype: float64\n"
     ]
    }
   ],
   "source": [
    "print((train.FireplaceQu.value_counts().sort_values(ascending = False)/N*100).round(2))\n",
    "print((test.FireplaceQu.value_counts().sort_values(ascending = False)/N*100).round(2))"
   ]
  },
  {
   "cell_type": "code",
   "execution_count": 501,
   "metadata": {},
   "outputs": [
    {
     "name": "stdout",
     "output_type": "stream",
     "text": [
      "(1460, 170)\n",
      "(1459, 169)\n"
     ]
    }
   ],
   "source": [
    "print(train.shape)\n",
    "print(test.shape)"
   ]
  },
  {
   "cell_type": "code",
   "execution_count": 502,
   "metadata": {
    "collapsed": true
   },
   "outputs": [],
   "source": [
    "# Creating a quantitative variable - treating \"no fireplace\" as the worst level (zero)\n",
    "train['fireplace_quality'] = 0\n",
    "train.loc[train.FireplaceQu == 'Po', 'fireplace_quality'] = 1\n",
    "train.loc[train.FireplaceQu == 'Fa', 'fireplace_quality'] = 1  # same as Ben Franklin Stove\n",
    "train.loc[train.FireplaceQu == 'TA', 'fireplace_quality'] = 2\n",
    "train.loc[train.FireplaceQu == 'Gd', 'fireplace_quality'] = 3\n",
    "train.loc[train.Functional == 'Ex', 'fireplace_quality'] = 3.5\n",
    "# pd.crosstab(train.FireplaceQu, train.fireplace_quality)"
   ]
  },
  {
   "cell_type": "code",
   "execution_count": 503,
   "metadata": {
    "collapsed": true
   },
   "outputs": [],
   "source": [
    "test['fireplace_quality'] = 0\n",
    "test.loc[test.FireplaceQu == 'Po', 'fireplace_quality'] = 1\n",
    "test.loc[test.FireplaceQu == 'Fa', 'fireplace_quality'] = 1  # same as Ben Franklin Stove\n",
    "test.loc[test.FireplaceQu == 'TA', 'fireplace_quality'] = 2\n",
    "test.loc[test.FireplaceQu == 'Gd', 'fireplace_quality'] = 3\n",
    "test.loc[test.Functional == 'Ex', 'fireplace_quality'] = 3.5\n",
    "# pd.crosstab(test.FireplaceQu, test.fireplace_quality)"
   ]
  },
  {
   "cell_type": "code",
   "execution_count": 504,
   "metadata": {},
   "outputs": [
    {
     "name": "stdout",
     "output_type": "stream",
     "text": [
      "(1460, 171)\n",
      "(1459, 170)\n"
     ]
    }
   ],
   "source": [
    "print(train.shape)\n",
    "print(test.shape)"
   ]
  },
  {
   "cell_type": "markdown",
   "metadata": {},
   "source": [
    "###### GarageType: Garage location"
   ]
  },
  {
   "cell_type": "markdown",
   "metadata": {
    "collapsed": true
   },
   "source": [
    "Building a quantitative var gar_type"
   ]
  },
  {
   "cell_type": "code",
   "execution_count": 505,
   "metadata": {},
   "outputs": [
    {
     "name": "stdout",
     "output_type": "stream",
     "text": [
      "Attchd     59.59\n",
      "Detchd     26.51\n",
      "BuiltIn     6.03\n",
      "Basment     1.30\n",
      "CarPort     0.62\n",
      "2Types      0.41\n",
      "Name: GarageType, dtype: float64\n",
      "Attchd     58.42\n",
      "Detchd     26.85\n",
      "BuiltIn     6.71\n",
      "Basment     1.16\n",
      "2Types      1.16\n",
      "CarPort     0.41\n",
      "Name: GarageType, dtype: float64\n"
     ]
    }
   ],
   "source": [
    "print((train.GarageType.value_counts().sort_values(ascending = False)/N*100).round(2))\n",
    "print((test.GarageType.value_counts().sort_values(ascending = False)/N*100).round(2))"
   ]
  },
  {
   "cell_type": "code",
   "execution_count": 506,
   "metadata": {},
   "outputs": [
    {
     "data": {
      "text/html": [
       "<div>\n",
       "<style>\n",
       "    .dataframe thead tr:only-child th {\n",
       "        text-align: right;\n",
       "    }\n",
       "\n",
       "    .dataframe thead th {\n",
       "        text-align: left;\n",
       "    }\n",
       "\n",
       "    .dataframe tbody tr th {\n",
       "        vertical-align: top;\n",
       "    }\n",
       "</style>\n",
       "<table border=\"1\" class=\"dataframe\">\n",
       "  <thead>\n",
       "    <tr style=\"text-align: right;\">\n",
       "      <th>gar_type</th>\n",
       "      <th>1.0</th>\n",
       "      <th>1.5</th>\n",
       "      <th>2.0</th>\n",
       "      <th>2.5</th>\n",
       "      <th>3.0</th>\n",
       "    </tr>\n",
       "    <tr>\n",
       "      <th>GarageType</th>\n",
       "      <th></th>\n",
       "      <th></th>\n",
       "      <th></th>\n",
       "      <th></th>\n",
       "      <th></th>\n",
       "    </tr>\n",
       "  </thead>\n",
       "  <tbody>\n",
       "    <tr>\n",
       "      <th>2Types</th>\n",
       "      <td>0</td>\n",
       "      <td>0</td>\n",
       "      <td>0</td>\n",
       "      <td>0</td>\n",
       "      <td>6</td>\n",
       "    </tr>\n",
       "    <tr>\n",
       "      <th>Attchd</th>\n",
       "      <td>0</td>\n",
       "      <td>0</td>\n",
       "      <td>870</td>\n",
       "      <td>0</td>\n",
       "      <td>0</td>\n",
       "    </tr>\n",
       "    <tr>\n",
       "      <th>Basment</th>\n",
       "      <td>0</td>\n",
       "      <td>0</td>\n",
       "      <td>19</td>\n",
       "      <td>0</td>\n",
       "      <td>0</td>\n",
       "    </tr>\n",
       "    <tr>\n",
       "      <th>BuiltIn</th>\n",
       "      <td>0</td>\n",
       "      <td>0</td>\n",
       "      <td>0</td>\n",
       "      <td>88</td>\n",
       "      <td>0</td>\n",
       "    </tr>\n",
       "    <tr>\n",
       "      <th>CarPort</th>\n",
       "      <td>9</td>\n",
       "      <td>0</td>\n",
       "      <td>0</td>\n",
       "      <td>0</td>\n",
       "      <td>0</td>\n",
       "    </tr>\n",
       "    <tr>\n",
       "      <th>Detchd</th>\n",
       "      <td>0</td>\n",
       "      <td>387</td>\n",
       "      <td>0</td>\n",
       "      <td>0</td>\n",
       "      <td>0</td>\n",
       "    </tr>\n",
       "  </tbody>\n",
       "</table>\n",
       "</div>"
      ],
      "text/plain": [
       "gar_type    1.0  1.5  2.0  2.5  3.0\n",
       "GarageType                         \n",
       "2Types        0    0    0    0    6\n",
       "Attchd        0    0  870    0    0\n",
       "Basment       0    0   19    0    0\n",
       "BuiltIn       0    0    0   88    0\n",
       "CarPort       9    0    0    0    0\n",
       "Detchd        0  387    0    0    0"
      ]
     },
     "execution_count": 506,
     "metadata": {},
     "output_type": "execute_result"
    }
   ],
   "source": [
    "# Creating a quantitative variable - treating \"no garage\" as the worst level (zero)\n",
    "train['gar_type'] = 0\n",
    "train.loc[train.GarageType == 'CarPort', 'gar_type'] = 1\n",
    "train.loc[train.GarageType == 'Detchd', 'gar_type'] = 1.5\n",
    "train.loc[train.GarageType == 'Attchd', 'gar_type'] = 2\n",
    "train.loc[train.GarageType == 'Basment', 'gar_type'] = 2   # same as Attached\n",
    "train.loc[train.GarageType == 'BuiltIn', 'gar_type'] = 2.5\n",
    "train.loc[train.GarageType == '2Types', 'gar_type'] = 3\n",
    "pd.crosstab(train.GarageType, train.gar_type)"
   ]
  },
  {
   "cell_type": "code",
   "execution_count": 507,
   "metadata": {},
   "outputs": [
    {
     "data": {
      "text/html": [
       "<div>\n",
       "<style>\n",
       "    .dataframe thead tr:only-child th {\n",
       "        text-align: right;\n",
       "    }\n",
       "\n",
       "    .dataframe thead th {\n",
       "        text-align: left;\n",
       "    }\n",
       "\n",
       "    .dataframe tbody tr th {\n",
       "        vertical-align: top;\n",
       "    }\n",
       "</style>\n",
       "<table border=\"1\" class=\"dataframe\">\n",
       "  <thead>\n",
       "    <tr style=\"text-align: right;\">\n",
       "      <th>gar_type</th>\n",
       "      <th>1.0</th>\n",
       "      <th>1.5</th>\n",
       "      <th>2.0</th>\n",
       "      <th>2.5</th>\n",
       "      <th>3.0</th>\n",
       "    </tr>\n",
       "    <tr>\n",
       "      <th>GarageType</th>\n",
       "      <th></th>\n",
       "      <th></th>\n",
       "      <th></th>\n",
       "      <th></th>\n",
       "      <th></th>\n",
       "    </tr>\n",
       "  </thead>\n",
       "  <tbody>\n",
       "    <tr>\n",
       "      <th>2Types</th>\n",
       "      <td>0</td>\n",
       "      <td>0</td>\n",
       "      <td>0</td>\n",
       "      <td>0</td>\n",
       "      <td>17</td>\n",
       "    </tr>\n",
       "    <tr>\n",
       "      <th>Attchd</th>\n",
       "      <td>0</td>\n",
       "      <td>0</td>\n",
       "      <td>853</td>\n",
       "      <td>0</td>\n",
       "      <td>0</td>\n",
       "    </tr>\n",
       "    <tr>\n",
       "      <th>Basment</th>\n",
       "      <td>0</td>\n",
       "      <td>0</td>\n",
       "      <td>17</td>\n",
       "      <td>0</td>\n",
       "      <td>0</td>\n",
       "    </tr>\n",
       "    <tr>\n",
       "      <th>BuiltIn</th>\n",
       "      <td>0</td>\n",
       "      <td>0</td>\n",
       "      <td>0</td>\n",
       "      <td>98</td>\n",
       "      <td>0</td>\n",
       "    </tr>\n",
       "    <tr>\n",
       "      <th>CarPort</th>\n",
       "      <td>6</td>\n",
       "      <td>0</td>\n",
       "      <td>0</td>\n",
       "      <td>0</td>\n",
       "      <td>0</td>\n",
       "    </tr>\n",
       "    <tr>\n",
       "      <th>Detchd</th>\n",
       "      <td>0</td>\n",
       "      <td>392</td>\n",
       "      <td>0</td>\n",
       "      <td>0</td>\n",
       "      <td>0</td>\n",
       "    </tr>\n",
       "  </tbody>\n",
       "</table>\n",
       "</div>"
      ],
      "text/plain": [
       "gar_type    1.0  1.5  2.0  2.5  3.0\n",
       "GarageType                         \n",
       "2Types        0    0    0    0   17\n",
       "Attchd        0    0  853    0    0\n",
       "Basment       0    0   17    0    0\n",
       "BuiltIn       0    0    0   98    0\n",
       "CarPort       6    0    0    0    0\n",
       "Detchd        0  392    0    0    0"
      ]
     },
     "execution_count": 507,
     "metadata": {},
     "output_type": "execute_result"
    }
   ],
   "source": [
    "test['gar_type'] = 0\n",
    "test.loc[test.GarageType == 'CarPort', 'gar_type'] = 1\n",
    "test.loc[test.GarageType == 'Detchd', 'gar_type'] = 1.5\n",
    "test.loc[test.GarageType == 'Attchd', 'gar_type'] = 2\n",
    "test.loc[test.GarageType == 'Basment', 'gar_type'] = 2   # same as Attached\n",
    "test.loc[test.GarageType == 'BuiltIn', 'gar_type'] = 2.5\n",
    "test.loc[test.GarageType == '2Types', 'gar_type'] = 3\n",
    "pd.crosstab(test.GarageType, test.gar_type)"
   ]
  },
  {
   "cell_type": "code",
   "execution_count": 508,
   "metadata": {},
   "outputs": [
    {
     "name": "stdout",
     "output_type": "stream",
     "text": [
      "(1460, 172)\n",
      "(1459, 171)\n"
     ]
    }
   ],
   "source": [
    "print(train.shape)\n",
    "print(test.shape)"
   ]
  },
  {
   "cell_type": "markdown",
   "metadata": {},
   "source": [
    "###### GarageYrBlt: Year garage was built"
   ]
  },
  {
   "cell_type": "markdown",
   "metadata": {},
   "source": [
    "Unless there are other ideas - I'd suggest to drop the year garage was built for 3 reasons:\n",
    "1. It's highly correlated (0.82) with year the house was built - see next cell.\n",
    "2. 5.5% of people have no garage, so it's not clear how to code this variable when people have no garage.\n",
    "3. When you guy a house you rarely care about the year it was built - you care about its size, location, condition."
   ]
  },
  {
   "cell_type": "code",
   "execution_count": 509,
   "metadata": {},
   "outputs": [
    {
     "data": {
      "text/plain": [
       "0.82566748417434199"
      ]
     },
     "execution_count": 509,
     "metadata": {},
     "output_type": "execute_result"
    }
   ],
   "source": [
    "train['GarageYrBlt'].corr(train['YearBuilt'])  # correlation is 0.82"
   ]
  },
  {
   "cell_type": "markdown",
   "metadata": {},
   "source": [
    "###### GarageFinish: Interior finish of the garage"
   ]
  },
  {
   "cell_type": "code",
   "execution_count": 510,
   "metadata": {},
   "outputs": [
    {
     "name": "stdout",
     "output_type": "stream",
     "text": [
      "Unf    41.44\n",
      "RFn    28.90\n",
      "Fin    24.11\n",
      "Name: GarageFinish, dtype: float64\n",
      "Unf    42.81\n",
      "RFn    26.64\n",
      "Fin    25.14\n",
      "Name: GarageFinish, dtype: float64\n"
     ]
    }
   ],
   "source": [
    "print((train.GarageFinish.value_counts().sort_values(ascending = False)/N*100).round(2))\n",
    "print((test.GarageFinish.value_counts().sort_values(ascending = False)/N*100).round(2))"
   ]
  },
  {
   "cell_type": "code",
   "execution_count": 511,
   "metadata": {},
   "outputs": [
    {
     "data": {
      "text/html": [
       "<div>\n",
       "<style>\n",
       "    .dataframe thead tr:only-child th {\n",
       "        text-align: right;\n",
       "    }\n",
       "\n",
       "    .dataframe thead th {\n",
       "        text-align: left;\n",
       "    }\n",
       "\n",
       "    .dataframe tbody tr th {\n",
       "        vertical-align: top;\n",
       "    }\n",
       "</style>\n",
       "<table border=\"1\" class=\"dataframe\">\n",
       "  <thead>\n",
       "    <tr style=\"text-align: right;\">\n",
       "      <th>gar_finish</th>\n",
       "      <th>1</th>\n",
       "      <th>2</th>\n",
       "      <th>3</th>\n",
       "    </tr>\n",
       "    <tr>\n",
       "      <th>GarageFinish</th>\n",
       "      <th></th>\n",
       "      <th></th>\n",
       "      <th></th>\n",
       "    </tr>\n",
       "  </thead>\n",
       "  <tbody>\n",
       "    <tr>\n",
       "      <th>Fin</th>\n",
       "      <td>0</td>\n",
       "      <td>0</td>\n",
       "      <td>352</td>\n",
       "    </tr>\n",
       "    <tr>\n",
       "      <th>RFn</th>\n",
       "      <td>0</td>\n",
       "      <td>422</td>\n",
       "      <td>0</td>\n",
       "    </tr>\n",
       "    <tr>\n",
       "      <th>Unf</th>\n",
       "      <td>605</td>\n",
       "      <td>0</td>\n",
       "      <td>0</td>\n",
       "    </tr>\n",
       "  </tbody>\n",
       "</table>\n",
       "</div>"
      ],
      "text/plain": [
       "gar_finish      1    2    3\n",
       "GarageFinish               \n",
       "Fin             0    0  352\n",
       "RFn             0  422    0\n",
       "Unf           605    0    0"
      ]
     },
     "execution_count": 511,
     "metadata": {},
     "output_type": "execute_result"
    }
   ],
   "source": [
    "# Creating a quantitative variable - treating \"no garage\" as the worst level (zero)\n",
    "train['gar_finish'] = 0\n",
    "train.loc[train.GarageFinish == 'Unf', 'gar_finish'] = 1\n",
    "train.loc[train.GarageFinish == 'RFn', 'gar_finish'] = 2\n",
    "train.loc[train.GarageFinish == 'Fin', 'gar_finish'] = 3\n",
    "pd.crosstab(train.GarageFinish, train.gar_finish)"
   ]
  },
  {
   "cell_type": "code",
   "execution_count": 512,
   "metadata": {},
   "outputs": [
    {
     "data": {
      "text/html": [
       "<div>\n",
       "<style>\n",
       "    .dataframe thead tr:only-child th {\n",
       "        text-align: right;\n",
       "    }\n",
       "\n",
       "    .dataframe thead th {\n",
       "        text-align: left;\n",
       "    }\n",
       "\n",
       "    .dataframe tbody tr th {\n",
       "        vertical-align: top;\n",
       "    }\n",
       "</style>\n",
       "<table border=\"1\" class=\"dataframe\">\n",
       "  <thead>\n",
       "    <tr style=\"text-align: right;\">\n",
       "      <th>gar_finish</th>\n",
       "      <th>1</th>\n",
       "      <th>2</th>\n",
       "      <th>3</th>\n",
       "    </tr>\n",
       "    <tr>\n",
       "      <th>GarageFinish</th>\n",
       "      <th></th>\n",
       "      <th></th>\n",
       "      <th></th>\n",
       "    </tr>\n",
       "  </thead>\n",
       "  <tbody>\n",
       "    <tr>\n",
       "      <th>Fin</th>\n",
       "      <td>0</td>\n",
       "      <td>0</td>\n",
       "      <td>367</td>\n",
       "    </tr>\n",
       "    <tr>\n",
       "      <th>RFn</th>\n",
       "      <td>0</td>\n",
       "      <td>389</td>\n",
       "      <td>0</td>\n",
       "    </tr>\n",
       "    <tr>\n",
       "      <th>Unf</th>\n",
       "      <td>625</td>\n",
       "      <td>0</td>\n",
       "      <td>0</td>\n",
       "    </tr>\n",
       "  </tbody>\n",
       "</table>\n",
       "</div>"
      ],
      "text/plain": [
       "gar_finish      1    2    3\n",
       "GarageFinish               \n",
       "Fin             0    0  367\n",
       "RFn             0  389    0\n",
       "Unf           625    0    0"
      ]
     },
     "execution_count": 512,
     "metadata": {},
     "output_type": "execute_result"
    }
   ],
   "source": [
    "test['gar_finish'] = 0\n",
    "test.loc[test.GarageFinish == 'Unf', 'gar_finish'] = 1\n",
    "test.loc[test.GarageFinish == 'RFn', 'gar_finish'] = 2\n",
    "test.loc[test.GarageFinish == 'Fin', 'gar_finish'] = 3\n",
    "pd.crosstab(test.GarageFinish, test.gar_finish)"
   ]
  },
  {
   "cell_type": "code",
   "execution_count": 513,
   "metadata": {},
   "outputs": [
    {
     "name": "stdout",
     "output_type": "stream",
     "text": [
      "(1460, 173)\n",
      "(1459, 172)\n"
     ]
    }
   ],
   "source": [
    "print(train.shape)\n",
    "print(test.shape)"
   ]
  },
  {
   "cell_type": "markdown",
   "metadata": {},
   "source": [
    "###### GarageCars: Size of garage in car capacity, GarageArea: Size of garage in square feet"
   ]
  },
  {
   "cell_type": "markdown",
   "metadata": {},
   "source": [
    "Let's only use GarageCars (as is) and forget about GarageArea - garage square feet are correlated with GarageCars at 0.88 "
   ]
  },
  {
   "cell_type": "code",
   "execution_count": 514,
   "metadata": {},
   "outputs": [
    {
     "name": "stdout",
     "output_type": "stream",
     "text": [
      "2    56.44\n",
      "1    25.27\n",
      "3    12.40\n",
      "0     5.55\n",
      "4     0.34\n",
      "Name: GarageCars, dtype: float64\n",
      "2.0    52.74\n",
      "1.0    27.88\n",
      "3.0    13.22\n",
      "0.0     5.21\n",
      "4.0     0.75\n",
      "5.0     0.07\n",
      "Name: GarageCars, dtype: float64\n"
     ]
    },
    {
     "data": {
      "text/plain": [
       "0.88247541428146292"
      ]
     },
     "execution_count": 514,
     "metadata": {},
     "output_type": "execute_result"
    }
   ],
   "source": [
    "# Can use as is:\n",
    "print((train.GarageCars.value_counts().sort_values(ascending = False)/N*100).round(2))\n",
    "print((test.GarageCars.value_counts().sort_values(ascending = False)/N*100).round(2))\n",
    "train['GarageArea'].corr(train['GarageCars'])  # correlation is 0.88"
   ]
  },
  {
   "cell_type": "markdown",
   "metadata": {},
   "source": [
    "###### GarageQual: Garage quality"
   ]
  },
  {
   "cell_type": "code",
   "execution_count": 515,
   "metadata": {},
   "outputs": [
    {
     "name": "stdout",
     "output_type": "stream",
     "text": [
      "TA    89.79\n",
      "Fa     3.29\n",
      "Gd     0.96\n",
      "Ex     0.21\n",
      "Po     0.21\n",
      "Name: GarageQual, dtype: float64\n",
      "TA    88.56\n",
      "Fa     5.21\n",
      "Gd     0.68\n",
      "Po     0.14\n",
      "Name: GarageQual, dtype: float64\n"
     ]
    }
   ],
   "source": [
    "print((train.GarageQual.value_counts().sort_values(ascending = False)/N*100).round(2))\n",
    "print((test.GarageQual.value_counts().sort_values(ascending = False)/N*100).round(2))"
   ]
  },
  {
   "cell_type": "code",
   "execution_count": 516,
   "metadata": {},
   "outputs": [
    {
     "data": {
      "text/html": [
       "<div>\n",
       "<style>\n",
       "    .dataframe thead tr:only-child th {\n",
       "        text-align: right;\n",
       "    }\n",
       "\n",
       "    .dataframe thead th {\n",
       "        text-align: left;\n",
       "    }\n",
       "\n",
       "    .dataframe tbody tr th {\n",
       "        vertical-align: top;\n",
       "    }\n",
       "</style>\n",
       "<table border=\"1\" class=\"dataframe\">\n",
       "  <thead>\n",
       "    <tr style=\"text-align: right;\">\n",
       "      <th>GarageCond</th>\n",
       "      <th>Ex</th>\n",
       "      <th>Fa</th>\n",
       "      <th>Gd</th>\n",
       "      <th>Po</th>\n",
       "      <th>TA</th>\n",
       "    </tr>\n",
       "    <tr>\n",
       "      <th>GarageQual</th>\n",
       "      <th></th>\n",
       "      <th></th>\n",
       "      <th></th>\n",
       "      <th></th>\n",
       "      <th></th>\n",
       "    </tr>\n",
       "  </thead>\n",
       "  <tbody>\n",
       "    <tr>\n",
       "      <th>Ex</th>\n",
       "      <td>2</td>\n",
       "      <td>0</td>\n",
       "      <td>0</td>\n",
       "      <td>0</td>\n",
       "      <td>1</td>\n",
       "    </tr>\n",
       "    <tr>\n",
       "      <th>Fa</th>\n",
       "      <td>0</td>\n",
       "      <td>20</td>\n",
       "      <td>0</td>\n",
       "      <td>4</td>\n",
       "      <td>24</td>\n",
       "    </tr>\n",
       "    <tr>\n",
       "      <th>Gd</th>\n",
       "      <td>0</td>\n",
       "      <td>0</td>\n",
       "      <td>4</td>\n",
       "      <td>0</td>\n",
       "      <td>10</td>\n",
       "    </tr>\n",
       "    <tr>\n",
       "      <th>Po</th>\n",
       "      <td>0</td>\n",
       "      <td>0</td>\n",
       "      <td>0</td>\n",
       "      <td>3</td>\n",
       "      <td>0</td>\n",
       "    </tr>\n",
       "    <tr>\n",
       "      <th>TA</th>\n",
       "      <td>0</td>\n",
       "      <td>15</td>\n",
       "      <td>5</td>\n",
       "      <td>0</td>\n",
       "      <td>1291</td>\n",
       "    </tr>\n",
       "  </tbody>\n",
       "</table>\n",
       "</div>"
      ],
      "text/plain": [
       "GarageCond  Ex  Fa  Gd  Po    TA\n",
       "GarageQual                      \n",
       "Ex           2   0   0   0     1\n",
       "Fa           0  20   0   4    24\n",
       "Gd           0   0   4   0    10\n",
       "Po           0   0   0   3     0\n",
       "TA           0  15   5   0  1291"
      ]
     },
     "execution_count": 516,
     "metadata": {},
     "output_type": "execute_result"
    }
   ],
   "source": [
    "pd.crosstab(train.GarageQual, train.GarageCond)"
   ]
  },
  {
   "cell_type": "code",
   "execution_count": 517,
   "metadata": {},
   "outputs": [
    {
     "data": {
      "text/html": [
       "<div>\n",
       "<style>\n",
       "    .dataframe thead tr:only-child th {\n",
       "        text-align: right;\n",
       "    }\n",
       "\n",
       "    .dataframe thead th {\n",
       "        text-align: left;\n",
       "    }\n",
       "\n",
       "    .dataframe tbody tr th {\n",
       "        vertical-align: top;\n",
       "    }\n",
       "</style>\n",
       "<table border=\"1\" class=\"dataframe\">\n",
       "  <thead>\n",
       "    <tr style=\"text-align: right;\">\n",
       "      <th>gar_qual</th>\n",
       "      <th>1.0</th>\n",
       "      <th>2.0</th>\n",
       "      <th>3.0</th>\n",
       "      <th>3.5</th>\n",
       "      <th>4.0</th>\n",
       "    </tr>\n",
       "    <tr>\n",
       "      <th>GarageQual</th>\n",
       "      <th></th>\n",
       "      <th></th>\n",
       "      <th></th>\n",
       "      <th></th>\n",
       "      <th></th>\n",
       "    </tr>\n",
       "  </thead>\n",
       "  <tbody>\n",
       "    <tr>\n",
       "      <th>Ex</th>\n",
       "      <td>0</td>\n",
       "      <td>0</td>\n",
       "      <td>0</td>\n",
       "      <td>0</td>\n",
       "      <td>3</td>\n",
       "    </tr>\n",
       "    <tr>\n",
       "      <th>Fa</th>\n",
       "      <td>0</td>\n",
       "      <td>48</td>\n",
       "      <td>0</td>\n",
       "      <td>0</td>\n",
       "      <td>0</td>\n",
       "    </tr>\n",
       "    <tr>\n",
       "      <th>Gd</th>\n",
       "      <td>0</td>\n",
       "      <td>0</td>\n",
       "      <td>0</td>\n",
       "      <td>14</td>\n",
       "      <td>0</td>\n",
       "    </tr>\n",
       "    <tr>\n",
       "      <th>Po</th>\n",
       "      <td>3</td>\n",
       "      <td>0</td>\n",
       "      <td>0</td>\n",
       "      <td>0</td>\n",
       "      <td>0</td>\n",
       "    </tr>\n",
       "    <tr>\n",
       "      <th>TA</th>\n",
       "      <td>0</td>\n",
       "      <td>0</td>\n",
       "      <td>1311</td>\n",
       "      <td>0</td>\n",
       "      <td>0</td>\n",
       "    </tr>\n",
       "  </tbody>\n",
       "</table>\n",
       "</div>"
      ],
      "text/plain": [
       "gar_qual    1.0  2.0   3.0  3.5  4.0\n",
       "GarageQual                          \n",
       "Ex            0    0     0    0    3\n",
       "Fa            0   48     0    0    0\n",
       "Gd            0    0     0   14    0\n",
       "Po            3    0     0    0    0\n",
       "TA            0    0  1311    0    0"
      ]
     },
     "execution_count": 517,
     "metadata": {},
     "output_type": "execute_result"
    }
   ],
   "source": [
    "# GarageQual\n",
    "# Creating a quantitative variable - treating \"no garage\" as the average level (no headache)\n",
    "train['gar_qual'] = 3\n",
    "train.loc[train.GarageQual == 'Po', 'gar_qual'] = 1\n",
    "train.loc[train.GarageQual == 'Fa', 'gar_qual'] = 2\n",
    "train.loc[train.GarageQual == 'Gd', 'gar_qual'] = 3.5\n",
    "train.loc[train.GarageQual == 'Ex', 'gar_qual'] = 4\n",
    "pd.crosstab(train.GarageQual, train.gar_qual)"
   ]
  },
  {
   "cell_type": "code",
   "execution_count": 518,
   "metadata": {},
   "outputs": [
    {
     "data": {
      "text/html": [
       "<div>\n",
       "<style>\n",
       "    .dataframe thead tr:only-child th {\n",
       "        text-align: right;\n",
       "    }\n",
       "\n",
       "    .dataframe thead th {\n",
       "        text-align: left;\n",
       "    }\n",
       "\n",
       "    .dataframe tbody tr th {\n",
       "        vertical-align: top;\n",
       "    }\n",
       "</style>\n",
       "<table border=\"1\" class=\"dataframe\">\n",
       "  <thead>\n",
       "    <tr style=\"text-align: right;\">\n",
       "      <th>gar_qual</th>\n",
       "      <th>1.0</th>\n",
       "      <th>2.0</th>\n",
       "      <th>3.0</th>\n",
       "      <th>3.5</th>\n",
       "    </tr>\n",
       "    <tr>\n",
       "      <th>GarageQual</th>\n",
       "      <th></th>\n",
       "      <th></th>\n",
       "      <th></th>\n",
       "      <th></th>\n",
       "    </tr>\n",
       "  </thead>\n",
       "  <tbody>\n",
       "    <tr>\n",
       "      <th>Fa</th>\n",
       "      <td>0</td>\n",
       "      <td>76</td>\n",
       "      <td>0</td>\n",
       "      <td>0</td>\n",
       "    </tr>\n",
       "    <tr>\n",
       "      <th>Gd</th>\n",
       "      <td>0</td>\n",
       "      <td>0</td>\n",
       "      <td>0</td>\n",
       "      <td>10</td>\n",
       "    </tr>\n",
       "    <tr>\n",
       "      <th>Po</th>\n",
       "      <td>2</td>\n",
       "      <td>0</td>\n",
       "      <td>0</td>\n",
       "      <td>0</td>\n",
       "    </tr>\n",
       "    <tr>\n",
       "      <th>TA</th>\n",
       "      <td>0</td>\n",
       "      <td>0</td>\n",
       "      <td>1293</td>\n",
       "      <td>0</td>\n",
       "    </tr>\n",
       "  </tbody>\n",
       "</table>\n",
       "</div>"
      ],
      "text/plain": [
       "gar_qual    1.0  2.0   3.0  3.5\n",
       "GarageQual                     \n",
       "Fa            0   76     0    0\n",
       "Gd            0    0     0   10\n",
       "Po            2    0     0    0\n",
       "TA            0    0  1293    0"
      ]
     },
     "execution_count": 518,
     "metadata": {},
     "output_type": "execute_result"
    }
   ],
   "source": [
    "test['gar_qual'] = 3\n",
    "test.loc[test.GarageQual == 'Po', 'gar_qual'] = 1\n",
    "test.loc[test.GarageQual == 'Fa', 'gar_qual'] = 2\n",
    "test.loc[test.GarageQual == 'Gd', 'gar_qual'] = 3.5\n",
    "test.loc[test.GarageQual == 'Ex', 'gar_qual'] = 4\n",
    "pd.crosstab(test.GarageQual, test.gar_qual)"
   ]
  },
  {
   "cell_type": "code",
   "execution_count": 519,
   "metadata": {},
   "outputs": [
    {
     "name": "stdout",
     "output_type": "stream",
     "text": [
      "TA    90.82\n",
      "Fa     2.40\n",
      "Gd     0.62\n",
      "Po     0.48\n",
      "Ex     0.14\n",
      "Name: GarageCond, dtype: float64\n",
      "TA    90.96\n",
      "Fa     2.67\n",
      "Po     0.48\n",
      "Gd     0.41\n",
      "Ex     0.07\n",
      "Name: GarageCond, dtype: float64\n"
     ]
    }
   ],
   "source": [
    "print((train.GarageCond.value_counts().sort_values(ascending = False)/N*100).round(2))\n",
    "print((test.GarageCond.value_counts().sort_values(ascending = False)/N*100).round(2))"
   ]
  },
  {
   "cell_type": "code",
   "execution_count": 520,
   "metadata": {},
   "outputs": [
    {
     "data": {
      "text/html": [
       "<div>\n",
       "<style>\n",
       "    .dataframe thead tr:only-child th {\n",
       "        text-align: right;\n",
       "    }\n",
       "\n",
       "    .dataframe thead th {\n",
       "        text-align: left;\n",
       "    }\n",
       "\n",
       "    .dataframe tbody tr th {\n",
       "        vertical-align: top;\n",
       "    }\n",
       "</style>\n",
       "<table border=\"1\" class=\"dataframe\">\n",
       "  <thead>\n",
       "    <tr style=\"text-align: right;\">\n",
       "      <th>gar_cond</th>\n",
       "      <th>1.0</th>\n",
       "      <th>1.5</th>\n",
       "      <th>2.0</th>\n",
       "      <th>2.5</th>\n",
       "      <th>3.0</th>\n",
       "    </tr>\n",
       "    <tr>\n",
       "      <th>GarageCond</th>\n",
       "      <th></th>\n",
       "      <th></th>\n",
       "      <th></th>\n",
       "      <th></th>\n",
       "      <th></th>\n",
       "    </tr>\n",
       "  </thead>\n",
       "  <tbody>\n",
       "    <tr>\n",
       "      <th>Ex</th>\n",
       "      <td>0</td>\n",
       "      <td>0</td>\n",
       "      <td>0</td>\n",
       "      <td>0</td>\n",
       "      <td>2</td>\n",
       "    </tr>\n",
       "    <tr>\n",
       "      <th>Fa</th>\n",
       "      <td>0</td>\n",
       "      <td>35</td>\n",
       "      <td>0</td>\n",
       "      <td>0</td>\n",
       "      <td>0</td>\n",
       "    </tr>\n",
       "    <tr>\n",
       "      <th>Gd</th>\n",
       "      <td>0</td>\n",
       "      <td>0</td>\n",
       "      <td>0</td>\n",
       "      <td>9</td>\n",
       "      <td>0</td>\n",
       "    </tr>\n",
       "    <tr>\n",
       "      <th>Po</th>\n",
       "      <td>7</td>\n",
       "      <td>0</td>\n",
       "      <td>0</td>\n",
       "      <td>0</td>\n",
       "      <td>0</td>\n",
       "    </tr>\n",
       "    <tr>\n",
       "      <th>TA</th>\n",
       "      <td>0</td>\n",
       "      <td>0</td>\n",
       "      <td>1326</td>\n",
       "      <td>0</td>\n",
       "      <td>0</td>\n",
       "    </tr>\n",
       "  </tbody>\n",
       "</table>\n",
       "</div>"
      ],
      "text/plain": [
       "gar_cond    1.0  1.5   2.0  2.5  3.0\n",
       "GarageCond                          \n",
       "Ex            0    0     0    0    2\n",
       "Fa            0   35     0    0    0\n",
       "Gd            0    0     0    9    0\n",
       "Po            7    0     0    0    0\n",
       "TA            0    0  1326    0    0"
      ]
     },
     "execution_count": 520,
     "metadata": {},
     "output_type": "execute_result"
    }
   ],
   "source": [
    "# GarageCond\n",
    "# Creating a quantitative variable - treating \"no garage\" as the average level (no headache)\n",
    "train['gar_cond'] = 2\n",
    "train.loc[train.GarageCond == 'Po', 'gar_cond'] = 1\n",
    "train.loc[train.GarageCond == 'Fa', 'gar_cond'] = 1.5\n",
    "train.loc[train.GarageCond == 'Gd', 'gar_cond'] = 2.5\n",
    "train.loc[train.GarageCond == 'Ex', 'gar_cond'] = 3\n",
    "pd.crosstab(train.GarageCond, train.gar_cond)"
   ]
  },
  {
   "cell_type": "code",
   "execution_count": 521,
   "metadata": {},
   "outputs": [
    {
     "data": {
      "text/html": [
       "<div>\n",
       "<style>\n",
       "    .dataframe thead tr:only-child th {\n",
       "        text-align: right;\n",
       "    }\n",
       "\n",
       "    .dataframe thead th {\n",
       "        text-align: left;\n",
       "    }\n",
       "\n",
       "    .dataframe tbody tr th {\n",
       "        vertical-align: top;\n",
       "    }\n",
       "</style>\n",
       "<table border=\"1\" class=\"dataframe\">\n",
       "  <thead>\n",
       "    <tr style=\"text-align: right;\">\n",
       "      <th>gar_cond</th>\n",
       "      <th>1.0</th>\n",
       "      <th>1.5</th>\n",
       "      <th>2.0</th>\n",
       "      <th>2.5</th>\n",
       "      <th>3.0</th>\n",
       "    </tr>\n",
       "    <tr>\n",
       "      <th>GarageCond</th>\n",
       "      <th></th>\n",
       "      <th></th>\n",
       "      <th></th>\n",
       "      <th></th>\n",
       "      <th></th>\n",
       "    </tr>\n",
       "  </thead>\n",
       "  <tbody>\n",
       "    <tr>\n",
       "      <th>Ex</th>\n",
       "      <td>0</td>\n",
       "      <td>0</td>\n",
       "      <td>0</td>\n",
       "      <td>0</td>\n",
       "      <td>1</td>\n",
       "    </tr>\n",
       "    <tr>\n",
       "      <th>Fa</th>\n",
       "      <td>0</td>\n",
       "      <td>39</td>\n",
       "      <td>0</td>\n",
       "      <td>0</td>\n",
       "      <td>0</td>\n",
       "    </tr>\n",
       "    <tr>\n",
       "      <th>Gd</th>\n",
       "      <td>0</td>\n",
       "      <td>0</td>\n",
       "      <td>0</td>\n",
       "      <td>6</td>\n",
       "      <td>0</td>\n",
       "    </tr>\n",
       "    <tr>\n",
       "      <th>Po</th>\n",
       "      <td>7</td>\n",
       "      <td>0</td>\n",
       "      <td>0</td>\n",
       "      <td>0</td>\n",
       "      <td>0</td>\n",
       "    </tr>\n",
       "    <tr>\n",
       "      <th>TA</th>\n",
       "      <td>0</td>\n",
       "      <td>0</td>\n",
       "      <td>1328</td>\n",
       "      <td>0</td>\n",
       "      <td>0</td>\n",
       "    </tr>\n",
       "  </tbody>\n",
       "</table>\n",
       "</div>"
      ],
      "text/plain": [
       "gar_cond    1.0  1.5   2.0  2.5  3.0\n",
       "GarageCond                          \n",
       "Ex            0    0     0    0    1\n",
       "Fa            0   39     0    0    0\n",
       "Gd            0    0     0    6    0\n",
       "Po            7    0     0    0    0\n",
       "TA            0    0  1328    0    0"
      ]
     },
     "execution_count": 521,
     "metadata": {},
     "output_type": "execute_result"
    }
   ],
   "source": [
    "test['gar_cond'] = 2\n",
    "test.loc[test.GarageCond == 'Po', 'gar_cond'] = 1\n",
    "test.loc[test.GarageCond == 'Fa', 'gar_cond'] = 1.5\n",
    "test.loc[test.GarageCond == 'Gd', 'gar_cond'] = 2.5\n",
    "test.loc[test.GarageCond == 'Ex', 'gar_cond'] = 3\n",
    "pd.crosstab(test.GarageCond, test.gar_cond)"
   ]
  },
  {
   "cell_type": "code",
   "execution_count": 522,
   "metadata": {
    "collapsed": true
   },
   "outputs": [],
   "source": [
    "# Creating a new variable - product of garage quality & condition:\n",
    "train['gar_perception'] = train['gar_qual'] * train['gar_cond']\n",
    "test['gar_perception'] = test['gar_qual'] * test['gar_cond']"
   ]
  },
  {
   "cell_type": "code",
   "execution_count": 523,
   "metadata": {
    "collapsed": true
   },
   "outputs": [],
   "source": [
    "# pd.crosstab(train.gar_qual, train.gar_perception)\n",
    "# pd.crosstab(train.gar_cond, train.gar_perception)"
   ]
  },
  {
   "cell_type": "code",
   "execution_count": 524,
   "metadata": {},
   "outputs": [
    {
     "name": "stdout",
     "output_type": "stream",
     "text": [
      "(1460, 176)\n",
      "(1459, 175)\n"
     ]
    }
   ],
   "source": [
    "print(train.shape)\n",
    "print(test.shape)"
   ]
  },
  {
   "cell_type": "markdown",
   "metadata": {},
   "source": [
    "###### PavedDrive: Paved driveway"
   ]
  },
  {
   "cell_type": "code",
   "execution_count": 525,
   "metadata": {},
   "outputs": [
    {
     "name": "stdout",
     "output_type": "stream",
     "text": [
      "Y    91.78\n",
      "N     6.16\n",
      "P     2.05\n",
      "Name: PavedDrive, dtype: float64\n",
      "Y    89.11\n",
      "N     8.63\n",
      "P     2.19\n",
      "Name: PavedDrive, dtype: float64\n"
     ]
    }
   ],
   "source": [
    "print((train.PavedDrive.value_counts().sort_values(ascending = False)/N*100).round(2))\n",
    "print((test.PavedDrive.value_counts().sort_values(ascending = False)/N*100).round(2))"
   ]
  },
  {
   "cell_type": "code",
   "execution_count": 526,
   "metadata": {},
   "outputs": [
    {
     "data": {
      "text/html": [
       "<div>\n",
       "<style>\n",
       "    .dataframe thead tr:only-child th {\n",
       "        text-align: right;\n",
       "    }\n",
       "\n",
       "    .dataframe thead th {\n",
       "        text-align: left;\n",
       "    }\n",
       "\n",
       "    .dataframe tbody tr th {\n",
       "        vertical-align: top;\n",
       "    }\n",
       "</style>\n",
       "<table border=\"1\" class=\"dataframe\">\n",
       "  <thead>\n",
       "    <tr style=\"text-align: right;\">\n",
       "      <th>driveway</th>\n",
       "      <th>0</th>\n",
       "      <th>2</th>\n",
       "      <th>3</th>\n",
       "    </tr>\n",
       "    <tr>\n",
       "      <th>PavedDrive</th>\n",
       "      <th></th>\n",
       "      <th></th>\n",
       "      <th></th>\n",
       "    </tr>\n",
       "  </thead>\n",
       "  <tbody>\n",
       "    <tr>\n",
       "      <th>N</th>\n",
       "      <td>90</td>\n",
       "      <td>0</td>\n",
       "      <td>0</td>\n",
       "    </tr>\n",
       "    <tr>\n",
       "      <th>P</th>\n",
       "      <td>0</td>\n",
       "      <td>30</td>\n",
       "      <td>0</td>\n",
       "    </tr>\n",
       "    <tr>\n",
       "      <th>Y</th>\n",
       "      <td>0</td>\n",
       "      <td>0</td>\n",
       "      <td>1340</td>\n",
       "    </tr>\n",
       "  </tbody>\n",
       "</table>\n",
       "</div>"
      ],
      "text/plain": [
       "driveway     0   2     3\n",
       "PavedDrive              \n",
       "N           90   0     0\n",
       "P            0  30     0\n",
       "Y            0   0  1340"
      ]
     },
     "execution_count": 526,
     "metadata": {},
     "output_type": "execute_result"
    }
   ],
   "source": [
    "# Creating a quantitative variable\n",
    "train['driveway'] = 0\n",
    "train.loc[train.PavedDrive == 'P', 'driveway'] = 2\n",
    "train.loc[train.PavedDrive == 'Y', 'driveway'] = 3\n",
    "pd.crosstab(train.PavedDrive, train.driveway)"
   ]
  },
  {
   "cell_type": "code",
   "execution_count": 527,
   "metadata": {},
   "outputs": [
    {
     "data": {
      "text/html": [
       "<div>\n",
       "<style>\n",
       "    .dataframe thead tr:only-child th {\n",
       "        text-align: right;\n",
       "    }\n",
       "\n",
       "    .dataframe thead th {\n",
       "        text-align: left;\n",
       "    }\n",
       "\n",
       "    .dataframe tbody tr th {\n",
       "        vertical-align: top;\n",
       "    }\n",
       "</style>\n",
       "<table border=\"1\" class=\"dataframe\">\n",
       "  <thead>\n",
       "    <tr style=\"text-align: right;\">\n",
       "      <th>driveway</th>\n",
       "      <th>0</th>\n",
       "      <th>2</th>\n",
       "      <th>3</th>\n",
       "    </tr>\n",
       "    <tr>\n",
       "      <th>PavedDrive</th>\n",
       "      <th></th>\n",
       "      <th></th>\n",
       "      <th></th>\n",
       "    </tr>\n",
       "  </thead>\n",
       "  <tbody>\n",
       "    <tr>\n",
       "      <th>N</th>\n",
       "      <td>126</td>\n",
       "      <td>0</td>\n",
       "      <td>0</td>\n",
       "    </tr>\n",
       "    <tr>\n",
       "      <th>P</th>\n",
       "      <td>0</td>\n",
       "      <td>32</td>\n",
       "      <td>0</td>\n",
       "    </tr>\n",
       "    <tr>\n",
       "      <th>Y</th>\n",
       "      <td>0</td>\n",
       "      <td>0</td>\n",
       "      <td>1301</td>\n",
       "    </tr>\n",
       "  </tbody>\n",
       "</table>\n",
       "</div>"
      ],
      "text/plain": [
       "driveway      0   2     3\n",
       "PavedDrive               \n",
       "N           126   0     0\n",
       "P             0  32     0\n",
       "Y             0   0  1301"
      ]
     },
     "execution_count": 527,
     "metadata": {},
     "output_type": "execute_result"
    }
   ],
   "source": [
    "test['driveway'] = 0\n",
    "test.loc[test.PavedDrive == 'P', 'driveway'] = 2\n",
    "test.loc[test.PavedDrive == 'Y', 'driveway'] = 3\n",
    "pd.crosstab(test.PavedDrive, test.driveway)"
   ]
  },
  {
   "cell_type": "code",
   "execution_count": 528,
   "metadata": {},
   "outputs": [
    {
     "name": "stdout",
     "output_type": "stream",
     "text": [
      "(1460, 177)\n",
      "(1459, 176)\n"
     ]
    }
   ],
   "source": [
    "print(train.shape)\n",
    "print(test.shape)"
   ]
  },
  {
   "cell_type": "markdown",
   "metadata": {},
   "source": [
    "###### Correlations for Porches SF - are pretty low, let's keep them all"
   ]
  },
  {
   "cell_type": "code",
   "execution_count": 529,
   "metadata": {},
   "outputs": [
    {
     "data": {
      "text/html": [
       "<div>\n",
       "<style>\n",
       "    .dataframe thead tr:only-child th {\n",
       "        text-align: right;\n",
       "    }\n",
       "\n",
       "    .dataframe thead th {\n",
       "        text-align: left;\n",
       "    }\n",
       "\n",
       "    .dataframe tbody tr th {\n",
       "        vertical-align: top;\n",
       "    }\n",
       "</style>\n",
       "<table border=\"1\" class=\"dataframe\">\n",
       "  <thead>\n",
       "    <tr style=\"text-align: right;\">\n",
       "      <th></th>\n",
       "      <th>WoodDeckSF</th>\n",
       "      <th>OpenPorchSF</th>\n",
       "      <th>EnclosedPorch</th>\n",
       "      <th>3SsnPorch</th>\n",
       "      <th>ScreenPorch</th>\n",
       "    </tr>\n",
       "  </thead>\n",
       "  <tbody>\n",
       "    <tr>\n",
       "      <th>WoodDeckSF</th>\n",
       "      <td>1.000000</td>\n",
       "      <td>0.058661</td>\n",
       "      <td>-0.125989</td>\n",
       "      <td>-0.032771</td>\n",
       "      <td>-0.074181</td>\n",
       "    </tr>\n",
       "    <tr>\n",
       "      <th>OpenPorchSF</th>\n",
       "      <td>0.058661</td>\n",
       "      <td>1.000000</td>\n",
       "      <td>-0.093079</td>\n",
       "      <td>-0.005842</td>\n",
       "      <td>0.074304</td>\n",
       "    </tr>\n",
       "    <tr>\n",
       "      <th>EnclosedPorch</th>\n",
       "      <td>-0.125989</td>\n",
       "      <td>-0.093079</td>\n",
       "      <td>1.000000</td>\n",
       "      <td>-0.037305</td>\n",
       "      <td>-0.082864</td>\n",
       "    </tr>\n",
       "    <tr>\n",
       "      <th>3SsnPorch</th>\n",
       "      <td>-0.032771</td>\n",
       "      <td>-0.005842</td>\n",
       "      <td>-0.037305</td>\n",
       "      <td>1.000000</td>\n",
       "      <td>-0.031436</td>\n",
       "    </tr>\n",
       "    <tr>\n",
       "      <th>ScreenPorch</th>\n",
       "      <td>-0.074181</td>\n",
       "      <td>0.074304</td>\n",
       "      <td>-0.082864</td>\n",
       "      <td>-0.031436</td>\n",
       "      <td>1.000000</td>\n",
       "    </tr>\n",
       "  </tbody>\n",
       "</table>\n",
       "</div>"
      ],
      "text/plain": [
       "               WoodDeckSF  OpenPorchSF  EnclosedPorch  3SsnPorch  ScreenPorch\n",
       "WoodDeckSF       1.000000     0.058661      -0.125989  -0.032771    -0.074181\n",
       "OpenPorchSF      0.058661     1.000000      -0.093079  -0.005842     0.074304\n",
       "EnclosedPorch   -0.125989    -0.093079       1.000000  -0.037305    -0.082864\n",
       "3SsnPorch       -0.032771    -0.005842      -0.037305   1.000000    -0.031436\n",
       "ScreenPorch     -0.074181     0.074304      -0.082864  -0.031436     1.000000"
      ]
     },
     "execution_count": 529,
     "metadata": {},
     "output_type": "execute_result"
    }
   ],
   "source": [
    "train[['WoodDeckSF','OpenPorchSF','EnclosedPorch','3SsnPorch', 'ScreenPorch']].corr()"
   ]
  },
  {
   "cell_type": "markdown",
   "metadata": {},
   "source": [
    "###### PoolArea: Pool area in square feet & PoolQC- ignore, nobody has a pool"
   ]
  },
  {
   "cell_type": "code",
   "execution_count": 530,
   "metadata": {
    "collapsed": true
   },
   "outputs": [],
   "source": [
    "# plt.hist(test['PoolArea'])\n",
    "# train.PoolArea.value_counts().sort_values(ascending = False)"
   ]
  },
  {
   "cell_type": "code",
   "execution_count": 531,
   "metadata": {},
   "outputs": [
    {
     "name": "stdout",
     "output_type": "stream",
     "text": [
      "Gd    0.21\n",
      "Ex    0.14\n",
      "Fa    0.14\n",
      "Name: PoolQC, dtype: float64\n"
     ]
    }
   ],
   "source": [
    "print((train.PoolQC.value_counts().sort_values(ascending = False)/N*100).round(2))"
   ]
  },
  {
   "cell_type": "markdown",
   "metadata": {},
   "source": [
    "###### Fence: Fence quality"
   ]
  },
  {
   "cell_type": "markdown",
   "metadata": {},
   "source": [
    "Build a new var fence"
   ]
  },
  {
   "cell_type": "code",
   "execution_count": 532,
   "metadata": {},
   "outputs": [
    {
     "name": "stdout",
     "output_type": "stream",
     "text": [
      "MnPrv    10.75\n",
      "GdPrv     4.04\n",
      "GdWo      3.70\n",
      "MnWw      0.75\n",
      "Name: Fence, dtype: float64\n",
      "MnPrv    11.78\n",
      "GdPrv     4.04\n",
      "GdWo      3.97\n",
      "MnWw      0.07\n",
      "Name: Fence, dtype: float64\n"
     ]
    }
   ],
   "source": [
    "print((train.Fence.value_counts().sort_values(ascending = False)/N*100).round(2))\n",
    "print((test.Fence.value_counts().sort_values(ascending = False)/N*100).round(2))"
   ]
  },
  {
   "cell_type": "code",
   "execution_count": 533,
   "metadata": {},
   "outputs": [
    {
     "data": {
      "text/html": [
       "<div>\n",
       "<style>\n",
       "    .dataframe thead tr:only-child th {\n",
       "        text-align: right;\n",
       "    }\n",
       "\n",
       "    .dataframe thead th {\n",
       "        text-align: left;\n",
       "    }\n",
       "\n",
       "    .dataframe tbody tr th {\n",
       "        vertical-align: top;\n",
       "    }\n",
       "</style>\n",
       "<table border=\"1\" class=\"dataframe\">\n",
       "  <thead>\n",
       "    <tr style=\"text-align: right;\">\n",
       "      <th>fence</th>\n",
       "      <th>0.5</th>\n",
       "      <th>1.5</th>\n",
       "    </tr>\n",
       "    <tr>\n",
       "      <th>Fence</th>\n",
       "      <th></th>\n",
       "      <th></th>\n",
       "    </tr>\n",
       "  </thead>\n",
       "  <tbody>\n",
       "    <tr>\n",
       "      <th>GdPrv</th>\n",
       "      <td>0</td>\n",
       "      <td>59</td>\n",
       "    </tr>\n",
       "    <tr>\n",
       "      <th>GdWo</th>\n",
       "      <td>0</td>\n",
       "      <td>54</td>\n",
       "    </tr>\n",
       "    <tr>\n",
       "      <th>MnPrv</th>\n",
       "      <td>157</td>\n",
       "      <td>0</td>\n",
       "    </tr>\n",
       "    <tr>\n",
       "      <th>MnWw</th>\n",
       "      <td>11</td>\n",
       "      <td>0</td>\n",
       "    </tr>\n",
       "  </tbody>\n",
       "</table>\n",
       "</div>"
      ],
      "text/plain": [
       "fence  0.5  1.5\n",
       "Fence          \n",
       "GdPrv    0   59\n",
       "GdWo     0   54\n",
       "MnPrv  157    0\n",
       "MnWw    11    0"
      ]
     },
     "execution_count": 533,
     "metadata": {},
     "output_type": "execute_result"
    }
   ],
   "source": [
    "train['fence'] = 0  # No fence are all zero \n",
    "train.loc[(train.Fence == 'MnWw')|(train.Fence == 'MnPrv'), 'fence'] = 0.5 # Minimum Wood or Minimum Privacy are 0.5\n",
    "train.loc[(train.Fence == 'GdWo')|(train.Fence == 'GdPrv'), 'fence'] = 1.5\n",
    "pd.crosstab(train.Fence, train.fence)"
   ]
  },
  {
   "cell_type": "code",
   "execution_count": 534,
   "metadata": {},
   "outputs": [
    {
     "data": {
      "text/html": [
       "<div>\n",
       "<style>\n",
       "    .dataframe thead tr:only-child th {\n",
       "        text-align: right;\n",
       "    }\n",
       "\n",
       "    .dataframe thead th {\n",
       "        text-align: left;\n",
       "    }\n",
       "\n",
       "    .dataframe tbody tr th {\n",
       "        vertical-align: top;\n",
       "    }\n",
       "</style>\n",
       "<table border=\"1\" class=\"dataframe\">\n",
       "  <thead>\n",
       "    <tr style=\"text-align: right;\">\n",
       "      <th>fence</th>\n",
       "      <th>0.5</th>\n",
       "      <th>1.5</th>\n",
       "    </tr>\n",
       "    <tr>\n",
       "      <th>Fence</th>\n",
       "      <th></th>\n",
       "      <th></th>\n",
       "    </tr>\n",
       "  </thead>\n",
       "  <tbody>\n",
       "    <tr>\n",
       "      <th>GdPrv</th>\n",
       "      <td>0</td>\n",
       "      <td>59</td>\n",
       "    </tr>\n",
       "    <tr>\n",
       "      <th>GdWo</th>\n",
       "      <td>0</td>\n",
       "      <td>58</td>\n",
       "    </tr>\n",
       "    <tr>\n",
       "      <th>MnPrv</th>\n",
       "      <td>172</td>\n",
       "      <td>0</td>\n",
       "    </tr>\n",
       "    <tr>\n",
       "      <th>MnWw</th>\n",
       "      <td>1</td>\n",
       "      <td>0</td>\n",
       "    </tr>\n",
       "  </tbody>\n",
       "</table>\n",
       "</div>"
      ],
      "text/plain": [
       "fence  0.5  1.5\n",
       "Fence          \n",
       "GdPrv    0   59\n",
       "GdWo     0   58\n",
       "MnPrv  172    0\n",
       "MnWw     1    0"
      ]
     },
     "execution_count": 534,
     "metadata": {},
     "output_type": "execute_result"
    }
   ],
   "source": [
    "test['fence'] = 0  # No fence are all zero \n",
    "test.loc[(test.Fence == 'MnWw')|(test.Fence == 'MnPrv'), 'fence'] = 0.5 # Minimum Wood or Minimum Privacy are 0.5\n",
    "test.loc[(test.Fence == 'GdWo')|(test.Fence == 'GdPrv'), 'fence'] = 1.5\n",
    "pd.crosstab(test.Fence, test.fence)"
   ]
  },
  {
   "cell_type": "code",
   "execution_count": 535,
   "metadata": {},
   "outputs": [
    {
     "name": "stdout",
     "output_type": "stream",
     "text": [
      "0.0    80.75\n",
      "0.5    11.51\n",
      "1.5     7.74\n",
      "Name: fence, dtype: float64\n",
      "0.0    80.07\n",
      "0.5    11.85\n",
      "1.5     8.01\n",
      "Name: fence, dtype: float64\n"
     ]
    }
   ],
   "source": [
    "print((train.fence.value_counts().sort_values(ascending = False)/N*100).round(2))\n",
    "print((test.fence.value_counts().sort_values(ascending = False)/N*100).round(2))"
   ]
  },
  {
   "cell_type": "markdown",
   "metadata": {},
   "source": [
    "###### MiscFeature: Miscellaneous feature not covered in other categories"
   ]
  },
  {
   "cell_type": "code",
   "execution_count": 536,
   "metadata": {},
   "outputs": [
    {
     "name": "stdout",
     "output_type": "stream",
     "text": [
      "Shed    3.36\n",
      "Othr    0.14\n",
      "Gar2    0.14\n",
      "TenC    0.07\n",
      "Name: MiscFeature, dtype: float64\n",
      "Shed    3.15\n",
      "Gar2    0.21\n",
      "Othr    0.14\n",
      "Name: MiscFeature, dtype: float64\n"
     ]
    }
   ],
   "source": [
    "print((train.MiscFeature.value_counts().sort_values(ascending = False)/N*100).round(2))\n",
    "print((test.MiscFeature.value_counts().sort_values(ascending = False)/N*100).round(2))"
   ]
  },
  {
   "cell_type": "code",
   "execution_count": 537,
   "metadata": {},
   "outputs": [
    {
     "data": {
      "text/html": [
       "<div>\n",
       "<style>\n",
       "    .dataframe thead tr:only-child th {\n",
       "        text-align: right;\n",
       "    }\n",
       "\n",
       "    .dataframe thead th {\n",
       "        text-align: left;\n",
       "    }\n",
       "\n",
       "    .dataframe tbody tr th {\n",
       "        vertical-align: top;\n",
       "    }\n",
       "</style>\n",
       "<table border=\"1\" class=\"dataframe\">\n",
       "  <thead>\n",
       "    <tr style=\"text-align: right;\">\n",
       "      <th>shed</th>\n",
       "      <th>0</th>\n",
       "      <th>1</th>\n",
       "    </tr>\n",
       "    <tr>\n",
       "      <th>MiscFeature</th>\n",
       "      <th></th>\n",
       "      <th></th>\n",
       "    </tr>\n",
       "  </thead>\n",
       "  <tbody>\n",
       "    <tr>\n",
       "      <th>Gar2</th>\n",
       "      <td>2</td>\n",
       "      <td>0</td>\n",
       "    </tr>\n",
       "    <tr>\n",
       "      <th>Othr</th>\n",
       "      <td>2</td>\n",
       "      <td>0</td>\n",
       "    </tr>\n",
       "    <tr>\n",
       "      <th>Shed</th>\n",
       "      <td>0</td>\n",
       "      <td>49</td>\n",
       "    </tr>\n",
       "    <tr>\n",
       "      <th>TenC</th>\n",
       "      <td>1</td>\n",
       "      <td>0</td>\n",
       "    </tr>\n",
       "  </tbody>\n",
       "</table>\n",
       "</div>"
      ],
      "text/plain": [
       "shed         0   1\n",
       "MiscFeature       \n",
       "Gar2         2   0\n",
       "Othr         2   0\n",
       "Shed         0  49\n",
       "TenC         1   0"
      ]
     },
     "execution_count": 537,
     "metadata": {},
     "output_type": "execute_result"
    }
   ],
   "source": [
    "# Build dummy variable 'shed':\n",
    "train['shed'] = 0\n",
    "train.loc[train.MiscFeature == 'Shed', 'shed'] = 1\n",
    "pd.crosstab(train.MiscFeature, train.shed)"
   ]
  },
  {
   "cell_type": "code",
   "execution_count": 538,
   "metadata": {},
   "outputs": [
    {
     "data": {
      "text/html": [
       "<div>\n",
       "<style>\n",
       "    .dataframe thead tr:only-child th {\n",
       "        text-align: right;\n",
       "    }\n",
       "\n",
       "    .dataframe thead th {\n",
       "        text-align: left;\n",
       "    }\n",
       "\n",
       "    .dataframe tbody tr th {\n",
       "        vertical-align: top;\n",
       "    }\n",
       "</style>\n",
       "<table border=\"1\" class=\"dataframe\">\n",
       "  <thead>\n",
       "    <tr style=\"text-align: right;\">\n",
       "      <th>shed</th>\n",
       "      <th>0</th>\n",
       "      <th>1</th>\n",
       "    </tr>\n",
       "    <tr>\n",
       "      <th>MiscFeature</th>\n",
       "      <th></th>\n",
       "      <th></th>\n",
       "    </tr>\n",
       "  </thead>\n",
       "  <tbody>\n",
       "    <tr>\n",
       "      <th>Gar2</th>\n",
       "      <td>3</td>\n",
       "      <td>0</td>\n",
       "    </tr>\n",
       "    <tr>\n",
       "      <th>Othr</th>\n",
       "      <td>2</td>\n",
       "      <td>0</td>\n",
       "    </tr>\n",
       "    <tr>\n",
       "      <th>Shed</th>\n",
       "      <td>0</td>\n",
       "      <td>46</td>\n",
       "    </tr>\n",
       "  </tbody>\n",
       "</table>\n",
       "</div>"
      ],
      "text/plain": [
       "shed         0   1\n",
       "MiscFeature       \n",
       "Gar2         3   0\n",
       "Othr         2   0\n",
       "Shed         0  46"
      ]
     },
     "execution_count": 538,
     "metadata": {},
     "output_type": "execute_result"
    }
   ],
   "source": [
    "test['shed'] = 0\n",
    "test.loc[test.MiscFeature == 'Shed', 'shed'] = 1\n",
    "pd.crosstab(test.MiscFeature, test.shed)"
   ]
  },
  {
   "cell_type": "markdown",
   "metadata": {},
   "source": [
    "###### MiscVal: $Value of miscellaneous feature - 96% are zeroes, but could use as is"
   ]
  },
  {
   "cell_type": "code",
   "execution_count": 539,
   "metadata": {
    "collapsed": true
   },
   "outputs": [],
   "source": [
    "# print((train.MiscVal.value_counts().sort_values(ascending = False)/N*100).round(2))"
   ]
  },
  {
   "cell_type": "markdown",
   "metadata": {},
   "source": [
    "###### MoSold: Month Sold (MM) - could use as is"
   ]
  },
  {
   "cell_type": "code",
   "execution_count": 540,
   "metadata": {
    "collapsed": true
   },
   "outputs": [],
   "source": [
    "# print((train.MoSold.value_counts().sort_values(ascending = False)/N*100).round(2))"
   ]
  },
  {
   "cell_type": "markdown",
   "metadata": {},
   "source": [
    "###### YrSold: Year Sold (YYYY) - could use as is"
   ]
  },
  {
   "cell_type": "code",
   "execution_count": 541,
   "metadata": {
    "collapsed": true
   },
   "outputs": [],
   "source": [
    "# print((train.YrSold.value_counts().sort_values(ascending = False)/N*100).round(2))"
   ]
  },
  {
   "cell_type": "markdown",
   "metadata": {},
   "source": [
    "###### SaleType: Type of sale"
   ]
  },
  {
   "cell_type": "code",
   "execution_count": 542,
   "metadata": {},
   "outputs": [
    {
     "name": "stdout",
     "output_type": "stream",
     "text": [
      "WD       86.78\n",
      "New       8.36\n",
      "COD       2.95\n",
      "ConLD     0.62\n",
      "ConLw     0.34\n",
      "ConLI     0.34\n",
      "CWD       0.27\n",
      "Oth       0.21\n",
      "Con       0.14\n",
      "Name: SaleType, dtype: float64\n"
     ]
    }
   ],
   "source": [
    "print((train.SaleType.value_counts().sort_values(ascending = False)/N*100).round(2))"
   ]
  },
  {
   "cell_type": "code",
   "execution_count": 543,
   "metadata": {
    "collapsed": true
   },
   "outputs": [],
   "source": [
    "# Build dummy variable 'sales_convent':\n",
    "train['sales_convent'] = 0\n",
    "train.loc[train.SaleType == 'WD', 'sales_convent'] = 1\n",
    "# pd.crosstab(train.SaleType, train.sales_convent)"
   ]
  },
  {
   "cell_type": "code",
   "execution_count": 544,
   "metadata": {
    "collapsed": true
   },
   "outputs": [],
   "source": [
    "test['sales_convent'] = 0\n",
    "test.loc[test.SaleType == 'WD', 'sales_convent'] = 1\n",
    "# pd.crosstab(test.SaleType, test.sales_convent)"
   ]
  },
  {
   "cell_type": "code",
   "execution_count": 545,
   "metadata": {},
   "outputs": [
    {
     "data": {
      "text/html": [
       "<div>\n",
       "<style>\n",
       "    .dataframe thead tr:only-child th {\n",
       "        text-align: right;\n",
       "    }\n",
       "\n",
       "    .dataframe thead th {\n",
       "        text-align: left;\n",
       "    }\n",
       "\n",
       "    .dataframe tbody tr th {\n",
       "        vertical-align: top;\n",
       "    }\n",
       "</style>\n",
       "<table border=\"1\" class=\"dataframe\">\n",
       "  <thead>\n",
       "    <tr style=\"text-align: right;\">\n",
       "      <th>sales_new</th>\n",
       "      <th>0</th>\n",
       "      <th>1</th>\n",
       "    </tr>\n",
       "    <tr>\n",
       "      <th>SaleType</th>\n",
       "      <th></th>\n",
       "      <th></th>\n",
       "    </tr>\n",
       "  </thead>\n",
       "  <tbody>\n",
       "    <tr>\n",
       "      <th>COD</th>\n",
       "      <td>43</td>\n",
       "      <td>0</td>\n",
       "    </tr>\n",
       "    <tr>\n",
       "      <th>CWD</th>\n",
       "      <td>4</td>\n",
       "      <td>0</td>\n",
       "    </tr>\n",
       "    <tr>\n",
       "      <th>Con</th>\n",
       "      <td>2</td>\n",
       "      <td>0</td>\n",
       "    </tr>\n",
       "    <tr>\n",
       "      <th>ConLD</th>\n",
       "      <td>9</td>\n",
       "      <td>0</td>\n",
       "    </tr>\n",
       "    <tr>\n",
       "      <th>ConLI</th>\n",
       "      <td>5</td>\n",
       "      <td>0</td>\n",
       "    </tr>\n",
       "    <tr>\n",
       "      <th>ConLw</th>\n",
       "      <td>5</td>\n",
       "      <td>0</td>\n",
       "    </tr>\n",
       "    <tr>\n",
       "      <th>New</th>\n",
       "      <td>0</td>\n",
       "      <td>122</td>\n",
       "    </tr>\n",
       "    <tr>\n",
       "      <th>Oth</th>\n",
       "      <td>3</td>\n",
       "      <td>0</td>\n",
       "    </tr>\n",
       "    <tr>\n",
       "      <th>WD</th>\n",
       "      <td>1267</td>\n",
       "      <td>0</td>\n",
       "    </tr>\n",
       "  </tbody>\n",
       "</table>\n",
       "</div>"
      ],
      "text/plain": [
       "sales_new     0    1\n",
       "SaleType            \n",
       "COD          43    0\n",
       "CWD           4    0\n",
       "Con           2    0\n",
       "ConLD         9    0\n",
       "ConLI         5    0\n",
       "ConLw         5    0\n",
       "New           0  122\n",
       "Oth           3    0\n",
       "WD         1267    0"
      ]
     },
     "execution_count": 545,
     "metadata": {},
     "output_type": "execute_result"
    }
   ],
   "source": [
    "# Build dummy variable 'sales_new':\n",
    "train['sales_new'] = 0\n",
    "train.loc[train.SaleType == 'New', 'sales_new'] = 1\n",
    "pd.crosstab(train.SaleType, train.sales_new)"
   ]
  },
  {
   "cell_type": "code",
   "execution_count": 546,
   "metadata": {},
   "outputs": [
    {
     "data": {
      "text/html": [
       "<div>\n",
       "<style>\n",
       "    .dataframe thead tr:only-child th {\n",
       "        text-align: right;\n",
       "    }\n",
       "\n",
       "    .dataframe thead th {\n",
       "        text-align: left;\n",
       "    }\n",
       "\n",
       "    .dataframe tbody tr th {\n",
       "        vertical-align: top;\n",
       "    }\n",
       "</style>\n",
       "<table border=\"1\" class=\"dataframe\">\n",
       "  <thead>\n",
       "    <tr style=\"text-align: right;\">\n",
       "      <th>sales_new</th>\n",
       "      <th>0</th>\n",
       "      <th>1</th>\n",
       "    </tr>\n",
       "    <tr>\n",
       "      <th>SaleType</th>\n",
       "      <th></th>\n",
       "      <th></th>\n",
       "    </tr>\n",
       "  </thead>\n",
       "  <tbody>\n",
       "    <tr>\n",
       "      <th>COD</th>\n",
       "      <td>44</td>\n",
       "      <td>0</td>\n",
       "    </tr>\n",
       "    <tr>\n",
       "      <th>CWD</th>\n",
       "      <td>8</td>\n",
       "      <td>0</td>\n",
       "    </tr>\n",
       "    <tr>\n",
       "      <th>Con</th>\n",
       "      <td>3</td>\n",
       "      <td>0</td>\n",
       "    </tr>\n",
       "    <tr>\n",
       "      <th>ConLD</th>\n",
       "      <td>17</td>\n",
       "      <td>0</td>\n",
       "    </tr>\n",
       "    <tr>\n",
       "      <th>ConLI</th>\n",
       "      <td>4</td>\n",
       "      <td>0</td>\n",
       "    </tr>\n",
       "    <tr>\n",
       "      <th>ConLw</th>\n",
       "      <td>3</td>\n",
       "      <td>0</td>\n",
       "    </tr>\n",
       "    <tr>\n",
       "      <th>New</th>\n",
       "      <td>0</td>\n",
       "      <td>117</td>\n",
       "    </tr>\n",
       "    <tr>\n",
       "      <th>Oth</th>\n",
       "      <td>4</td>\n",
       "      <td>0</td>\n",
       "    </tr>\n",
       "    <tr>\n",
       "      <th>WD</th>\n",
       "      <td>1258</td>\n",
       "      <td>0</td>\n",
       "    </tr>\n",
       "  </tbody>\n",
       "</table>\n",
       "</div>"
      ],
      "text/plain": [
       "sales_new     0    1\n",
       "SaleType            \n",
       "COD          44    0\n",
       "CWD           8    0\n",
       "Con           3    0\n",
       "ConLD        17    0\n",
       "ConLI         4    0\n",
       "ConLw         3    0\n",
       "New           0  117\n",
       "Oth           4    0\n",
       "WD         1258    0"
      ]
     },
     "execution_count": 546,
     "metadata": {},
     "output_type": "execute_result"
    }
   ],
   "source": [
    "test['sales_new'] = 0\n",
    "test.loc[test.SaleType == 'New', 'sales_new'] = 1\n",
    "pd.crosstab(test.SaleType, test.sales_new)"
   ]
  },
  {
   "cell_type": "code",
   "execution_count": 547,
   "metadata": {},
   "outputs": [
    {
     "name": "stdout",
     "output_type": "stream",
     "text": [
      "(1460, 181)\n",
      "(1459, 180)\n"
     ]
    }
   ],
   "source": [
    "print(train.shape)\n",
    "print(test.shape)"
   ]
  },
  {
   "cell_type": "markdown",
   "metadata": {},
   "source": [
    "###### SaleCondition: Condition of sale"
   ]
  },
  {
   "cell_type": "code",
   "execution_count": 548,
   "metadata": {},
   "outputs": [
    {
     "name": "stdout",
     "output_type": "stream",
     "text": [
      "Normal     82.05\n",
      "Partial     8.56\n",
      "Abnorml     6.92\n",
      "Family      1.37\n",
      "Alloca      0.82\n",
      "AdjLand     0.27\n",
      "Name: SaleCondition, dtype: float64\n",
      "Normal     82.47\n",
      "Partial     8.22\n",
      "Abnorml     6.10\n",
      "Family      1.78\n",
      "Alloca      0.82\n",
      "AdjLand     0.55\n",
      "Name: SaleCondition, dtype: float64\n"
     ]
    }
   ],
   "source": [
    "print((train.SaleCondition.value_counts().sort_values(ascending = False)/N*100).round(2))\n",
    "print((test.SaleCondition.value_counts().sort_values(ascending = False)/N*100).round(2))"
   ]
  },
  {
   "cell_type": "code",
   "execution_count": 549,
   "metadata": {
    "collapsed": true
   },
   "outputs": [],
   "source": [
    "# Creating dummies based on SaleCondition and dropping two of them (with too few observations):\n",
    "temp = pd.get_dummies(train.SaleCondition, prefix = \"sale\")\n",
    "temp.drop('sale_Alloca', axis=1, inplace = True)\n",
    "temp.drop('sale_AdjLand', axis=1, inplace = True)\n",
    "train = pd.concat([train, temp], axis = 1)"
   ]
  },
  {
   "cell_type": "code",
   "execution_count": 550,
   "metadata": {
    "collapsed": true
   },
   "outputs": [],
   "source": [
    "temp = pd.get_dummies(test.SaleCondition, prefix = \"sale\")\n",
    "temp.drop('sale_Alloca', axis=1, inplace = True)\n",
    "temp.drop('sale_AdjLand', axis=1, inplace = True)\n",
    "test = pd.concat([test, temp], axis = 1)"
   ]
  },
  {
   "cell_type": "code",
   "execution_count": 551,
   "metadata": {},
   "outputs": [
    {
     "name": "stdout",
     "output_type": "stream",
     "text": [
      "(1460, 185)\n",
      "(1459, 184)\n"
     ]
    }
   ],
   "source": [
    "print(train.shape)\n",
    "print(test.shape)"
   ]
  },
  {
   "cell_type": "code",
   "execution_count": 552,
   "metadata": {
    "collapsed": true
   },
   "outputs": [],
   "source": [
    "# print(train.columns)\n",
    "# print(test.columns)"
   ]
  },
  {
   "cell_type": "code",
   "execution_count": 553,
   "metadata": {
    "collapsed": true,
    "scrolled": false
   },
   "outputs": [],
   "source": [
    "# misscounts = np.sum(train.isnull(), axis=0)/N*100\n",
    "# print(misscounts[:40].round(2))\n",
    "# print(misscounts[65:80].round(2))"
   ]
  },
  {
   "cell_type": "markdown",
   "metadata": {},
   "source": [
    "###### YrSold: Year Sold (YYYY)"
   ]
  },
  {
   "cell_type": "code",
   "execution_count": 598,
   "metadata": {},
   "outputs": [
    {
     "name": "stdout",
     "output_type": "stream",
     "text": [
      "2009    23.15\n",
      "2007    22.53\n",
      "2006    21.51\n",
      "2008    20.82\n",
      "2010    11.99\n",
      "Name: YrSold, dtype: float64\n"
     ]
    }
   ],
   "source": [
    "print((train.YrSold.value_counts().sort_values(ascending = False)/N*100).round(2))"
   ]
  },
  {
   "cell_type": "code",
   "execution_count": 601,
   "metadata": {
    "collapsed": true
   },
   "outputs": [],
   "source": [
    "train['salesyear_07'] = 0\n",
    "train.loc[train.YrSold == 2007, 'salesyear_07'] = 1\n",
    "train['salesyear_08'] = 0\n",
    "train.loc[train.YrSold == 2008, 'salesyear_08'] = 1\n",
    "train['salesyear_09'] = 0\n",
    "train.loc[train.YrSold == 2009, 'salesyear_09'] = 1\n",
    "train['salesyear_10'] = 0\n",
    "train.loc[train.YrSold == 2010, 'salesyear_10'] = 1"
   ]
  },
  {
   "cell_type": "code",
   "execution_count": 602,
   "metadata": {
    "collapsed": true
   },
   "outputs": [],
   "source": [
    "test['salesyear_07'] = 0\n",
    "test.loc[test.YrSold == 2007, 'salesyear_07'] = 1\n",
    "test['salesyear_08'] = 0\n",
    "test.loc[test.YrSold == 2008, 'salesyear_08'] = 1\n",
    "test['salesyear_09'] = 0\n",
    "test.loc[test.YrSold == 2009, 'salesyear_09'] = 1\n",
    "test['salesyear_10'] = 0\n",
    "test.loc[test.YrSold == 2010, 'salesyear_10'] = 1"
   ]
  },
  {
   "cell_type": "code",
   "execution_count": 612,
   "metadata": {
    "collapsed": true,
    "scrolled": false
   },
   "outputs": [],
   "source": [
    "# pd.crosstab(train.YrSold, train.salesyear_07)"
   ]
  },
  {
   "cell_type": "code",
   "execution_count": 604,
   "metadata": {},
   "outputs": [
    {
     "name": "stdout",
     "output_type": "stream",
     "text": [
      "(1460, 192)\n",
      "(1459, 191)\n"
     ]
    }
   ],
   "source": [
    "print(train.shape)\n",
    "print(test.shape)"
   ]
  },
  {
   "cell_type": "markdown",
   "metadata": {},
   "source": [
    "###### MoSold: Month Sold (MM)"
   ]
  },
  {
   "cell_type": "code",
   "execution_count": 619,
   "metadata": {
    "collapsed": true
   },
   "outputs": [],
   "source": [
    "# print((train.MoSold.value_counts().sort_values(ascending = False)/N*100).round(2))"
   ]
  },
  {
   "cell_type": "code",
   "execution_count": 616,
   "metadata": {
    "collapsed": true
   },
   "outputs": [],
   "source": [
    "# Creating dummies based on SaleCondition and dropping two of them (with too few observations):\n",
    "temp = pd.get_dummies(train.MoSold, prefix = \"salesmo\")\n",
    "temp.drop('salesmo_1', axis=1, inplace = True)\n",
    "temp.drop('salesmo_2', axis=1, inplace = True)\n",
    "train = pd.concat([train, temp], axis = 1)"
   ]
  },
  {
   "cell_type": "code",
   "execution_count": 617,
   "metadata": {
    "collapsed": true
   },
   "outputs": [],
   "source": [
    "temp = pd.get_dummies(test.MoSold, prefix = \"salesmo\")\n",
    "temp.drop('salesmo_1', axis=1, inplace = True)\n",
    "temp.drop('salesmo_2', axis=1, inplace = True)\n",
    "test = pd.concat([test, temp], axis = 1)"
   ]
  },
  {
   "cell_type": "code",
   "execution_count": 618,
   "metadata": {},
   "outputs": [
    {
     "name": "stdout",
     "output_type": "stream",
     "text": [
      "(1460, 202)\n",
      "(1459, 201)\n"
     ]
    }
   ],
   "source": [
    "print(train.shape)\n",
    "print(test.shape)"
   ]
  },
  {
   "cell_type": "markdown",
   "metadata": {},
   "source": [
    "###### Building dummy 'remodeled' instead of YearRemodAdd"
   ]
  },
  {
   "cell_type": "code",
   "execution_count": 644,
   "metadata": {},
   "outputs": [
    {
     "data": {
      "text/plain": [
       "0.59285497634365036"
      ]
     },
     "execution_count": 644,
     "metadata": {},
     "output_type": "execute_result"
    }
   ],
   "source": [
    "# Correlation year built and remodeled - we won't be using YearRemodAdd\n",
    "train['YearBuilt'].corr(train['YearRemodAdd']) # 0.6"
   ]
  },
  {
   "cell_type": "code",
   "execution_count": 645,
   "metadata": {
    "collapsed": true
   },
   "outputs": [],
   "source": [
    "# Build variable remodeled to be used instead of YearRemodAdd:\n",
    "train['remodeled'] = 0\n",
    "train.loc[train.YearBuilt != train.YearRemodAdd,'remodeled'] = 1"
   ]
  },
  {
   "cell_type": "code",
   "execution_count": 646,
   "metadata": {
    "collapsed": true
   },
   "outputs": [],
   "source": [
    "test['remodeled'] = 0\n",
    "test.loc[test.YearBuilt != test.YearRemodAdd,'remodeled'] = 1"
   ]
  },
  {
   "cell_type": "code",
   "execution_count": 563,
   "metadata": {
    "collapsed": true
   },
   "outputs": [],
   "source": [
    "# pd.crosstab((train.YearBuilt-train.YearRemodAdd), train.remodeled)"
   ]
  },
  {
   "cell_type": "markdown",
   "metadata": {},
   "source": [
    "###### Summing the number of baths"
   ]
  },
  {
   "cell_type": "markdown",
   "metadata": {},
   "source": [
    "Created 2 new variables: full_baths and half_baths"
   ]
  },
  {
   "cell_type": "code",
   "execution_count": 564,
   "metadata": {
    "collapsed": true
   },
   "outputs": [],
   "source": [
    "# print((train.BsmtFullBath.value_counts().sort_values(ascending = False)/N*100).round(2))"
   ]
  },
  {
   "cell_type": "code",
   "execution_count": 565,
   "metadata": {
    "collapsed": true
   },
   "outputs": [],
   "source": [
    "# print((train.BsmtHalfBath.value_counts().sort_values(ascending = False)/N*100).round(2))"
   ]
  },
  {
   "cell_type": "code",
   "execution_count": 566,
   "metadata": {
    "collapsed": true
   },
   "outputs": [],
   "source": [
    "# print((train.FullBath.value_counts().sort_values(ascending = False)/N*100).round(2))"
   ]
  },
  {
   "cell_type": "code",
   "execution_count": 567,
   "metadata": {
    "collapsed": true
   },
   "outputs": [],
   "source": [
    "# print((train.HalfBath.value_counts().sort_values(ascending = False)/N*100).round(2))"
   ]
  },
  {
   "cell_type": "code",
   "execution_count": 568,
   "metadata": {
    "collapsed": true
   },
   "outputs": [],
   "source": [
    "train['full_baths'] = train['BsmtFullBath'] + train['FullBath']\n",
    "train['half_baths'] = train['BsmtHalfBath'] + train['HalfBath']"
   ]
  },
  {
   "cell_type": "code",
   "execution_count": 569,
   "metadata": {
    "collapsed": true
   },
   "outputs": [],
   "source": [
    "test['full_baths'] = test['BsmtFullBath'] + test['FullBath']\n",
    "test['half_baths'] = test['BsmtHalfBath'] + test['HalfBath']"
   ]
  },
  {
   "cell_type": "code",
   "execution_count": 570,
   "metadata": {},
   "outputs": [
    {
     "data": {
      "text/plain": [
       "0.010420063694912857"
      ]
     },
     "execution_count": 570,
     "metadata": {},
     "output_type": "execute_result"
    }
   ],
   "source": [
    "# No correlation between number of full and half baths:\n",
    "train['full_baths'].corr(train['half_baths'])"
   ]
  },
  {
   "cell_type": "code",
   "execution_count": 571,
   "metadata": {
    "collapsed": true
   },
   "outputs": [],
   "source": [
    "# train[['half_baths', 'BsmtHalfBath', 'HalfBath']]"
   ]
  },
  {
   "cell_type": "code",
   "execution_count": 572,
   "metadata": {},
   "outputs": [
    {
     "name": "stdout",
     "output_type": "stream",
     "text": [
      "(1460, 188)\n",
      "(1459, 187)\n"
     ]
    }
   ],
   "source": [
    "print(train.shape)\n",
    "print(test.shape)"
   ]
  },
  {
   "cell_type": "markdown",
   "metadata": {
    "collapsed": true
   },
   "source": [
    "###### Function to identify outliers (will use it once we are done with feature engineering)"
   ]
  },
  {
   "cell_type": "markdown",
   "metadata": {},
   "source": [
    "###### Important!\n",
    "1. Only run it once we are done with feature engineering!\n",
    "2. Only run after we've imputed missing values!\n",
    "3. Only run after we've standardized (scaled) all predictors!"
   ]
  },
  {
   "cell_type": "code",
   "execution_count": 573,
   "metadata": {
    "collapsed": true
   },
   "outputs": [],
   "source": [
    "# This cell is not working currently\n",
    "# Import the function outliers' defined in file 'outliers.py':\n",
    "# from outliers import outliers\n",
    "# import outliers\n",
    "# outliers.outliers(df, ['a','b','c'], kneighbors = 5)"
   ]
  },
  {
   "cell_type": "code",
   "execution_count": 640,
   "metadata": {
    "collapsed": true
   },
   "outputs": [],
   "source": [
    "# This function takes 3 arguments: data frame, list of column names, and # of neighbors\n",
    "# It returns the original data frame with one extra column: 'distances'\n",
    "# What does it do?\n",
    "# 1. Calculates Euclidean distance for all observation pairs\n",
    "# 2. For each observation it takes 'kneighbors' smallest distances and sums them up \n",
    "# 3. Puts those sums in a new column - 'distances'\n",
    "# After it's done, we can inspect 'distances' column and toss those observations that have very high distances\n",
    "# because high distances mean: This observation is very far even from its closest neighbors!\n",
    "\n",
    "import scipy\n",
    "from scipy.spatial.distance import pdist, squareform\n",
    "def outliers(data, nameslist, kneighbors = 40):\n",
    "    dist = pdist(data[nameslist], metric='euclidean')   # calculate distances b/w rows\n",
    "    dist = squareform(dist)                             # turn it into a squared numpy array (square matrix)\n",
    "    nrows = data.shape[0]                               # number of rows in our data frame\n",
    "    distances = pd.Series([0.0] * nrows)                # create placeholder for distances\n",
    "    for i in range(nrows):\n",
    "        myarray = dist[i]\n",
    "        myarray = myarray[~np.isnan(myarray)]           # remove NANs\n",
    "        myarray = np.sort(myarray)[0:(kneighbors + 1)]  # sort (ascending) and take only kneighbors distances\n",
    "        distances[i] = np.sum(myarray)                  # sum up distances to kneighbors similar neighbors\n",
    "    data['distances'] = distances                       # add 'distances' as a new column\n",
    "    return data"
   ]
  },
  {
   "cell_type": "code",
   "execution_count": 643,
   "metadata": {},
   "outputs": [],
   "source": [
    "# Example how to use our outliers function:\n",
    "\n",
    "# Generate Fake Pandas data frame (not related at all to our data)\n",
    "import numpy as np\n",
    "import pandas as pd\n",
    "from scipy.spatial.distance import pdist, squareform\n",
    "a = pd.Series(np.random.normal(1, 0.1, 20))\n",
    "df = pd.DataFrame(a, columns=['a'])\n",
    "df['b'] = pd.Series(np.random.normal(2, 0.1, 20))\n",
    "df['c'] = pd.Series(np.random.normal(3, 0.1, 20))\n",
    "df.loc[0,'a'] = 10\n",
    "df.loc[0,'b'] = 10\n",
    "df.loc[1,'c'] = 10\n",
    "# df.head\n",
    "\n",
    "# Using our function to add distances:\n",
    "df = outliers(df, ['a','b','c'], kneighbors = 5)\n",
    "# df"
   ]
  },
  {
   "cell_type": "markdown",
   "metadata": {},
   "source": [
    "###### Looking at correlations among quantitative variables (not dummies)"
   ]
  },
  {
   "cell_type": "code",
   "execution_count": 636,
   "metadata": {
    "collapsed": true
   },
   "outputs": [],
   "source": [
    "quant_vars = ['SalePrice','bsmt_exposure','gar_type','full_baths','half_baths','BedroomAbvGr','KitchenAbvGr',\n",
    "              'TotRmsAbvGrd','Fireplaces','GarageCars','LotFrontage','LotArea','MasVnrArea',\n",
    "              'bsmt_height','BsmtFinishedShare','LowQualFinSF','GrLivArea','WoodDeckSF','OpenPorchSF',\n",
    "              'EnclosedPorch','3SsnPorch','ScreenPorch', 'MiscVal','OverallQual','OverallCond',\n",
    "              'exterior_quality','exterior_condition','bsmt_condition','bsmt_finished1','bsmt_finished2',\n",
    "              'heating_quality','kitchen_quality','home_funct','fireplace_quality','gar_finish',\n",
    "              'gar_perception','driveway', 'salesyear_07','salesyear_08','salesyear_09','salesyear_10',\n",
    "               'salesmo_3','salesmo_4','salesmo_5','salesmo_6','salesmo_7','salesmo_8','salesmo_9',\n",
    "             'salesmo_10','salesmo_11','salesmo_12']"
   ]
  },
  {
   "cell_type": "code",
   "execution_count": 622,
   "metadata": {
    "collapsed": true
   },
   "outputs": [],
   "source": [
    "# list(train)"
   ]
  },
  {
   "cell_type": "code",
   "execution_count": 623,
   "metadata": {
    "collapsed": true
   },
   "outputs": [],
   "source": [
    "corrQuant = train[quant_vars].corr()\n"
   ]
  },
  {
   "cell_type": "markdown",
   "metadata": {},
   "source": [
    "###### Looking at missing values on our quantitative variabels (not dummies)"
   ]
  },
  {
   "cell_type": "markdown",
   "metadata": {},
   "source": [
    "Need to impute missings for LotFrontage (18% missing)"
   ]
  },
  {
   "cell_type": "code",
   "execution_count": 639,
   "metadata": {},
   "outputs": [],
   "source": [
    "temp = train[quant_vars]\n",
    "misscounts3 = np.sum(temp.isnull(), axis=0)/N2*100\n",
    "# print(misscounts3.round(2))"
   ]
  },
  {
   "cell_type": "code",
   "execution_count": 624,
   "metadata": {
    "collapsed": true
   },
   "outputs": [],
   "source": [
    "corrQuant.to_csv('x correlations for quant vars.csv')"
   ]
  },
  {
   "cell_type": "code",
   "execution_count": 628,
   "metadata": {},
   "outputs": [
    {
     "name": "stdout",
     "output_type": "stream",
     "text": [
      "0    47.26\n",
      "1    44.52\n",
      "2     7.88\n",
      "3     0.34\n",
      "Name: Fireplaces, dtype: float64\n"
     ]
    }
   ],
   "source": [
    "print((train.Fireplaces.value_counts().sort_values(ascending = False)/N*100).round(2))"
   ]
  },
  {
   "cell_type": "markdown",
   "metadata": {},
   "source": [
    "###### Exploring Correlations among variables in \"dimensions\" category"
   ]
  },
  {
   "cell_type": "code",
   "execution_count": null,
   "metadata": {
    "collapsed": true
   },
   "outputs": [],
   "source": [
    "pd.set_option('display.max_columns', 50)\n",
    "corrDim = train[['SalePrice','LotArea','MasVnrArea','bsmt_height','BsmtUnfSF','TotalBsmtSF','BsmtFinishedShare',\n",
    "                 '1stFlrSF','2ndFlrSF','LowQualFinSF','GrLivArea','WoodDeckSF','OpenPorchSF','EnclosedPorch',\n",
    "                 '3SsnPorch','ScreenPorch']].corr()\n",
    "# corrDim"
   ]
  },
  {
   "cell_type": "code",
   "execution_count": 647,
   "metadata": {},
   "outputs": [
    {
     "data": {
      "text/plain": [
       "<matplotlib.axes._subplots.AxesSubplot at 0x262e7942ef0>"
      ]
     },
     "execution_count": 647,
     "metadata": {},
     "output_type": "execute_result"
    },
    {
     "data": {
      "image/png": "[encoded data removed]",
      "text/plain": [
       "<matplotlib.figure.Figure at 0x262e7646f98>"
      ]
     },
     "metadata": {},
     "output_type": "display_data"
    }
   ],
   "source": [
    "import seaborn as sns\n",
    "import matplotlib.pyplot as plt\n",
    "\n",
    "# Generate a mask for the upper triangle\n",
    "mask = np.zeros_like(corrDim, dtype=np.bool)\n",
    "mask[np.triu_indices_from(mask)] = True\n",
    "\n",
    "# Set up the matplotlib figure\n",
    "f, ax = plt.subplots(figsize=(11, 9))\n",
    "\n",
    "# Generate a custom diverging colormap\n",
    "cmap = sns.diverging_palette(220, 10, as_cmap=True)\n",
    "\n",
    "# Draw the heatmap with the mask and correct aspect ratio\n",
    "sns.heatmap(corrDim, mask=mask, cmap=cmap, vmax=.3, center=0,\n",
    "            square=True, linewidths=.5, cbar_kws={\"shrink\": .5})"
   ]
  },
  {
   "cell_type": "code",
   "execution_count": null,
   "metadata": {
    "collapsed": true
   },
   "outputs": [],
   "source": []
  }
 ],
 "metadata": {
  "kernelspec": {
   "display_name": "Python 3",
   "language": "python",
   "name": "python3"
  },
  "language_info": {
   "codemirror_mode": {
    "name": "ipython",
    "version": 3
   },
   "file_extension": ".py",
   "mimetype": "text/x-python",
   "name": "python",
   "nbconvert_exporter": "python",
   "pygments_lexer": "ipython3",
   "version": "3.6.1"
  }
 },
 "nbformat": 4,
 "nbformat_minor": 2
}
