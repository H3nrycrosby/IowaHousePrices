{
 "cells": [
  {
   "cell_type": "code",
   "execution_count": 1,
   "metadata": {},
   "outputs": [
    {
     "name": "stdout",
     "output_type": "stream",
     "text": [
      "(1445, 111)\n",
      "(1445, 1)\n",
      "(1459, 111)\n"
     ]
    }
   ],
   "source": [
    "#Reading in and reviewing training and test datasets\n",
    "import pandas as pd\n",
    "import numpy as np\n",
    "%matplotlib inline\n",
    "\n",
    "train_x = pd.read_csv('train_x.csv')\n",
    "train_y = pd.read_csv('train_y.csv')\n",
    "test_x = pd.read_csv('test_x.csv')\n",
    "\n",
    "print(train_x.shape)\n",
    "print(train_y.shape)\n",
    "print(test_x.shape)\n",
    "#train_x.head()\n",
    "#train_y.head()\n",
    "#test_x.head()\n",
    "train_y = np.ravel(train_y,'C') #converting dependent variable to 1d array"
   ]
  },
  {
   "cell_type": "markdown",
   "metadata": {},
   "source": [
    "**Fitting initial random forest**"
   ]
  },
  {
   "cell_type": "code",
   "execution_count": 3,
   "metadata": {},
   "outputs": [
    {
     "data": {
      "text/plain": [
       "RandomForestRegressor(bootstrap=True, criterion='mse', max_depth=None,\n",
       "           max_features='auto', max_leaf_nodes=None,\n",
       "           min_impurity_split=1e-07, min_samples_leaf=1,\n",
       "           min_samples_split=2, min_weight_fraction_leaf=0.0,\n",
       "           n_estimators=50, n_jobs=-1, oob_score=True, random_state=None,\n",
       "           verbose=0, warm_start=False)"
      ]
     },
     "execution_count": 3,
     "metadata": {},
     "output_type": "execute_result"
    }
   ],
   "source": [
    "from sklearn.ensemble import RandomForestRegressor\n",
    "np.random.seed(0)\n",
    "initial_forest = RandomForestRegressor(n_estimators=50, n_jobs=-1, oob_score=True)\n",
    "initial_forest.fit(train_x.values, train_y)"
   ]
  },
  {
   "cell_type": "markdown",
   "metadata": {},
   "source": [
    "OOB error from initial forest"
   ]
  },
  {
   "cell_type": "code",
   "execution_count": 6,
   "metadata": {},
   "outputs": [
    {
     "name": "stdout",
     "output_type": "stream",
     "text": [
      "OOB Error: 0.871518895099\n",
      "Acc. Score: 0.981368869234\n"
     ]
    }
   ],
   "source": [
    "print('OOB Error:',initial_forest.oob_score_) #out-of-bag error\n",
    "print('Acc. Score:',initial_forest.score(train_x, train_y)) #accuracy score"
   ]
  },
  {
   "cell_type": "markdown",
   "metadata": {},
   "source": [
    "Using GridSearchCV to experiment with hyperparameters"
   ]
  },
  {
   "cell_type": "code",
   "execution_count": 10,
   "metadata": {},
   "outputs": [
    {
     "data": {
      "text/plain": [
       "GridSearchCV(cv=5, error_score='raise',\n",
       "       estimator=RandomForestRegressor(bootstrap=True, criterion='mse', max_depth=None,\n",
       "           max_features='auto', max_leaf_nodes=None,\n",
       "           min_impurity_split=1e-07, min_samples_leaf=1,\n",
       "           min_samples_split=2, min_weight_fraction_leaf=0.0,\n",
       "           n_estimators=50, n_jobs=-1, oob_score=True, random_state=None,\n",
       "           verbose=0, warm_start=False),\n",
       "       fit_params={}, iid=True, n_jobs=1,\n",
       "       param_grid=[{'max_features': [2, 4, 7, 9], 'n_jobs': [-1], 'random_state': [0, 20, 40], 'min_samples_leaf': range(1, 10), 'n_estimators': [75, 100, 500, 900]}],\n",
       "       pre_dispatch='2*n_jobs', refit=True, return_train_score=True,\n",
       "       scoring=None, verbose=0)"
      ]
     },
     "execution_count": 10,
     "metadata": {},
     "output_type": "execute_result"
    }
   ],
   "source": [
    "from sklearn.model_selection import GridSearchCV\n",
    "initial_forest.get_params\n",
    "param_grid = [{'n_estimators':[75,100,500,900],'max_features':[2,4,7,9], 'min_samples_leaf':range(1,10), 'random_state':[0,20,40],'n_jobs':[-1]}]\n",
    "grid_search = GridSearchCV(initial_forest, param_grid, cv=5)\n",
    "grid_search.fit(train_x, train_y)"
   ]
  },
  {
   "cell_type": "code",
   "execution_count": 17,
   "metadata": {},
   "outputs": [
    {
     "name": "stdout",
     "output_type": "stream",
     "text": [
      "Best Parameters: {'max_features': 9, 'n_jobs': -1, 'random_state': 40, 'min_samples_leaf': 1, 'n_estimators': 900}\n",
      "Acc. Score: 0.98303546079\n",
      "Best Score: 0.870765045395\n",
      "raise\n"
     ]
    }
   ],
   "source": [
    "print('Best Parameters:',grid_search.best_params_)\n",
    "print('Acc. Score:',grid_search.score(train_x, train_y))\n",
    "print('Best Score:', grid_search.best_score_)\n",
    "#print('CV Results:',grid_search.cv_results_)"
   ]
  },
  {
   "cell_type": "code",
   "execution_count": 22,
   "metadata": {},
   "outputs": [
    {
     "name": "stdout",
     "output_type": "stream",
     "text": [
      "0.12983500000000003\n",
      "0.016965000000000008\n"
     ]
    }
   ],
   "source": [
    "print(1 - .870165)\n",
    "print(1 - .983035)"
   ]
  },
  {
   "cell_type": "code",
   "execution_count": null,
   "metadata": {
    "collapsed": true
   },
   "outputs": [],
   "source": []
  }
 ],
 "metadata": {
  "kernelspec": {
   "display_name": "Python 3",
   "language": "python",
   "name": "python3"
  },
  "language_info": {
   "codemirror_mode": {
    "name": "ipython",
    "version": 3
   },
   "file_extension": ".py",
   "mimetype": "text/x-python",
   "name": "python",
   "nbconvert_exporter": "python",
   "pygments_lexer": "ipython3",
   "version": "3.5.3"
  }
 },
 "nbformat": 4,
 "nbformat_minor": 2
}
