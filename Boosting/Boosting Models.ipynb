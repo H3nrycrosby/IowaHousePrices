{
 "cells": [
  {
   "cell_type": "markdown",
   "metadata": {},
   "source": [
    "###### Importing libraries"
   ]
  },
  {
   "cell_type": "code",
   "execution_count": 1,
   "metadata": {
    "collapsed": true
   },
   "outputs": [],
   "source": [
    "import numpy as np\n",
    "import pandas as pd\n",
    "from matplotlib import pyplot as plt\n",
    "% matplotlib inline"
   ]
  },
  {
   "cell_type": "code",
   "execution_count": 2,
   "metadata": {},
   "outputs": [],
   "source": [
    "%load_ext autoreload\n",
    "%autoreload 2"
   ]
  },
  {
   "cell_type": "markdown",
   "metadata": {},
   "source": [
    "###### Reading in the data to model"
   ]
  },
  {
   "cell_type": "code",
   "execution_count": 3,
   "metadata": {},
   "outputs": [
    {
     "name": "stdout",
     "output_type": "stream",
     "text": [
      "(1459, 104)\n",
      "(1446, 104)\n",
      "(1446, 1)\n"
     ]
    }
   ],
   "source": [
    "X_test = pd.read_csv('../Data/test_x.csv')\n",
    "X = pd.read_csv('../Data/train_x.csv')\n",
    "y = pd.read_csv('../Data/train_y.csv', header = None)\n",
    "print(X_test.shape)\n",
    "print(X.shape)\n",
    "print(y.shape)"
   ]
  },
  {
   "cell_type": "markdown",
   "metadata": {},
   "source": [
    "###### Gradient Boosting (book, p. 198)"
   ]
  },
  {
   "cell_type": "code",
   "execution_count": 122,
   "metadata": {
    "collapsed": true
   },
   "outputs": [],
   "source": [
    "# http://scikit-learn.org/stable/modules/generated/sklearn.ensemble.GradientBoostingRegressor.html"
   ]
  },
  {
   "cell_type": "code",
   "execution_count": 97,
   "metadata": {},
   "outputs": [
    {
     "data": {
      "text/plain": [
       "GradientBoostingRegressor(alpha=0.9, criterion='friedman_mse', init=None,\n",
       "             learning_rate=0.02, loss='ls', max_depth=3, max_features=None,\n",
       "             max_leaf_nodes=None, min_impurity_decrease=0.0,\n",
       "             min_impurity_split=None, min_samples_leaf=1,\n",
       "             min_samples_split=2, min_weight_fraction_leaf=0.0,\n",
       "             n_estimators=1250, presort='auto', random_state=42,\n",
       "             subsample=1.0, verbose=0, warm_start=False)"
      ]
     },
     "execution_count": 97,
     "metadata": {},
     "output_type": "execute_result"
    }
   ],
   "source": [
    "from sklearn.ensemble import GradientBoostingRegressor\n",
    "from sklearn.model_selection import train_test_split\n",
    "from sklearn.metrics import mean_squared_error\n",
    "\n",
    "X_train, X_val, y_train, y_val = train_test_split(X, np.ravel(y))\n",
    "\n",
    "gbrt = GradientBoostingRegressor(max_depth=3, n_estimators=3000, random_state=42, learning_rate = 0.02,\n",
    "                                min_samples_leaf = 15, min_samples_split=10)\n",
    "gbrt.fit(X_train, y_train)\n",
    "\n",
    "errors = [mean_squared_error(y_val, y_pred)\n",
    "          for y_pred in gbrt.staged_predict(X_val)]\n",
    "bst_n_estimators = np.argmin(errors)\n",
    "\n",
    "gbrt_best = GradientBoostingRegressor(max_depth=3, n_estimators=bst_n_estimators, random_state=42, learning_rate = 0.02)\n",
    "gbrt_best.fit(X_train, y_train)"
   ]
  },
  {
   "cell_type": "code",
   "execution_count": 98,
   "metadata": {},
   "outputs": [
    {
     "data": {
      "text/plain": [
       "1250"
      ]
     },
     "execution_count": 98,
     "metadata": {},
     "output_type": "execute_result"
    }
   ],
   "source": [
    "bst_n_estimators  # 270 (OUT OF 300)"
   ]
  },
  {
   "cell_type": "code",
   "execution_count": 99,
   "metadata": {},
   "outputs": [
    {
     "data": {
      "text/plain": [
       "0.014989687644554045"
      ]
     },
     "execution_count": 99,
     "metadata": {},
     "output_type": "execute_result"
    }
   ],
   "source": [
    "min(errors) # 0.014635885043588544"
   ]
  },
  {
   "cell_type": "code",
   "execution_count": 100,
   "metadata": {},
   "outputs": [
    {
     "data": {
      "text/plain": [
       "0.12243237988601727"
      ]
     },
     "execution_count": 100,
     "metadata": {},
     "output_type": "execute_result"
    }
   ],
   "source": [
    "min(errors)**0.5"
   ]
  },
  {
   "cell_type": "code",
   "execution_count": 108,
   "metadata": {
    "collapsed": true
   },
   "outputs": [],
   "source": [
    "boost_model = GradientBoostingRegressor(random_state=42, learning_rate = 0.02, n_estimators = 3000)  # "
   ]
  },
  {
   "cell_type": "code",
   "execution_count": 109,
   "metadata": {},
   "outputs": [],
   "source": [
    "from sklearn import model_selection\n",
    "grid_para_boost = [\n",
    "    {'max_depth': [2, 7, 9],\n",
    "     'min_samples_split': [10, 12, 14],\n",
    "     'max_features': [6, 10]}\n",
    "]"
   ]
  },
  {
   "cell_type": "code",
   "execution_count": 110,
   "metadata": {},
   "outputs": [
    {
     "data": {
      "text/plain": [
       "GridSearchCV(cv=3, error_score='raise',\n",
       "       estimator=GradientBoostingRegressor(alpha=0.9, criterion='friedman_mse', init=None,\n",
       "             learning_rate=0.02, loss='ls', max_depth=3, max_features=None,\n",
       "             max_leaf_nodes=None, min_impurity_decrease=0.0,\n",
       "             min_impurity_split=None, min_samples_leaf=1,\n",
       "             min_samples_split=2, min_weight_fraction_leaf=0.0,\n",
       "             n_estimators=3000, presort='auto', random_state=42,\n",
       "             subsample=1.0, verbose=0, warm_start=False),\n",
       "       fit_params=None, iid=True, n_jobs=-1,\n",
       "       param_grid=[{'max_depth': [2, 7, 9], 'min_samples_split': [10, 12, 14], 'max_features': [6, 10]}],\n",
       "       pre_dispatch='2*n_jobs', refit=True, return_train_score=True,\n",
       "       scoring='neg_mean_squared_error', verbose=0)"
      ]
     },
     "execution_count": 110,
     "metadata": {},
     "output_type": "execute_result"
    }
   ],
   "source": [
    "grid_search_boost = model_selection.GridSearchCV(boost_model, grid_para_boost, scoring='neg_mean_squared_error', cv=3, n_jobs=-1)\n",
    "grid_search_boost.fit(X_train, y_train)"
   ]
  },
  {
   "cell_type": "code",
   "execution_count": 111,
   "metadata": {},
   "outputs": [
    {
     "data": {
      "text/plain": [
       "{'max_depth': 2, 'max_features': 10, 'min_samples_split': 14}"
      ]
     },
     "execution_count": 111,
     "metadata": {},
     "output_type": "execute_result"
    }
   ],
   "source": [
    "grid_search_boost.best_params_"
   ]
  },
  {
   "cell_type": "code",
   "execution_count": 112,
   "metadata": {},
   "outputs": [
    {
     "data": {
      "text/plain": [
       "-0.0055996425091935764"
      ]
     },
     "execution_count": 112,
     "metadata": {},
     "output_type": "execute_result"
    }
   ],
   "source": [
    "grid_search_boost.score(X_train, y_train)"
   ]
  },
  {
   "cell_type": "code",
   "execution_count": 117,
   "metadata": {},
   "outputs": [
    {
     "name": "stdout",
     "output_type": "stream",
     "text": [
      "      Iter       Train Loss   Remaining Time \n",
      "         1           0.1562            0.00s\n",
      "         2           0.1547            0.00s\n",
      "         3           0.1533            0.00s\n",
      "         4           0.1518            0.00s\n",
      "         5           0.1504            5.21m\n",
      "         6           0.1485            4.34m\n",
      "         7           0.1477            3.72m\n",
      "         8           0.1463            3.26m\n",
      "         9           0.1447            2.89m\n",
      "        10           0.1427            2.60m\n",
      "        20           0.1250            2.60m\n",
      "        30           0.1100            1.74m\n",
      "        40           0.0991            1.95m\n",
      "        50           0.0891            1.56m\n",
      "        60           0.0806            1.74m\n",
      "        70           0.0732            1.49m\n",
      "        80           0.0673            1.30m\n",
      "        90           0.0623            1.45m\n",
      "       100           0.0576            1.30m\n",
      "       200           0.0329            1.15m\n",
      "       300           0.0233           56.45s\n",
      "       400           0.0189           55.95s\n",
      "       500           0.0161           53.41s\n",
      "       600           0.0143           51.00s\n",
      "       700           0.0129           48.10s\n",
      "       800           0.0119           45.92s\n",
      "       900           0.0111           45.94s\n",
      "      1000           0.0104           45.58s\n",
      "      2000           0.0070           50.59s\n",
      "      3000           0.0054           47.16s\n",
      "      4000           0.0044           44.59s\n",
      "      5000           0.0036           42.89s\n",
      "      6000           0.0030           41.38s\n",
      "      7000           0.0026           40.19s\n",
      "      8000           0.0023           40.24s\n",
      "      9000           0.0020           41.10s\n",
      "     10000           0.0017           40.11s\n",
      "     20000           0.0006           41.90s\n",
      "     30000           0.0002           40.74s\n",
      "     40000           0.0001           32.38s\n",
      "     50000           0.0001           28.08s\n",
      "     60000           0.0000           22.30s\n",
      "     70000           0.0000           16.98s\n",
      "     80000           0.0000           11.71s\n",
      "     90000           0.0000            5.99s\n",
      "    100000           0.0000            0.00s\n"
     ]
    }
   ],
   "source": [
    "X_train, X_val, y_train, y_val = train_test_split(X, np.ravel(y))\n",
    "\n",
    "gbrt = GradientBoostingRegressor(max_depth = 2, max_features = 10, min_samples_split = 14,\n",
    "    random_state=42, learning_rate = 0.02, n_estimators = 100000, verbose = 1)\n",
    "gbrt.fit(X_train, y_train)\n",
    "\n",
    "errors = [mean_squared_error(y_val, y_pred)**0.5\n",
    "          for y_pred in gbrt.staged_predict(X_val)]\n",
    "bst_n_estimators = np.argmin(errors)\n",
    "\n",
    "# gbrt_best = GradientBoostingRegressor()\n",
    "# gbrt_best.fit(X_train, y_train)"
   ]
  },
  {
   "cell_type": "code",
   "execution_count": 118,
   "metadata": {},
   "outputs": [
    {
     "data": {
      "text/plain": [
       "6706"
      ]
     },
     "execution_count": 118,
     "metadata": {},
     "output_type": "execute_result"
    }
   ],
   "source": [
    "bst_n_estimators  # 270 (OUT OF 300)"
   ]
  },
  {
   "cell_type": "code",
   "execution_count": 119,
   "metadata": {},
   "outputs": [
    {
     "data": {
      "text/plain": [
       "0.11978486920254075"
      ]
     },
     "execution_count": 119,
     "metadata": {},
     "output_type": "execute_result"
    }
   ],
   "source": [
    "min(errors)"
   ]
  },
  {
   "cell_type": "code",
   "execution_count": null,
   "metadata": {
    "collapsed": true
   },
   "outputs": [],
   "source": []
  }
 ],
 "metadata": {
  "kernelspec": {
   "display_name": "Python 3",
   "language": "python",
   "name": "python3"
  },
  "language_info": {
   "codemirror_mode": {
    "name": "ipython",
    "version": 3
   },
   "file_extension": ".py",
   "mimetype": "text/x-python",
   "name": "python",
   "nbconvert_exporter": "python",
   "pygments_lexer": "ipython3",
   "version": "3.6.1"
  }
 },
 "nbformat": 4,
 "nbformat_minor": 2
}
